{
 "cells": [
  {
   "cell_type": "markdown",
   "id": "01148799-b3bb-4ded-856e-5dedb7af0eba",
   "metadata": {
    "colab": {
     "base_uri": "https://localhost:8080/"
    },
    "executionInfo": {
     "elapsed": 1172,
     "status": "ok",
     "timestamp": 1670264490534,
     "user": {
      "displayName": "Alexis Janin",
      "userId": "06183722824926644012"
     },
     "user_tz": -60
    },
    "id": "fIH5zV82ikCD",
    "outputId": "17045f43-dc86-4a45-fc64-9b6c09593125"
   },
   "source": [
    "gpu_info = !nvidia-smi\n",
    "gpu_info = '\\n'.join(gpu_info)\n",
    "if gpu_info.find('failed') >= 0:\n",
    "  print('Not connected to a GPU')\n",
    "else:\n",
    "  print(gpu_info)"
   ]
  },
  {
   "cell_type": "markdown",
   "id": "938b092c-d3e8-407b-8f69-72bdf0ab24d6",
   "metadata": {
    "colab": {
     "base_uri": "https://localhost:8080/"
    },
    "executionInfo": {
     "elapsed": 237,
     "status": "ok",
     "timestamp": 1670264494610,
     "user": {
      "displayName": "Alexis Janin",
      "userId": "06183722824926644012"
     },
     "user_tz": -60
    },
    "id": "PMX6b1fuik0W",
    "outputId": "53efa645-7fcc-4217-9f85-0d84e08cd5c4"
   },
   "source": [
    "from psutil import virtual_memory\n",
    "ram_gb = virtual_memory().total / 1e9\n",
    "print('Your runtime has {:.1f} gigabytes of available RAM\\n'.format(ram_gb))\n",
    "\n",
    "if ram_gb < 20:\n",
    "  print('Not using a high-RAM runtime')\n",
    "else:\n",
    "  print('You are using a high-RAM runtime!')"
   ]
  },
  {
   "cell_type": "markdown",
   "id": "c5ad331a-ceec-4bb8-9432-129b0f7d3ae3",
   "metadata": {
    "colab": {
     "base_uri": "https://localhost:8080/"
    },
    "executionInfo": {
     "elapsed": 5079,
     "status": "ok",
     "timestamp": 1670265864034,
     "user": {
      "displayName": "Alexis Janin",
      "userId": "06183722824926644012"
     },
     "user_tz": -60
    },
    "id": "vTvz9Ho5SDFV",
    "outputId": "38a6f9e2-8c74-4518-beff-c509c89c4041"
   },
   "source": [
    "!pip install cellpose"
   ]
  },
  {
   "cell_type": "markdown",
   "id": "842a6448-9985-4690-8370-a9f26b245f9c",
   "metadata": {
    "colab": {
     "base_uri": "https://localhost:8080/"
    },
    "executionInfo": {
     "elapsed": 10142,
     "status": "ok",
     "timestamp": 1670266045675,
     "user": {
      "displayName": "Alexis Janin",
      "userId": "06183722824926644012"
     },
     "user_tz": -60
    },
    "id": "kJPw7TghSUVR",
    "outputId": "9dcaab09-36a2-45f0-a3a4-609ec55af920"
   },
   "source": [
    "from google.colab import drive\n",
    "drive.mount('/content/gdrive',force_remount=True)"
   ]
  },
  {
   "cell_type": "code",
   "execution_count": 23,
   "id": "7880d81b-28e4-4e28-9d81-bb5833bd69c3",
   "metadata": {},
   "outputs": [],
   "source": [
    "# Import modules\n",
    "import numpy as np\n",
    "import time, os, sys, random\n",
    "from urllib.parse import urlparse\n",
    "import skimage.io\n",
    "import matplotlib.pyplot as plt\n",
    "import matplotlib as mpl\n",
    "#from cellpose import models\n",
    "#from cellpose.io import imread\n",
    "#from cellpose import plot\n",
    "from skimage.util import img_as_ubyte\n",
    "import pandas as pd\n",
    "from skimage.measure import label, regionprops\n",
    "from skimage.measure import label, regionprops\n",
    "from skimage import measure"
   ]
  },
  {
   "cell_type": "code",
   "execution_count": 24,
   "id": "3dd976f8-c328-411d-860b-995d6c65feb1",
   "metadata": {},
   "outputs": [],
   "source": [
    "import scipy\n",
    "from scipy import ndimage as ndi\n",
    "import cv2\n",
    "from skimage.morphology import square, dilation\n",
    "from sklearn.cluster import KMeans, DBSCAN\n",
    "# https://stackoverflow.com/questions/19970764/making-feature-vector-from-gabor-filters-for-classification\n",
    "# https://stackoverflow.com/questions/20608458/gabor-feature-extraction"
   ]
  },
  {
   "cell_type": "code",
   "execution_count": 25,
   "id": "fa4927bc-ebe9-4547-a4a5-a1a1e351c216",
   "metadata": {},
   "outputs": [],
   "source": [
    "#cross validation with polynomial expansion\n",
    "import matplotlib.pyplot as plt \n",
    "from sklearn.linear_model import LinearRegression\n",
    "from sklearn.preprocessing import PolynomialFeatures\n",
    "from sklearn.metrics import r2_score\n",
    "from sklearn.metrics import mean_squared_error\n",
    "from sklearn.model_selection import cross_validate\n",
    "from sklearn.model_selection import train_test_split\n",
    "from sklearn.linear_model import RidgeCV\n",
    "import statsmodels.formula.api as smf\n",
    "import seaborn as sns\n",
    "import re\n",
    "import sklearn\n",
    "from sklearn.model_selection import train_test_split\n",
    "from sklearn.preprocessing import MinMaxScaler\n",
    "from sklearn.preprocessing import PolynomialFeatures\n",
    "from sklearn.preprocessing import scale\n",
    "from sklearn.feature_selection import RFE\n",
    "from sklearn.linear_model import LinearRegression\n",
    "from sklearn.model_selection import cross_val_score\n",
    "from sklearn.model_selection import KFold\n",
    "from sklearn.model_selection import GridSearchCV\n",
    "from sklearn.pipeline import make_pipeline\n",
    "import statsmodels.api as sm"
   ]
  },
  {
   "cell_type": "markdown",
   "id": "9db57d46-5502-4c69-b3e5-77ed104caf32",
   "metadata": {
    "tags": []
   },
   "source": [
    "# Read csv"
   ]
  },
  {
   "cell_type": "code",
   "execution_count": 26,
   "id": "891d4e7f-695f-499b-8305-0fecb9101218",
   "metadata": {},
   "outputs": [],
   "source": [
    "df = pd.read_csv ('../Features/TF1_C1.csv')\n",
    "df = df.iloc[1: , :]\n"
   ]
  },
  {
   "cell_type": "code",
   "execution_count": 27,
   "id": "4095425f-1d07-468a-ba6d-c189a04659e4",
   "metadata": {},
   "outputs": [],
   "source": [
    "ypet_intensity = df.copy()"
   ]
  },
  {
   "cell_type": "code",
   "execution_count": 28,
   "id": "eeb3ee48-0d37-4895-b2c9-023d5e027c75",
   "metadata": {},
   "outputs": [],
   "source": [
    "ypet_intensity['Circularity'] = (4*np.pi*ypet_intensity['patch_size'])/(ypet_intensity['Perimeter']**2)"
   ]
  },
  {
   "cell_type": "markdown",
   "id": "7e811a30-a060-4c38-9c49-8981ad081738",
   "metadata": {},
   "source": [
    "***\n",
    "# Preprocessing"
   ]
  },
  {
   "cell_type": "markdown",
   "id": "3ba66c31-7080-43e6-bab1-d7318e5a3861",
   "metadata": {},
   "source": [
    "### Outlier removal\n",
    "\n",
    "To adapt is the columns where we want to change the outliers"
   ]
  },
  {
   "cell_type": "code",
   "execution_count": 29,
   "id": "0f58461b-0c8a-4543-960a-31365bdd98b9",
   "metadata": {},
   "outputs": [],
   "source": [
    "columns_outliers = ['mean_intensity','patch_size']\n",
    "remove_outliers = ypet_intensity.copy()\n",
    "\n",
    "def outlier_removal(without_outliers, outlier_range = 4):\n",
    "    columns_outliers= ['mean_intensity', 'median_intensity','sum_intensity','feret_diameter_max']    \n",
    "    # Use a for loop to iterate over the columns of the dataframe\n",
    "    for col in columns_outliers:\n",
    "        # Look up the threshold value for the current column using the dictionary\n",
    "        \"\"\"\n",
    "        median = without_outliers[col].median()\n",
    "        q_75 = without_outliers[col].quantile(q = 0.75)\n",
    "        q_25 = without_outliers[col].quantile(q = 0.25)\n",
    "        interquantile = q_75 - q_25                              \n",
    "        upper_bound = median + (interquantile * outlier_range)\n",
    "        lower_bound = median - (interquantile * outlier_range)\n",
    "        \"\"\"\n",
    "        q_95 = without_outliers[col].quantile(q = 0.99)\n",
    "      # Create a boolean mask that is True for rows with a value less than or equal to the threshold\n",
    "        #mask = (without_outliers[col] <= upper_bound) & (without_outliers[col] >= lower_bound)\n",
    "        mask = without_outliers[col] <= q_95\n",
    "      # Use the mask to filter the dataframe and keep only the rows with a value less than or equal to the threshold\n",
    "        without_outliers = without_outliers[mask]\n",
    "        \n",
    "    return without_outliers\n"
   ]
  },
  {
   "cell_type": "code",
   "execution_count": 30,
   "id": "693cc466-5487-490c-9a5f-d9e2b5b8e88b",
   "metadata": {
    "tags": []
   },
   "outputs": [],
   "source": [
    "without_outliers = remove_outliers.groupby('TF_name',as_index=False).apply(outlier_removal).reset_index()\n",
    "without_outliers = without_outliers.drop(['level_0'],axis=1)\n",
    "without_outliers = without_outliers.set_index('level_1')\n",
    "without_outliers.index.name = None"
   ]
  },
  {
   "cell_type": "code",
   "execution_count": 31,
   "id": "485c9a3b-3eff-4174-9aef-227a38faf72c",
   "metadata": {},
   "outputs": [],
   "source": [
    "ypet_intensity_processed = without_outliers.copy()"
   ]
  },
  {
   "cell_type": "code",
   "execution_count": 32,
   "id": "b42e187f",
   "metadata": {},
   "outputs": [],
   "source": [
    "#Add a name to the first column\n",
    "colnames = list(ypet_intensity_processed)\n",
    "colnames[0] = 'patch'\n",
    "ypet_intensity_processed.columns = colnames\n"
   ]
  },
  {
   "cell_type": "markdown",
   "id": "aaf42e31-7543-4217-9293-de18eb9b207a",
   "metadata": {},
   "source": [
    "### Normalize ypet_intensity for each TF after we've concenated all df"
   ]
  },
  {
   "cell_type": "code",
   "execution_count": 33,
   "id": "d1b4d9eb-d914-4289-8961-e3d15d1c37d0",
   "metadata": {},
   "outputs": [],
   "source": [
    "# Normalize \n",
    "rows_to_be_normalized = list(ypet_intensity_processed)[7:]  #['mean_intensity', 'median_intensity', 'sum_intensity', 'feret_diameter_max']\n",
    "TF_grouped = ypet_intensity_processed.groupby('TF_name')\n",
    "Normalized_rows = TF_grouped[rows_to_be_normalized].transform(lambda x: (x - x.mean()) / x.std())\n",
    "\n",
    "# Replace normalized\n",
    "ypet_intensity_processed[rows_to_be_normalized] = Normalized_rows"
   ]
  },
  {
   "cell_type": "code",
   "execution_count": 34,
   "id": "a9cfeaac-5b14-4e92-88ee-df8dae8db47c",
   "metadata": {},
   "outputs": [
    {
     "data": {
      "text/html": [
       "<div>\n",
       "<style scoped>\n",
       "    .dataframe tbody tr th:only-of-type {\n",
       "        vertical-align: middle;\n",
       "    }\n",
       "\n",
       "    .dataframe tbody tr th {\n",
       "        vertical-align: top;\n",
       "    }\n",
       "\n",
       "    .dataframe thead th {\n",
       "        text-align: right;\n",
       "    }\n",
       "</style>\n",
       "<table border=\"1\" class=\"dataframe\">\n",
       "  <thead>\n",
       "    <tr style=\"text-align: right;\">\n",
       "      <th></th>\n",
       "      <th>patch</th>\n",
       "      <th>img</th>\n",
       "      <th>fld</th>\n",
       "      <th>TF_name</th>\n",
       "      <th>blur_lapl</th>\n",
       "      <th>blur_ski</th>\n",
       "      <th>patch_size</th>\n",
       "      <th>mean_intensity</th>\n",
       "      <th>sum_intensity</th>\n",
       "      <th>median_intensity</th>\n",
       "      <th>...</th>\n",
       "      <th>gabro_15</th>\n",
       "      <th>lbp_0</th>\n",
       "      <th>lbp_1</th>\n",
       "      <th>lbp_2</th>\n",
       "      <th>lbp_3</th>\n",
       "      <th>lbp_4</th>\n",
       "      <th>lbp_5</th>\n",
       "      <th>lbp_6</th>\n",
       "      <th>lbp_7</th>\n",
       "      <th>Circularity</th>\n",
       "    </tr>\n",
       "  </thead>\n",
       "  <tbody>\n",
       "    <tr>\n",
       "      <th>1</th>\n",
       "      <td>patch_0</td>\n",
       "      <td>0</td>\n",
       "      <td>1</td>\n",
       "      <td>C - 1</td>\n",
       "      <td>False</td>\n",
       "      <td>False</td>\n",
       "      <td>1010</td>\n",
       "      <td>0.369009</td>\n",
       "      <td>-0.503492</td>\n",
       "      <td>0.423986</td>\n",
       "      <td>...</td>\n",
       "      <td>-0.467023</td>\n",
       "      <td>-0.855568</td>\n",
       "      <td>0.293038</td>\n",
       "      <td>0.268794</td>\n",
       "      <td>0.997357</td>\n",
       "      <td>0.836572</td>\n",
       "      <td>0.461975</td>\n",
       "      <td>-1.476355</td>\n",
       "      <td>-0.683799</td>\n",
       "      <td>0.447187</td>\n",
       "    </tr>\n",
       "    <tr>\n",
       "      <th>2</th>\n",
       "      <td>patch_1</td>\n",
       "      <td>0</td>\n",
       "      <td>1</td>\n",
       "      <td>C - 1</td>\n",
       "      <td>False</td>\n",
       "      <td>False</td>\n",
       "      <td>1472</td>\n",
       "      <td>1.726834</td>\n",
       "      <td>1.060837</td>\n",
       "      <td>1.690352</td>\n",
       "      <td>...</td>\n",
       "      <td>-0.059198</td>\n",
       "      <td>-0.475060</td>\n",
       "      <td>-0.016948</td>\n",
       "      <td>1.284639</td>\n",
       "      <td>-0.575009</td>\n",
       "      <td>-0.157397</td>\n",
       "      <td>-0.299499</td>\n",
       "      <td>0.155681</td>\n",
       "      <td>0.701151</td>\n",
       "      <td>0.968608</td>\n",
       "    </tr>\n",
       "    <tr>\n",
       "      <th>3</th>\n",
       "      <td>patch_2</td>\n",
       "      <td>0</td>\n",
       "      <td>1</td>\n",
       "      <td>C - 1</td>\n",
       "      <td>False</td>\n",
       "      <td>False</td>\n",
       "      <td>1423</td>\n",
       "      <td>0.194363</td>\n",
       "      <td>0.234503</td>\n",
       "      <td>0.195162</td>\n",
       "      <td>...</td>\n",
       "      <td>-0.305964</td>\n",
       "      <td>-0.378718</td>\n",
       "      <td>-0.201655</td>\n",
       "      <td>0.561553</td>\n",
       "      <td>0.631594</td>\n",
       "      <td>-0.392077</td>\n",
       "      <td>-0.420930</td>\n",
       "      <td>0.869249</td>\n",
       "      <td>-0.106266</td>\n",
       "      <td>0.868947</td>\n",
       "    </tr>\n",
       "    <tr>\n",
       "      <th>4</th>\n",
       "      <td>patch_3</td>\n",
       "      <td>0</td>\n",
       "      <td>1</td>\n",
       "      <td>C - 1</td>\n",
       "      <td>False</td>\n",
       "      <td>False</td>\n",
       "      <td>2067</td>\n",
       "      <td>-0.138001</td>\n",
       "      <td>1.251602</td>\n",
       "      <td>-0.137102</td>\n",
       "      <td>...</td>\n",
       "      <td>-0.326848</td>\n",
       "      <td>0.688141</td>\n",
       "      <td>0.347237</td>\n",
       "      <td>0.946738</td>\n",
       "      <td>-0.982813</td>\n",
       "      <td>-0.367291</td>\n",
       "      <td>-0.485677</td>\n",
       "      <td>-1.156724</td>\n",
       "      <td>0.584723</td>\n",
       "      <td>0.376376</td>\n",
       "    </tr>\n",
       "    <tr>\n",
       "      <th>5</th>\n",
       "      <td>patch_4</td>\n",
       "      <td>0</td>\n",
       "      <td>1</td>\n",
       "      <td>C - 1</td>\n",
       "      <td>False</td>\n",
       "      <td>False</td>\n",
       "      <td>1206</td>\n",
       "      <td>-0.143395</td>\n",
       "      <td>-0.315508</td>\n",
       "      <td>-0.146506</td>\n",
       "      <td>...</td>\n",
       "      <td>-0.131992</td>\n",
       "      <td>0.254990</td>\n",
       "      <td>0.199143</td>\n",
       "      <td>-0.619563</td>\n",
       "      <td>0.296653</td>\n",
       "      <td>-0.609848</td>\n",
       "      <td>-0.238765</td>\n",
       "      <td>0.159365</td>\n",
       "      <td>0.303402</td>\n",
       "      <td>-1.075822</td>\n",
       "    </tr>\n",
       "    <tr>\n",
       "      <th>...</th>\n",
       "      <td>...</td>\n",
       "      <td>...</td>\n",
       "      <td>...</td>\n",
       "      <td>...</td>\n",
       "      <td>...</td>\n",
       "      <td>...</td>\n",
       "      <td>...</td>\n",
       "      <td>...</td>\n",
       "      <td>...</td>\n",
       "      <td>...</td>\n",
       "      <td>...</td>\n",
       "      <td>...</td>\n",
       "      <td>...</td>\n",
       "      <td>...</td>\n",
       "      <td>...</td>\n",
       "      <td>...</td>\n",
       "      <td>...</td>\n",
       "      <td>...</td>\n",
       "      <td>...</td>\n",
       "      <td>...</td>\n",
       "      <td>...</td>\n",
       "    </tr>\n",
       "    <tr>\n",
       "      <th>1676</th>\n",
       "      <td>patch_0</td>\n",
       "      <td>11</td>\n",
       "      <td>12</td>\n",
       "      <td>C - 1</td>\n",
       "      <td>False</td>\n",
       "      <td>False</td>\n",
       "      <td>130</td>\n",
       "      <td>-0.165673</td>\n",
       "      <td>-2.270359</td>\n",
       "      <td>-0.184121</td>\n",
       "      <td>...</td>\n",
       "      <td>1.079627</td>\n",
       "      <td>0.106540</td>\n",
       "      <td>-2.331042</td>\n",
       "      <td>0.157422</td>\n",
       "      <td>2.752363</td>\n",
       "      <td>2.304828</td>\n",
       "      <td>-0.675781</td>\n",
       "      <td>-2.709786</td>\n",
       "      <td>-0.978031</td>\n",
       "      <td>-0.007447</td>\n",
       "    </tr>\n",
       "    <tr>\n",
       "      <th>1677</th>\n",
       "      <td>patch_1</td>\n",
       "      <td>11</td>\n",
       "      <td>12</td>\n",
       "      <td>C - 1</td>\n",
       "      <td>False</td>\n",
       "      <td>False</td>\n",
       "      <td>128</td>\n",
       "      <td>-0.096507</td>\n",
       "      <td>-2.271103</td>\n",
       "      <td>-0.162179</td>\n",
       "      <td>...</td>\n",
       "      <td>-0.093960</td>\n",
       "      <td>-0.091937</td>\n",
       "      <td>-1.733039</td>\n",
       "      <td>3.577943</td>\n",
       "      <td>2.777860</td>\n",
       "      <td>1.022326</td>\n",
       "      <td>2.833430</td>\n",
       "      <td>-3.337604</td>\n",
       "      <td>-4.745512</td>\n",
       "      <td>2.003103</td>\n",
       "    </tr>\n",
       "    <tr>\n",
       "      <th>1678</th>\n",
       "      <td>patch_2</td>\n",
       "      <td>11</td>\n",
       "      <td>12</td>\n",
       "      <td>C - 1</td>\n",
       "      <td>False</td>\n",
       "      <td>False</td>\n",
       "      <td>254</td>\n",
       "      <td>-0.142359</td>\n",
       "      <td>-2.044162</td>\n",
       "      <td>-0.130833</td>\n",
       "      <td>...</td>\n",
       "      <td>-0.356170</td>\n",
       "      <td>2.014754</td>\n",
       "      <td>0.520487</td>\n",
       "      <td>0.533161</td>\n",
       "      <td>1.102370</td>\n",
       "      <td>-1.787361</td>\n",
       "      <td>-1.536034</td>\n",
       "      <td>-0.355368</td>\n",
       "      <td>-1.449059</td>\n",
       "      <td>1.121301</td>\n",
       "    </tr>\n",
       "    <tr>\n",
       "      <th>1679</th>\n",
       "      <td>patch_3</td>\n",
       "      <td>11</td>\n",
       "      <td>12</td>\n",
       "      <td>C - 1</td>\n",
       "      <td>False</td>\n",
       "      <td>False</td>\n",
       "      <td>1219</td>\n",
       "      <td>0.793300</td>\n",
       "      <td>0.078612</td>\n",
       "      <td>0.797000</td>\n",
       "      <td>...</td>\n",
       "      <td>-0.518490</td>\n",
       "      <td>-0.742479</td>\n",
       "      <td>-0.291194</td>\n",
       "      <td>0.360238</td>\n",
       "      <td>0.858571</td>\n",
       "      <td>0.576052</td>\n",
       "      <td>0.825117</td>\n",
       "      <td>0.010857</td>\n",
       "      <td>-1.110346</td>\n",
       "      <td>-0.525780</td>\n",
       "    </tr>\n",
       "    <tr>\n",
       "      <th>1680</th>\n",
       "      <td>patch_4</td>\n",
       "      <td>11</td>\n",
       "      <td>12</td>\n",
       "      <td>C - 1</td>\n",
       "      <td>False</td>\n",
       "      <td>False</td>\n",
       "      <td>187</td>\n",
       "      <td>-0.677895</td>\n",
       "      <td>-2.198346</td>\n",
       "      <td>-0.669979</td>\n",
       "      <td>...</td>\n",
       "      <td>-0.036602</td>\n",
       "      <td>0.274319</td>\n",
       "      <td>2.470454</td>\n",
       "      <td>1.394611</td>\n",
       "      <td>1.345669</td>\n",
       "      <td>-1.602492</td>\n",
       "      <td>-2.410347</td>\n",
       "      <td>-3.093640</td>\n",
       "      <td>0.342621</td>\n",
       "      <td>1.975114</td>\n",
       "    </tr>\n",
       "  </tbody>\n",
       "</table>\n",
       "<p>1612 rows × 47 columns</p>\n",
       "</div>"
      ],
      "text/plain": [
       "        patch  img  fld TF_name  blur_lapl  blur_ski  patch_size  \\\n",
       "1     patch_0    0    1   C - 1      False     False        1010   \n",
       "2     patch_1    0    1   C - 1      False     False        1472   \n",
       "3     patch_2    0    1   C - 1      False     False        1423   \n",
       "4     patch_3    0    1   C - 1      False     False        2067   \n",
       "5     patch_4    0    1   C - 1      False     False        1206   \n",
       "...       ...  ...  ...     ...        ...       ...         ...   \n",
       "1676  patch_0   11   12   C - 1      False     False         130   \n",
       "1677  patch_1   11   12   C - 1      False     False         128   \n",
       "1678  patch_2   11   12   C - 1      False     False         254   \n",
       "1679  patch_3   11   12   C - 1      False     False        1219   \n",
       "1680  patch_4   11   12   C - 1      False     False         187   \n",
       "\n",
       "      mean_intensity  sum_intensity  median_intensity  ...  gabro_15  \\\n",
       "1           0.369009      -0.503492          0.423986  ... -0.467023   \n",
       "2           1.726834       1.060837          1.690352  ... -0.059198   \n",
       "3           0.194363       0.234503          0.195162  ... -0.305964   \n",
       "4          -0.138001       1.251602         -0.137102  ... -0.326848   \n",
       "5          -0.143395      -0.315508         -0.146506  ... -0.131992   \n",
       "...              ...            ...               ...  ...       ...   \n",
       "1676       -0.165673      -2.270359         -0.184121  ...  1.079627   \n",
       "1677       -0.096507      -2.271103         -0.162179  ... -0.093960   \n",
       "1678       -0.142359      -2.044162         -0.130833  ... -0.356170   \n",
       "1679        0.793300       0.078612          0.797000  ... -0.518490   \n",
       "1680       -0.677895      -2.198346         -0.669979  ... -0.036602   \n",
       "\n",
       "         lbp_0     lbp_1     lbp_2     lbp_3     lbp_4     lbp_5     lbp_6  \\\n",
       "1    -0.855568  0.293038  0.268794  0.997357  0.836572  0.461975 -1.476355   \n",
       "2    -0.475060 -0.016948  1.284639 -0.575009 -0.157397 -0.299499  0.155681   \n",
       "3    -0.378718 -0.201655  0.561553  0.631594 -0.392077 -0.420930  0.869249   \n",
       "4     0.688141  0.347237  0.946738 -0.982813 -0.367291 -0.485677 -1.156724   \n",
       "5     0.254990  0.199143 -0.619563  0.296653 -0.609848 -0.238765  0.159365   \n",
       "...        ...       ...       ...       ...       ...       ...       ...   \n",
       "1676  0.106540 -2.331042  0.157422  2.752363  2.304828 -0.675781 -2.709786   \n",
       "1677 -0.091937 -1.733039  3.577943  2.777860  1.022326  2.833430 -3.337604   \n",
       "1678  2.014754  0.520487  0.533161  1.102370 -1.787361 -1.536034 -0.355368   \n",
       "1679 -0.742479 -0.291194  0.360238  0.858571  0.576052  0.825117  0.010857   \n",
       "1680  0.274319  2.470454  1.394611  1.345669 -1.602492 -2.410347 -3.093640   \n",
       "\n",
       "         lbp_7  Circularity  \n",
       "1    -0.683799     0.447187  \n",
       "2     0.701151     0.968608  \n",
       "3    -0.106266     0.868947  \n",
       "4     0.584723     0.376376  \n",
       "5     0.303402    -1.075822  \n",
       "...        ...          ...  \n",
       "1676 -0.978031    -0.007447  \n",
       "1677 -4.745512     2.003103  \n",
       "1678 -1.449059     1.121301  \n",
       "1679 -1.110346    -0.525780  \n",
       "1680  0.342621     1.975114  \n",
       "\n",
       "[1612 rows x 47 columns]"
      ]
     },
     "execution_count": 34,
     "metadata": {},
     "output_type": "execute_result"
    }
   ],
   "source": [
    "ypet_intensity_processed"
   ]
  },
  {
   "cell_type": "markdown",
   "id": "5a0f6092-1b03-4699-86b5-3bbdbdd0de59",
   "metadata": {},
   "source": [
    "***"
   ]
  },
  {
   "cell_type": "markdown",
   "id": "5766179b-b21f-4caa-9f79-281d6dbf5585",
   "metadata": {},
   "source": [
    "# Task 1"
   ]
  },
  {
   "cell_type": "code",
   "execution_count": 35,
   "id": "85217c8a-5f90-45bb-b8ec-e43b387f03d3",
   "metadata": {},
   "outputs": [
    {
     "data": {
      "text/plain": [
       "\"\\ndf_train_x = df_train[[testfeature[0]]]\\ndf_test_x = df_test[[testfeature[0]]]\\n\\ndf_train_y = df_train[['patch_size']]\\ndf_test_y = df_test[['patch_size']]\\n\""
      ]
     },
     "execution_count": 35,
     "metadata": {},
     "output_type": "execute_result"
    }
   ],
   "source": [
    "# Split train test\n",
    "df_train, df_test = train_test_split(ypet_intensity_processed, train_size = 0.8, test_size = 0.2, random_state = 10)\n",
    "\n",
    "testfeature = ['mean_intensity', 'sum_intensity', 'median_intensity','feret_diameter_max', 'Circularity']\n",
    "\n",
    "\n",
    "df_train_x = df_train[['patch_size']]\n",
    "df_test_x = df_test[['patch_size']]\n",
    "\n",
    "df_train_y = df_train[[testfeature[2]]]\n",
    "df_test_y = df_test[[testfeature[2]]]\n",
    "\n",
    "\"\"\"\n",
    "df_train_x = df_train[[testfeature[0]]]\n",
    "df_test_x = df_test[[testfeature[0]]]\n",
    "\n",
    "df_train_y = df_train[['patch_size']]\n",
    "df_test_y = df_test[['patch_size']]\n",
    "\"\"\""
   ]
  },
  {
   "cell_type": "code",
   "execution_count": 36,
   "id": "2bb9c9df-7259-4808-b1e3-79720eb6c159",
   "metadata": {},
   "outputs": [],
   "source": [
    "#model to select\n",
    "maxdegree = 5 #To define is the maximum degree of the polynomial\n",
    "cross_validation_ridge_error = np.zeros(maxdegree-1)\n",
    "cross_validation_lm_error = np.zeros(maxdegree-1)\n",
    "\n",
    "#see which degree fits data the best for linear regression\n",
    "for d in range(1, maxdegree):\n",
    "    #polynomial feature expansion of x_train\n",
    "    x_poly_train = PolynomialFeatures(degree=d).fit_transform(df_train_x)\n",
    "    #apply linear regression model and cross-validation for alpha-ridge regression\n",
    "    lr = LinearRegression()\n",
    "    rr = RidgeCV(alphas=[1e-3, 1e-2, 1e-1, 1])\n",
    "    #apply cross validation\n",
    "    cve = cross_validate(lr,x_poly_train,df_train_y,scoring='neg_mean_squared_error', cv=5, return_train_score=True)\n",
    "    crr = cross_validate(rr,x_poly_train,df_train_y,scoring='neg_mean_squared_error', cv=5, return_train_score=True)\n",
    "    #make array for cross validation with linear model and for ridge regression\n",
    "    cross_validation_lm_error[d-1] = np.mean(np.absolute(cve['test_score']))\n",
    "    cross_validation_ridge_error[d-1] = np.mean(np.absolute(crr['test_score']))"
   ]
  },
  {
   "cell_type": "code",
   "execution_count": 37,
   "id": "da3b7444-d516-41ce-a05d-3885e3c6fb40",
   "metadata": {},
   "outputs": [],
   "source": [
    "index_min_lm = np.argmin(cross_validation_lm_error)\n",
    "index_min_ridge = np.argmin(cross_validation_ridge_error)\n",
    "x_poly_test = PolynomialFeatures(degree=index_min_lm+1).fit_transform(df_test_x)\n",
    "x_poly_train = PolynomialFeatures(degree=index_min_lm+1).fit_transform(df_train_x)\n",
    "\n",
    "x_poly_train_df = pd.DataFrame(x_poly_train)\n",
    "x_poly_test_df = pd.DataFrame(x_poly_test)\n",
    "\n",
    "#make linear model\n",
    "model_lm = LinearRegression().fit(x_poly_train_df, df_train_y)\n",
    "model_ridge = RidgeCV(alphas=[1e-3, 1e-2, 1e-1, 1]).fit(x_poly_train_df, df_train_y)\n",
    "\n",
    "#train error\n",
    "y_train_pred_lm = model_lm.predict(x_poly_train)\n",
    "mse_train_lm = mean_squared_error(df_train_y,y_train_pred_lm)\n",
    "y_train_pred_ridge = model_ridge.predict(x_poly_train)\n",
    "mse_train_ridge = mean_squared_error(df_train_y,y_train_pred_ridge)\n",
    "\n",
    "#test error\n",
    "y_test_pred_lm = model_lm.predict(x_poly_test_df)\n",
    "mse_test_lm = mean_squared_error(df_test_y,y_test_pred_lm)\n",
    "y_test_pred_ridge = model_ridge.predict(x_poly_test_df)\n",
    "mse_test_ridge = mean_squared_error(df_test_y,y_test_pred_ridge)"
   ]
  },
  {
   "cell_type": "code",
   "execution_count": 38,
   "id": "43919569-b65d-482b-b8fe-bddc67e015f2",
   "metadata": {},
   "outputs": [
    {
     "data": {
      "text/plain": [
       "<AxesSubplot:xlabel='patch_size', ylabel='median_intensity'>"
      ]
     },
     "execution_count": 38,
     "metadata": {},
     "output_type": "execute_result"
    },
    {
     "data": {
      "image/png": "[encoded data removed]",
      "text/plain": [
       "<Figure size 640x480 with 1 Axes>"
      ]
     },
     "metadata": {},
     "output_type": "display_data"
    }
   ],
   "source": [
    "sns.regplot(x=\"patch_size\", y=\"median_intensity\", data=ypet_intensity_processed, fit_reg=False)"
   ]
  },
  {
   "cell_type": "code",
   "execution_count": 39,
   "id": "cdb11f6b-33b8-4509-90b1-f4e40bdd0312",
   "metadata": {
    "scrolled": false
   },
   "outputs": [
    {
     "ename": "InvalidIndexError",
     "evalue": "(slice(None, None, None), None)",
     "output_type": "error",
     "traceback": [
      "\u001b[1;31m---------------------------------------------------------------------------\u001b[0m",
      "\u001b[1;31mTypeError\u001b[0m                                 Traceback (most recent call last)",
      "\u001b[1;32m~\\AppData\\Local\\Programs\\Python\\Python310\\lib\\site-packages\\pandas\\core\\indexes\\base.py\u001b[0m in \u001b[0;36mget_loc\u001b[1;34m(self, key, method, tolerance)\u001b[0m\n\u001b[0;32m   3620\u001b[0m             \u001b[1;32mtry\u001b[0m\u001b[1;33m:\u001b[0m\u001b[1;33m\u001b[0m\u001b[1;33m\u001b[0m\u001b[0m\n\u001b[1;32m-> 3621\u001b[1;33m                 \u001b[1;32mreturn\u001b[0m \u001b[0mself\u001b[0m\u001b[1;33m.\u001b[0m\u001b[0m_engine\u001b[0m\u001b[1;33m.\u001b[0m\u001b[0mget_loc\u001b[0m\u001b[1;33m(\u001b[0m\u001b[0mcasted_key\u001b[0m\u001b[1;33m)\u001b[0m\u001b[1;33m\u001b[0m\u001b[1;33m\u001b[0m\u001b[0m\n\u001b[0m\u001b[0;32m   3622\u001b[0m             \u001b[1;32mexcept\u001b[0m \u001b[0mKeyError\u001b[0m \u001b[1;32mas\u001b[0m \u001b[0merr\u001b[0m\u001b[1;33m:\u001b[0m\u001b[1;33m\u001b[0m\u001b[1;33m\u001b[0m\u001b[0m\n",
      "\u001b[1;32m~\\AppData\\Local\\Programs\\Python\\Python310\\lib\\site-packages\\pandas\\_libs\\index.pyx\u001b[0m in \u001b[0;36mpandas._libs.index.IndexEngine.get_loc\u001b[1;34m()\u001b[0m\n",
      "\u001b[1;32m~\\AppData\\Local\\Programs\\Python\\Python310\\lib\\site-packages\\pandas\\_libs\\index.pyx\u001b[0m in \u001b[0;36mpandas._libs.index.IndexEngine.get_loc\u001b[1;34m()\u001b[0m\n",
      "\u001b[1;31mTypeError\u001b[0m: '(slice(None, None, None), None)' is an invalid key",
      "\nDuring handling of the above exception, another exception occurred:\n",
      "\u001b[1;31mInvalidIndexError\u001b[0m                         Traceback (most recent call last)",
      "\u001b[1;32m~\\AppData\\Local\\Temp\\ipykernel_13200\\1492883162.py\u001b[0m in \u001b[0;36m<cell line: 3>\u001b[1;34m()\u001b[0m\n\u001b[0;32m      1\u001b[0m \u001b[1;31m#show predicted things\u001b[0m\u001b[1;33m\u001b[0m\u001b[1;33m\u001b[0m\u001b[0m\n\u001b[0;32m      2\u001b[0m \u001b[1;33m\u001b[0m\u001b[0m\n\u001b[1;32m----> 3\u001b[1;33m \u001b[0mplt\u001b[0m\u001b[1;33m.\u001b[0m\u001b[0mplot\u001b[0m\u001b[1;33m(\u001b[0m\u001b[0mdf_train_x\u001b[0m\u001b[1;33m,\u001b[0m\u001b[0mdf_train_y\u001b[0m\u001b[1;33m,\u001b[0m \u001b[1;34m'ro'\u001b[0m\u001b[1;33m)\u001b[0m\u001b[1;33m\u001b[0m\u001b[1;33m\u001b[0m\u001b[0m\n\u001b[0m\u001b[0;32m      4\u001b[0m \u001b[0mplt\u001b[0m\u001b[1;33m.\u001b[0m\u001b[0mplot\u001b[0m\u001b[1;33m(\u001b[0m\u001b[0mdf_test_x\u001b[0m\u001b[1;33m,\u001b[0m\u001b[0my_test_pred_lm\u001b[0m\u001b[1;33m,\u001b[0m \u001b[1;34m'ro'\u001b[0m\u001b[1;33m,\u001b[0m\u001b[0mcolor\u001b[0m \u001b[1;33m=\u001b[0m \u001b[1;34m'black'\u001b[0m\u001b[1;33m)\u001b[0m\u001b[1;33m\u001b[0m\u001b[1;33m\u001b[0m\u001b[0m\n\u001b[0;32m      5\u001b[0m \"\"\"\n",
      "\u001b[1;32m~\\AppData\\Local\\Programs\\Python\\Python310\\lib\\site-packages\\matplotlib\\pyplot.py\u001b[0m in \u001b[0;36mplot\u001b[1;34m(scalex, scaley, data, *args, **kwargs)\u001b[0m\n\u001b[0;32m   2755\u001b[0m \u001b[1;33m@\u001b[0m\u001b[0m_copy_docstring_and_deprecators\u001b[0m\u001b[1;33m(\u001b[0m\u001b[0mAxes\u001b[0m\u001b[1;33m.\u001b[0m\u001b[0mplot\u001b[0m\u001b[1;33m)\u001b[0m\u001b[1;33m\u001b[0m\u001b[1;33m\u001b[0m\u001b[0m\n\u001b[0;32m   2756\u001b[0m \u001b[1;32mdef\u001b[0m \u001b[0mplot\u001b[0m\u001b[1;33m(\u001b[0m\u001b[1;33m*\u001b[0m\u001b[0margs\u001b[0m\u001b[1;33m,\u001b[0m \u001b[0mscalex\u001b[0m\u001b[1;33m=\u001b[0m\u001b[1;32mTrue\u001b[0m\u001b[1;33m,\u001b[0m \u001b[0mscaley\u001b[0m\u001b[1;33m=\u001b[0m\u001b[1;32mTrue\u001b[0m\u001b[1;33m,\u001b[0m \u001b[0mdata\u001b[0m\u001b[1;33m=\u001b[0m\u001b[1;32mNone\u001b[0m\u001b[1;33m,\u001b[0m \u001b[1;33m**\u001b[0m\u001b[0mkwargs\u001b[0m\u001b[1;33m)\u001b[0m\u001b[1;33m:\u001b[0m\u001b[1;33m\u001b[0m\u001b[1;33m\u001b[0m\u001b[0m\n\u001b[1;32m-> 2757\u001b[1;33m     return gca().plot(\n\u001b[0m\u001b[0;32m   2758\u001b[0m         \u001b[1;33m*\u001b[0m\u001b[0margs\u001b[0m\u001b[1;33m,\u001b[0m \u001b[0mscalex\u001b[0m\u001b[1;33m=\u001b[0m\u001b[0mscalex\u001b[0m\u001b[1;33m,\u001b[0m \u001b[0mscaley\u001b[0m\u001b[1;33m=\u001b[0m\u001b[0mscaley\u001b[0m\u001b[1;33m,\u001b[0m\u001b[1;33m\u001b[0m\u001b[1;33m\u001b[0m\u001b[0m\n\u001b[0;32m   2759\u001b[0m         **({\"data\": data} if data is not None else {}), **kwargs)\n",
      "\u001b[1;32m~\\AppData\\Local\\Programs\\Python\\Python310\\lib\\site-packages\\matplotlib\\axes\\_axes.py\u001b[0m in \u001b[0;36mplot\u001b[1;34m(self, scalex, scaley, data, *args, **kwargs)\u001b[0m\n\u001b[0;32m   1630\u001b[0m         \"\"\"\n\u001b[0;32m   1631\u001b[0m         \u001b[0mkwargs\u001b[0m \u001b[1;33m=\u001b[0m \u001b[0mcbook\u001b[0m\u001b[1;33m.\u001b[0m\u001b[0mnormalize_kwargs\u001b[0m\u001b[1;33m(\u001b[0m\u001b[0mkwargs\u001b[0m\u001b[1;33m,\u001b[0m \u001b[0mmlines\u001b[0m\u001b[1;33m.\u001b[0m\u001b[0mLine2D\u001b[0m\u001b[1;33m)\u001b[0m\u001b[1;33m\u001b[0m\u001b[1;33m\u001b[0m\u001b[0m\n\u001b[1;32m-> 1632\u001b[1;33m         \u001b[0mlines\u001b[0m \u001b[1;33m=\u001b[0m \u001b[1;33m[\u001b[0m\u001b[1;33m*\u001b[0m\u001b[0mself\u001b[0m\u001b[1;33m.\u001b[0m\u001b[0m_get_lines\u001b[0m\u001b[1;33m(\u001b[0m\u001b[1;33m*\u001b[0m\u001b[0margs\u001b[0m\u001b[1;33m,\u001b[0m \u001b[0mdata\u001b[0m\u001b[1;33m=\u001b[0m\u001b[0mdata\u001b[0m\u001b[1;33m,\u001b[0m \u001b[1;33m**\u001b[0m\u001b[0mkwargs\u001b[0m\u001b[1;33m)\u001b[0m\u001b[1;33m]\u001b[0m\u001b[1;33m\u001b[0m\u001b[1;33m\u001b[0m\u001b[0m\n\u001b[0m\u001b[0;32m   1633\u001b[0m         \u001b[1;32mfor\u001b[0m \u001b[0mline\u001b[0m \u001b[1;32min\u001b[0m \u001b[0mlines\u001b[0m\u001b[1;33m:\u001b[0m\u001b[1;33m\u001b[0m\u001b[1;33m\u001b[0m\u001b[0m\n\u001b[0;32m   1634\u001b[0m             \u001b[0mself\u001b[0m\u001b[1;33m.\u001b[0m\u001b[0madd_line\u001b[0m\u001b[1;33m(\u001b[0m\u001b[0mline\u001b[0m\u001b[1;33m)\u001b[0m\u001b[1;33m\u001b[0m\u001b[1;33m\u001b[0m\u001b[0m\n",
      "\u001b[1;32m~\\AppData\\Local\\Programs\\Python\\Python310\\lib\\site-packages\\matplotlib\\axes\\_base.py\u001b[0m in \u001b[0;36m__call__\u001b[1;34m(self, data, *args, **kwargs)\u001b[0m\n\u001b[0;32m    310\u001b[0m                 \u001b[0mthis\u001b[0m \u001b[1;33m+=\u001b[0m \u001b[0margs\u001b[0m\u001b[1;33m[\u001b[0m\u001b[1;36m0\u001b[0m\u001b[1;33m]\u001b[0m\u001b[1;33m,\u001b[0m\u001b[1;33m\u001b[0m\u001b[1;33m\u001b[0m\u001b[0m\n\u001b[0;32m    311\u001b[0m                 \u001b[0margs\u001b[0m \u001b[1;33m=\u001b[0m \u001b[0margs\u001b[0m\u001b[1;33m[\u001b[0m\u001b[1;36m1\u001b[0m\u001b[1;33m:\u001b[0m\u001b[1;33m]\u001b[0m\u001b[1;33m\u001b[0m\u001b[1;33m\u001b[0m\u001b[0m\n\u001b[1;32m--> 312\u001b[1;33m             \u001b[1;32myield\u001b[0m \u001b[1;32mfrom\u001b[0m \u001b[0mself\u001b[0m\u001b[1;33m.\u001b[0m\u001b[0m_plot_args\u001b[0m\u001b[1;33m(\u001b[0m\u001b[0mthis\u001b[0m\u001b[1;33m,\u001b[0m \u001b[0mkwargs\u001b[0m\u001b[1;33m)\u001b[0m\u001b[1;33m\u001b[0m\u001b[1;33m\u001b[0m\u001b[0m\n\u001b[0m\u001b[0;32m    313\u001b[0m \u001b[1;33m\u001b[0m\u001b[0m\n\u001b[0;32m    314\u001b[0m     \u001b[1;32mdef\u001b[0m \u001b[0mget_next_color\u001b[0m\u001b[1;33m(\u001b[0m\u001b[0mself\u001b[0m\u001b[1;33m)\u001b[0m\u001b[1;33m:\u001b[0m\u001b[1;33m\u001b[0m\u001b[1;33m\u001b[0m\u001b[0m\n",
      "\u001b[1;32m~\\AppData\\Local\\Programs\\Python\\Python310\\lib\\site-packages\\matplotlib\\axes\\_base.py\u001b[0m in \u001b[0;36m_plot_args\u001b[1;34m(self, tup, kwargs, return_kwargs)\u001b[0m\n\u001b[0;32m    485\u001b[0m \u001b[1;33m\u001b[0m\u001b[0m\n\u001b[0;32m    486\u001b[0m         \u001b[1;32mif\u001b[0m \u001b[0mlen\u001b[0m\u001b[1;33m(\u001b[0m\u001b[0mxy\u001b[0m\u001b[1;33m)\u001b[0m \u001b[1;33m==\u001b[0m \u001b[1;36m2\u001b[0m\u001b[1;33m:\u001b[0m\u001b[1;33m\u001b[0m\u001b[1;33m\u001b[0m\u001b[0m\n\u001b[1;32m--> 487\u001b[1;33m             \u001b[0mx\u001b[0m \u001b[1;33m=\u001b[0m \u001b[0m_check_1d\u001b[0m\u001b[1;33m(\u001b[0m\u001b[0mxy\u001b[0m\u001b[1;33m[\u001b[0m\u001b[1;36m0\u001b[0m\u001b[1;33m]\u001b[0m\u001b[1;33m)\u001b[0m\u001b[1;33m\u001b[0m\u001b[1;33m\u001b[0m\u001b[0m\n\u001b[0m\u001b[0;32m    488\u001b[0m             \u001b[0my\u001b[0m \u001b[1;33m=\u001b[0m \u001b[0m_check_1d\u001b[0m\u001b[1;33m(\u001b[0m\u001b[0mxy\u001b[0m\u001b[1;33m[\u001b[0m\u001b[1;36m1\u001b[0m\u001b[1;33m]\u001b[0m\u001b[1;33m)\u001b[0m\u001b[1;33m\u001b[0m\u001b[1;33m\u001b[0m\u001b[0m\n\u001b[0;32m    489\u001b[0m         \u001b[1;32melse\u001b[0m\u001b[1;33m:\u001b[0m\u001b[1;33m\u001b[0m\u001b[1;33m\u001b[0m\u001b[0m\n",
      "\u001b[1;32m~\\AppData\\Local\\Programs\\Python\\Python310\\lib\\site-packages\\matplotlib\\cbook\\__init__.py\u001b[0m in \u001b[0;36m_check_1d\u001b[1;34m(x)\u001b[0m\n\u001b[0;32m   1325\u001b[0m                     message='Support for multi-dimensional indexing')\n\u001b[0;32m   1326\u001b[0m \u001b[1;33m\u001b[0m\u001b[0m\n\u001b[1;32m-> 1327\u001b[1;33m                 \u001b[0mndim\u001b[0m \u001b[1;33m=\u001b[0m \u001b[0mx\u001b[0m\u001b[1;33m[\u001b[0m\u001b[1;33m:\u001b[0m\u001b[1;33m,\u001b[0m \u001b[1;32mNone\u001b[0m\u001b[1;33m]\u001b[0m\u001b[1;33m.\u001b[0m\u001b[0mndim\u001b[0m\u001b[1;33m\u001b[0m\u001b[1;33m\u001b[0m\u001b[0m\n\u001b[0m\u001b[0;32m   1328\u001b[0m                 \u001b[1;31m# we have definitely hit a pandas index or series object\u001b[0m\u001b[1;33m\u001b[0m\u001b[1;33m\u001b[0m\u001b[0m\n\u001b[0;32m   1329\u001b[0m                 \u001b[1;31m# cast to a numpy array.\u001b[0m\u001b[1;33m\u001b[0m\u001b[1;33m\u001b[0m\u001b[0m\n",
      "\u001b[1;32m~\\AppData\\Local\\Programs\\Python\\Python310\\lib\\site-packages\\pandas\\core\\frame.py\u001b[0m in \u001b[0;36m__getitem__\u001b[1;34m(self, key)\u001b[0m\n\u001b[0;32m   3503\u001b[0m             \u001b[1;32mif\u001b[0m \u001b[0mself\u001b[0m\u001b[1;33m.\u001b[0m\u001b[0mcolumns\u001b[0m\u001b[1;33m.\u001b[0m\u001b[0mnlevels\u001b[0m \u001b[1;33m>\u001b[0m \u001b[1;36m1\u001b[0m\u001b[1;33m:\u001b[0m\u001b[1;33m\u001b[0m\u001b[1;33m\u001b[0m\u001b[0m\n\u001b[0;32m   3504\u001b[0m                 \u001b[1;32mreturn\u001b[0m \u001b[0mself\u001b[0m\u001b[1;33m.\u001b[0m\u001b[0m_getitem_multilevel\u001b[0m\u001b[1;33m(\u001b[0m\u001b[0mkey\u001b[0m\u001b[1;33m)\u001b[0m\u001b[1;33m\u001b[0m\u001b[1;33m\u001b[0m\u001b[0m\n\u001b[1;32m-> 3505\u001b[1;33m             \u001b[0mindexer\u001b[0m \u001b[1;33m=\u001b[0m \u001b[0mself\u001b[0m\u001b[1;33m.\u001b[0m\u001b[0mcolumns\u001b[0m\u001b[1;33m.\u001b[0m\u001b[0mget_loc\u001b[0m\u001b[1;33m(\u001b[0m\u001b[0mkey\u001b[0m\u001b[1;33m)\u001b[0m\u001b[1;33m\u001b[0m\u001b[1;33m\u001b[0m\u001b[0m\n\u001b[0m\u001b[0;32m   3506\u001b[0m             \u001b[1;32mif\u001b[0m \u001b[0mis_integer\u001b[0m\u001b[1;33m(\u001b[0m\u001b[0mindexer\u001b[0m\u001b[1;33m)\u001b[0m\u001b[1;33m:\u001b[0m\u001b[1;33m\u001b[0m\u001b[1;33m\u001b[0m\u001b[0m\n\u001b[0;32m   3507\u001b[0m                 \u001b[0mindexer\u001b[0m \u001b[1;33m=\u001b[0m \u001b[1;33m[\u001b[0m\u001b[0mindexer\u001b[0m\u001b[1;33m]\u001b[0m\u001b[1;33m\u001b[0m\u001b[1;33m\u001b[0m\u001b[0m\n",
      "\u001b[1;32m~\\AppData\\Local\\Programs\\Python\\Python310\\lib\\site-packages\\pandas\\core\\indexes\\base.py\u001b[0m in \u001b[0;36mget_loc\u001b[1;34m(self, key, method, tolerance)\u001b[0m\n\u001b[0;32m   3626\u001b[0m                 \u001b[1;31m#  InvalidIndexError. Otherwise we fall through and re-raise\u001b[0m\u001b[1;33m\u001b[0m\u001b[1;33m\u001b[0m\u001b[0m\n\u001b[0;32m   3627\u001b[0m                 \u001b[1;31m#  the TypeError.\u001b[0m\u001b[1;33m\u001b[0m\u001b[1;33m\u001b[0m\u001b[0m\n\u001b[1;32m-> 3628\u001b[1;33m                 \u001b[0mself\u001b[0m\u001b[1;33m.\u001b[0m\u001b[0m_check_indexing_error\u001b[0m\u001b[1;33m(\u001b[0m\u001b[0mkey\u001b[0m\u001b[1;33m)\u001b[0m\u001b[1;33m\u001b[0m\u001b[1;33m\u001b[0m\u001b[0m\n\u001b[0m\u001b[0;32m   3629\u001b[0m                 \u001b[1;32mraise\u001b[0m\u001b[1;33m\u001b[0m\u001b[1;33m\u001b[0m\u001b[0m\n\u001b[0;32m   3630\u001b[0m \u001b[1;33m\u001b[0m\u001b[0m\n",
      "\u001b[1;32m~\\AppData\\Local\\Programs\\Python\\Python310\\lib\\site-packages\\pandas\\core\\indexes\\base.py\u001b[0m in \u001b[0;36m_check_indexing_error\u001b[1;34m(self, key)\u001b[0m\n\u001b[0;32m   5635\u001b[0m             \u001b[1;31m# if key is not a scalar, directly raise an error (the code below\u001b[0m\u001b[1;33m\u001b[0m\u001b[1;33m\u001b[0m\u001b[0m\n\u001b[0;32m   5636\u001b[0m             \u001b[1;31m# would convert to numpy arrays and raise later any way) - GH29926\u001b[0m\u001b[1;33m\u001b[0m\u001b[1;33m\u001b[0m\u001b[0m\n\u001b[1;32m-> 5637\u001b[1;33m             \u001b[1;32mraise\u001b[0m \u001b[0mInvalidIndexError\u001b[0m\u001b[1;33m(\u001b[0m\u001b[0mkey\u001b[0m\u001b[1;33m)\u001b[0m\u001b[1;33m\u001b[0m\u001b[1;33m\u001b[0m\u001b[0m\n\u001b[0m\u001b[0;32m   5638\u001b[0m \u001b[1;33m\u001b[0m\u001b[0m\n\u001b[0;32m   5639\u001b[0m     \u001b[1;33m@\u001b[0m\u001b[0mcache_readonly\u001b[0m\u001b[1;33m\u001b[0m\u001b[1;33m\u001b[0m\u001b[0m\n",
      "\u001b[1;31mInvalidIndexError\u001b[0m: (slice(None, None, None), None)"
     ]
    },
    {
     "data": {
      "image/png": "[encoded data removed]",
      "text/plain": [
       "<Figure size 640x480 with 1 Axes>"
      ]
     },
     "metadata": {},
     "output_type": "display_data"
    }
   ],
   "source": [
    "#show predicted things\n",
    "\n",
    "plt.plot(df_train_x,df_train_y, 'ro')\n",
    "plt.plot(df_test_x,y_test_pred_lm, 'ro',color = 'black')\n",
    "\"\"\"\n",
    "plt.plot(df_train_y,df_train_x, 'ro')\n",
    "plt.plot(y_test_pred_lm,df_test_x, 'ro',color = 'black')\n",
    "\"\"\"\n",
    "#plt.yscale(\"log\")\n",
    "#plt.xscale(\"log\")\n",
    "plt.show()"
   ]
  },
  {
   "cell_type": "code",
   "execution_count": null,
   "id": "c10ee48f-e627-4aaf-b1bc-fb64ccfb9087",
   "metadata": {},
   "outputs": [],
   "source": [
    "#show predicted things\n",
    "plt.plot(df_train_x,df_train_y, 'ro')\n",
    "plt.plot(df_test_x,y_test_pred_ridge, 'ro',color = 'black')\n",
    "\n",
    "\"\"\"\n",
    "plt.plot(df_train_y,df_train_x, 'ro')\n",
    "plt.plot(y_test_pred_ridge,df_test_x, 'ro',color = 'black')\n",
    "\"\"\"\n",
    "#plt.yscale(\"log\")\n",
    "#plt.xscale(\"log\")\n",
    "plt.show()"
   ]
  },
  {
   "cell_type": "code",
   "execution_count": null,
   "id": "2097be32-614e-4d88-8be9-cd4bd1718a21",
   "metadata": {},
   "outputs": [],
   "source": [
    "if mse_test_ridge >= mse_test_lm:\n",
    "    print('take linear regression')\n",
    "    print('coefficients: ',model_lm.coef_)\n",
    "    print('intercept: ',model_lm.intercept_)\n",
    "    \n",
    "else:\n",
    "    print('take ridge regression')\n",
    "    print('coefficients: ',model_ridge.coef_)\n",
    "    print('intercept: ',model_ridge.intercept_)\n",
    "    print('alpha: ',model_ridge.alpha_)"
   ]
  },
  {
   "cell_type": "code",
   "execution_count": null,
   "id": "38430d5b-186d-4eb9-9647-7522cda2d118",
   "metadata": {},
   "outputs": [],
   "source": [
    "ypet_intensity['Circularity'].max()"
   ]
  },
  {
   "cell_type": "markdown",
   "id": "54637200-f195-49ed-b046-7484394f43ec",
   "metadata": {},
   "source": [
    "***"
   ]
  },
  {
   "cell_type": "markdown",
   "id": "a0597516-f52b-45ef-a9f9-0d2b83fc6fa6",
   "metadata": {},
   "source": [
    "## Task 2: Unsupervised clustering"
   ]
  },
  {
   "cell_type": "markdown",
   "id": "95ba0574-c3e7-4fe8-8e07-ba24d01868a6",
   "metadata": {},
   "source": [
    "Use pca or standard df"
   ]
  },
  {
   "cell_type": "code",
   "execution_count": null,
   "id": "de39e993-c3a0-47a5-889c-e9652fd538fa",
   "metadata": {},
   "outputs": [],
   "source": [
    "clustering_feature = ['patch_size', 'sum_intensity']\n",
    "ypet_intensity[clustering_feature]"
   ]
  },
  {
   "cell_type": "code",
   "execution_count": null,
   "id": "f32fc6f1-2df9-40eb-a2d9-299ed96a238c",
   "metadata": {},
   "outputs": [],
   "source": [
    "ypet_intensity_pca"
   ]
  },
  {
   "cell_type": "code",
   "execution_count": null,
   "id": "64b5faea-ce8c-429a-9422-51d64da47e05",
   "metadata": {},
   "outputs": [],
   "source": [
    "ypet_cluster = ypet_intensity_pca.reset_index().set_index(['index','img', 'TF_name'])\n",
    "ypet_cluster"
   ]
  },
  {
   "cell_type": "code",
   "execution_count": null,
   "id": "93875fb9-b18c-4938-84a8-2f37d261b1c0",
   "metadata": {},
   "outputs": [],
   "source": [
    "from sklearn.cluster import KMeans"
   ]
  },
  {
   "cell_type": "code",
   "execution_count": null,
   "id": "11608a5e-3ddb-42e5-8fd0-4e355786e3ce",
   "metadata": {},
   "outputs": [],
   "source": [
    "random_state = 42\n",
    "n_clusters = 5 #10 # Number of descriptions we want for TF\n",
    "kmean = KMeans(n_clusters=n_clusters, random_state=random_state).fit(ypet_cluster)\n",
    "\n",
    "ypet_clustered = ypet_cluster.copy()\n",
    "ypet_clustered['cluster'] = kmean.labels_"
   ]
  },
  {
   "cell_type": "code",
   "execution_count": null,
   "id": "9f400e10-60c2-4729-9671-f86321914cea",
   "metadata": {},
   "outputs": [],
   "source": [
    "plt.scatter(ypet_cluster.iloc[:,0], ypet_cluster.iloc[:,1], c=kmean.labels_, alpha=0.6)"
   ]
  },
  {
   "cell_type": "code",
   "execution_count": null,
   "id": "c85c627c-c6a2-4c65-9a33-897c368e344b",
   "metadata": {},
   "outputs": [],
   "source": [
    "# Find more information\n",
    "min_n = ypet_clustered.groupby('cluster').count().min()[0] #min number of points i n a cluster\n",
    "max_n = ypet_clustered.groupby('cluster').count().max()[0] #min number of points i n a cluster\n",
    "min_n, max_n"
   ]
  },
  {
   "cell_type": "code",
   "execution_count": null,
   "id": "33e17b99-2340-4491-8d08-923636cd27ac",
   "metadata": {},
   "outputs": [],
   "source": [
    "# Extract x percentage of data per cluster -> easier to analyze\n",
    "\n",
    "extracted_i = []\n",
    "x = 0.9\n",
    "\n",
    "for i in range(n_clusters):\n",
    "\n",
    "    # indices of all the points from X that belong to cluster i\n",
    "    C_i = np.where(kmean.labels_ == i)[0].tolist() \n",
    "    n_i = len(C_i) # number of points in cluster i\n",
    "\n",
    "    # indices of the points from X to be sampled from cluster i\n",
    "    sample_i = np.random.choice(C_i, math.ceil((x * n_i))).tolist()\n",
    "    extracted_i.extend(sample_i) \n",
    "    "
   ]
  },
  {
   "cell_type": "code",
   "execution_count": null,
   "id": "f39eb6f0-eaf1-4819-be80-f725884692a2",
   "metadata": {},
   "outputs": [],
   "source": [
    "ypet_clustered.iloc[np.unique(extracted_i)]"
   ]
  },
  {
   "cell_type": "code",
   "execution_count": null,
   "id": "786e9135-9464-4c13-b60e-a3ec2728dc54",
   "metadata": {},
   "outputs": [],
   "source": []
  },
  {
   "cell_type": "markdown",
   "id": "4df8ed0d-fc48-4c73-b344-c1f99adde2fa",
   "metadata": {},
   "source": [
    "***\n",
    "# Visualizations (Exploration phase)"
   ]
  },
  {
   "cell_type": "markdown",
   "id": "f2543c40-4721-4578-8f4e-f3daf09c0d0b",
   "metadata": {},
   "source": [
    "#### Tune blur"
   ]
  },
  {
   "cell_type": "markdown",
   "id": "c987e2b1-3c0e-4bdb-ba68-bb1c84fe5d65",
   "metadata": {},
   "source": [
    "plt.imshow(cv2.Laplacian(variance_data_list[test], cv2.CV_64F), cmap='gray')\n"
   ]
  },
  {
   "cell_type": "markdown",
   "id": "414bb17d-59fb-48b6-888a-5f6b12e24684",
   "metadata": {},
   "source": [
    "for i in range(1,100), image E-7\n",
    "\n",
    "Not blurred:\n",
    "variance_data_list[-1] -> 1'763'695\n",
    "variance_data_list[-10] -> 3'056'590\n",
    "variance_data_list[-10] -> 3'056'590\n",
    "[-17] -> 1'056'899\n",
    "[-20] -> 567'588\n",
    "[-21] -> 2'138'449\n",
    "[-23] -> 5'134'705\n",
    "[-33] 30'821'019\n",
    "\n",
    "\n",
    "Right classified with other nucleus near:\n",
    "variance_data_list[-6] -> 25'095'309\n",
    "variance_data_list[-13] ->5'698'016\n",
    "[-16] -> 9'219'300\n",
    "[-19] -> 11'049'582\n",
    "[-25] -> 2'313'727\n",
    "[-26] -> 157'114'853\n",
    "[-27] -> 10'010'503\n",
    "[-28] -> 3'063'935\n",
    "[-31] -> 1'803'048\n",
    "9'826'707\n",
    "\n",
    "\n",
    "Wrongly classified:\n",
    "variance_data_list[-6] -> 25'095'309\n",
    "variance_data_list[-9] -> 57'898'307\n",
    "[-14] -> 21'739'451\n",
    "[-15] -> 6'769'331\n",
    "[-30] -> 12'627'256\n",
    "\n",
    "\n",
    "Overlay:\n",
    "variance_data_list[-4] -> 34'614'946\n",
    "[-22] -> 12'964'725\n",
    "[-29] -> 17'727'949\n",
    "\n",
    "Blurr/ overflow:\n",
    "[-18] -> 283'062'008\n",
    "[-24] -> 17'935'490"
   ]
  },
  {
   "cell_type": "code",
   "execution_count": null,
   "id": "cb1d7ce0-aee3-4c0d-943a-9f85acb3ed65",
   "metadata": {},
   "outputs": [],
   "source": [
    "cv2.Laplacian(variance_data_list[test], cv2.CV_64F).var()"
   ]
  },
  {
   "cell_type": "code",
   "execution_count": null,
   "id": "dd3157fd-7a0e-4be7-9c36-a074dc568d2c",
   "metadata": {},
   "outputs": [],
   "source": [
    "measure.blur_effect(variance_data_list[test])"
   ]
  },
  {
   "cell_type": "markdown",
   "id": "0edb7dcb-9e8d-4ad4-99b4-7a7834b9dd53",
   "metadata": {},
   "source": [
    "#### Mask, nucleus"
   ]
  },
  {
   "cell_type": "code",
   "execution_count": null,
   "id": "79c7d8ec-68c3-428e-9174-933d59db240c",
   "metadata": {},
   "outputs": [],
   "source": [
    "plt.imshow(boolean, cmap='gray')"
   ]
  },
  {
   "cell_type": "code",
   "execution_count": null,
   "id": "348021e6-ffc7-42f4-9005-17f499a0314c",
   "metadata": {},
   "outputs": [],
   "source": [
    "plt.imshow(patch_data, cmap='gray')"
   ]
  },
  {
   "cell_type": "code",
   "execution_count": null,
   "id": "40c4bd49-104c-4ebf-b4e3-50f88b813e56",
   "metadata": {},
   "outputs": [],
   "source": [
    "test = 31\n",
    "plt.imshow(variance_data_list[test], cmap='gray')"
   ]
  },
  {
   "cell_type": "code",
   "execution_count": null,
   "id": "38c4e51d-638c-4a13-9c3f-acf9ceee8b0d",
   "metadata": {},
   "outputs": [],
   "source": [
    "plt.imshow(patch_data_list[test], cmap='gray')"
   ]
  },
  {
   "cell_type": "markdown",
   "id": "62c50429-3d9f-4f89-8f9c-21f1b5ac1f23",
   "metadata": {},
   "source": [
    "## Local binary patterns"
   ]
  },
  {
   "cell_type": "code",
   "execution_count": null,
   "id": "43f314c0-8c3a-4846-b4ec-c957326fd326",
   "metadata": {},
   "outputs": [],
   "source": [
    "# Visualize lpb\n",
    "METHOD = 'uniform'   \n",
    "radius = 1\n",
    "n_points = 8 * radius\n",
    "image = patch_data\n",
    "\n",
    "lbp = local_binary_pattern(image, n_points, radius, METHOD)\n",
    "\n",
    "    \n",
    "def overlay_labels(image, lbp, labels):\n",
    "    mask = np.logical_or.reduce([lbp == each for each in labels])\n",
    "    return label2rgb(mask, image=image, bg_label=0, alpha=0.5)\n",
    "\n",
    "\n",
    "def highlight_bars(bars, indexes):\n",
    "    for i in indexes:\n",
    "        bars[i].set_facecolor('r')\n",
    "def hist(ax, lbp):\n",
    "    n_bins = int(lbp.max() + 1)\n",
    "    return ax.hist(lbp.ravel(), density=True, bins=n_bins, range=(0, n_bins),\n",
    "                   facecolor='0.5')\n",
    "\n",
    "\n",
    "# plot histograms of LBP of textures\n",
    "fig, (ax_img, ax_hist) = plt.subplots(nrows=2, ncols=3, figsize=(9, 6))\n",
    "plt.gray()\n",
    "\n",
    "titles = ('edge', 'flat', 'corner')\n",
    "w = width = radius - 1\n",
    "edge_labels = range(n_points // 2 - w, n_points // 2 + w + 1)\n",
    "flat_labels = list(range(0, w + 1)) + list(range(n_points - w, n_points + 2))\n",
    "i_14 = n_points // 4            # 1/4th of the histogram\n",
    "i_34 = 3 * (n_points // 4)      # 3/4th of the histogram\n",
    "corner_labels = (list(range(i_14 - w, i_14 + w + 1)) +\n",
    "                 list(range(i_34 - w, i_34 + w + 1)))\n",
    "\n",
    "label_sets = (edge_labels, flat_labels, corner_labels)\n",
    "\n",
    "for ax, labels in zip(ax_img, label_sets):\n",
    "    ax.imshow(overlay_labels(image, lbp, labels))\n",
    "\n",
    "for ax, labels, name in zip(ax_hist, label_sets, titles):\n",
    "    counts, _, bars = hist(ax, lbp)\n",
    "    highlight_bars(bars, labels)\n",
    "    ax.set_ylim(top=np.max(counts[:-1]))\n",
    "    ax.set_xlim(right=n_points + 2)\n",
    "    ax.set_title(name)\n",
    "\n",
    "ax_hist[0].set_ylabel('Percentage')\n",
    "for ax in ax_img:\n",
    "    ax.axis('off')\n",
    "\n"
   ]
  },
  {
   "cell_type": "code",
   "execution_count": null,
   "id": "974dac6a-d215-4d1a-a8b9-945aaa552a4c",
   "metadata": {},
   "outputs": [],
   "source": [
    "# Remove background    \n",
    "\n",
    "# plot histograms of LBP of textures\n",
    "fig, (ax_img, ax_hist) = plt.subplots(nrows=2, ncols=3, figsize=(9, 6))\n",
    "plt.gray()\n",
    "\n",
    "titles = ('edge', 'flat', 'corner')\n",
    "w = width = radius - 1\n",
    "edge_labels = range(n_points // 2 - w, n_points // 2 + w + 1)\n",
    "flat_labels = list(range(0, w + 1)) # Remove background: list(range(n_points - w, n_points + 2))\n",
    "i_14 = n_points // 4            # 1/4th of the histogram\n",
    "i_34 = 3 * (n_points // 4)      # 3/4th of the histogram\n",
    "corner_labels = (list(range(i_14 - w, i_14 + w + 1)) +\n",
    "                 list(range(i_34 - w, i_34 + w + 1)))\n",
    "\n",
    "label_sets = (edge_labels, flat_labels, corner_labels)\n",
    "\n",
    "\n",
    "\n",
    "for ax, labels in zip(ax_img, label_sets):\n",
    "    ax.imshow(overlay_labels(image, lbp, labels))\n",
    "\n",
    "for ax, labels, name in zip(ax_hist, label_sets, titles):\n",
    "    counts, _, bars = hist(ax, lbp)   \n",
    "    highlight_bars(bars, labels)\n",
    "    ax.set_ylim(top=np.max(counts[:-1]))\n",
    "    ax.set_xlim(right=n_points + 2)\n",
    "    ax.set_title(name)\n",
    "\n",
    "ax_hist[0].set_ylabel('Percentage')\n",
    "for ax in ax_img:\n",
    "    ax.axis('off')\n",
    "\n",
    "# Drop background\n",
    "count = len(np.unique(lbp))\n",
    "H, bins = np.histogram(lbp, count)\n",
    "\n",
    "# Drop background values\n",
    "fig, ax = plt.subplots(figsize=(12, 8))\n",
    "index_background = n_points - w\n",
    "H = H[0: index_background]\n",
    "bins =  bins[0: index_background]\n",
    "\n",
    "plt.bar(bins,H,width=1)"
   ]
  }
 ],
 "metadata": {
  "colab": {
   "provenance": [
    {
     "file_id": "158pHXq8dG2em_g3xFihk0nOTNy6ecxOY",
     "timestamp": 1670264238282
    }
   ]
  },
  "gpuClass": "standard",
  "kernelspec": {
   "display_name": "Python 3 (ipykernel)",
   "language": "python",
   "name": "python3"
  },
  "language_info": {
   "codemirror_mode": {
    "name": "ipython",
    "version": 3
   },
   "file_extension": ".py",
   "mimetype": "text/x-python",
   "name": "python",
   "nbconvert_exporter": "python",
   "pygments_lexer": "ipython3",
   "version": "3.10.7"
  }
 },
 "nbformat": 4,
 "nbformat_minor": 5
}
