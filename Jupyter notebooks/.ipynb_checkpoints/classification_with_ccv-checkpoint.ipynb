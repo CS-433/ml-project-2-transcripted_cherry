{
 "cells": [
  {
   "cell_type": "markdown",
   "id": "01148799-b3bb-4ded-856e-5dedb7af0eba",
   "metadata": {
    "colab": {
     "base_uri": "https://localhost:8080/"
    },
    "executionInfo": {
     "elapsed": 1172,
     "status": "ok",
     "timestamp": 1670264490534,
     "user": {
      "displayName": "Alexis Janin",
      "userId": "06183722824926644012"
     },
     "user_tz": -60
    },
    "id": "fIH5zV82ikCD",
    "outputId": "17045f43-dc86-4a45-fc64-9b6c09593125"
   },
   "source": [
    "gpu_info = !nvidia-smi\n",
    "gpu_info = '\\n'.join(gpu_info)\n",
    "if gpu_info.find('failed') >= 0:\n",
    "  print('Not connected to a GPU')\n",
    "else:\n",
    "  print(gpu_info)"
   ]
  },
  {
   "cell_type": "markdown",
   "id": "938b092c-d3e8-407b-8f69-72bdf0ab24d6",
   "metadata": {
    "colab": {
     "base_uri": "https://localhost:8080/"
    },
    "executionInfo": {
     "elapsed": 237,
     "status": "ok",
     "timestamp": 1670264494610,
     "user": {
      "displayName": "Alexis Janin",
      "userId": "06183722824926644012"
     },
     "user_tz": -60
    },
    "id": "PMX6b1fuik0W",
    "outputId": "53efa645-7fcc-4217-9f85-0d84e08cd5c4"
   },
   "source": [
    "from psutil import virtual_memory\n",
    "ram_gb = virtual_memory().total / 1e9\n",
    "print('Your runtime has {:.1f} gigabytes of available RAM\\n'.format(ram_gb))\n",
    "\n",
    "if ram_gb < 20:\n",
    "  print('Not using a high-RAM runtime')\n",
    "else:\n",
    "  print('You are using a high-RAM runtime!')"
   ]
  },
  {
   "cell_type": "markdown",
   "id": "c5ad331a-ceec-4bb8-9432-129b0f7d3ae3",
   "metadata": {
    "colab": {
     "base_uri": "https://localhost:8080/"
    },
    "executionInfo": {
     "elapsed": 5079,
     "status": "ok",
     "timestamp": 1670265864034,
     "user": {
      "displayName": "Alexis Janin",
      "userId": "06183722824926644012"
     },
     "user_tz": -60
    },
    "id": "vTvz9Ho5SDFV",
    "outputId": "38a6f9e2-8c74-4518-beff-c509c89c4041"
   },
   "source": [
    "!pip install cellpose"
   ]
  },
  {
   "cell_type": "markdown",
   "id": "842a6448-9985-4690-8370-a9f26b245f9c",
   "metadata": {
    "colab": {
     "base_uri": "https://localhost:8080/"
    },
    "executionInfo": {
     "elapsed": 10142,
     "status": "ok",
     "timestamp": 1670266045675,
     "user": {
      "displayName": "Alexis Janin",
      "userId": "06183722824926644012"
     },
     "user_tz": -60
    },
    "id": "kJPw7TghSUVR",
    "outputId": "9dcaab09-36a2-45f0-a3a4-609ec55af920"
   },
   "source": [
    "from google.colab import drive\n",
    "drive.mount('/content/gdrive',force_remount=True)"
   ]
  },
  {
   "cell_type": "code",
   "execution_count": 2,
   "id": "7880d81b-28e4-4e28-9d81-bb5833bd69c3",
   "metadata": {},
   "outputs": [],
   "source": [
    "# Import modules\n",
    "import numpy as np\n",
    "import time, os, sys, random\n",
    "from urllib.parse import urlparse\n",
    "import skimage.io\n",
    "import matplotlib.pyplot as plt\n",
    "import matplotlib as mpl\n",
    "#from cellpose import models\n",
    "#from cellpose.io import imread\n",
    "#from cellpose import plot\n",
    "from skimage.util import img_as_ubyte\n",
    "import pandas as pd\n",
    "from skimage.measure import label, regionprops\n",
    "from skimage.measure import label, regionprops\n",
    "from skimage import measure"
   ]
  },
  {
   "cell_type": "code",
   "execution_count": 3,
   "id": "3dd976f8-c328-411d-860b-995d6c65feb1",
   "metadata": {},
   "outputs": [],
   "source": [
    "import scipy\n",
    "from scipy import ndimage as ndi\n",
    "import cv2\n",
    "from skimage.morphology import square, dilation\n",
    "from sklearn.cluster import KMeans, DBSCAN\n",
    "# https://stackoverflow.com/questions/19970764/making-feature-vector-from-gabor-filters-for-classification\n",
    "# https://stackoverflow.com/questions/20608458/gabor-feature-extraction"
   ]
  },
  {
   "cell_type": "code",
   "execution_count": 206,
   "id": "fa4927bc-ebe9-4547-a4a5-a1a1e351c216",
   "metadata": {},
   "outputs": [],
   "source": [
    "#cross validation with polynomial expansion\n",
    "import matplotlib.pyplot as plt \n",
    "from sklearn.linear_model import LinearRegression\n",
    "from sklearn.preprocessing import PolynomialFeatures\n",
    "from sklearn.metrics import r2_score\n",
    "from sklearn.metrics import mean_squared_error\n",
    "from sklearn.model_selection import cross_validate\n",
    "from sklearn.model_selection import train_test_split\n",
    "from sklearn.linear_model import RidgeCV\n",
    "import statsmodels.formula.api as smf\n",
    "import seaborn as sns\n",
    "import re\n",
    "import sklearn\n",
    "from sklearn.model_selection import train_test_split\n",
    "from sklearn.preprocessing import MinMaxScaler\n",
    "from sklearn.preprocessing import PolynomialFeatures\n",
    "from sklearn.preprocessing import scale\n",
    "from sklearn.feature_selection import RFE\n",
    "from sklearn.linear_model import LinearRegression\n",
    "from sklearn.model_selection import cross_val_score\n",
    "from sklearn.model_selection import KFold\n",
    "from sklearn.model_selection import GridSearchCV\n",
    "from sklearn.pipeline import make_pipeline\n",
    "import statsmodels.api as sm"
   ]
  },
  {
   "cell_type": "markdown",
   "id": "9db57d46-5502-4c69-b3e5-77ed104caf32",
   "metadata": {
    "tags": []
   },
   "source": [
    "# Read csv"
   ]
  },
  {
   "cell_type": "code",
   "execution_count": 231,
   "id": "891d4e7f-695f-499b-8305-0fecb9101218",
   "metadata": {},
   "outputs": [],
   "source": [
    "df = pd.read_csv ('TF1_A1.csv')\n",
    "df = df.iloc[1: , :]\n"
   ]
  },
  {
   "cell_type": "code",
   "execution_count": 232,
   "id": "4095425f-1d07-468a-ba6d-c189a04659e4",
   "metadata": {},
   "outputs": [],
   "source": [
    "ypet_intensity = df.copy()"
   ]
  },
  {
   "cell_type": "code",
   "execution_count": 233,
   "id": "eeb3ee48-0d37-4895-b2c9-023d5e027c75",
   "metadata": {
    "tags": []
   },
   "outputs": [],
   "source": [
    "ypet_intensity['Circularity'] = (4*np.pi*ypet_intensity['patch_size'])/(ypet_intensity['Perimeter']**2)"
   ]
  },
  {
   "cell_type": "code",
   "execution_count": null,
   "id": "600426b8-1db5-431e-abea-6e1ff1ea0b0d",
   "metadata": {},
   "outputs": [],
   "source": []
  },
  {
   "cell_type": "code",
   "execution_count": null,
   "id": "1a9fcd15-f982-4095-97d1-12326845f2d9",
   "metadata": {},
   "outputs": [],
   "source": []
  },
  {
   "cell_type": "code",
   "execution_count": 243,
   "id": "f984d1ad-082d-41a2-87b9-9fc55b7ef7be",
   "metadata": {},
   "outputs": [],
   "source": [
    "# group the data by column A\n",
    "groups = df.groupby('patch_size')\n",
    "\n",
    "# create an empty dataframe to store the results\n",
    "result = pd.DataFrame(columns=['patch_size', 'median_intensity'])\n",
    "\n",
    "# for each group\n",
    "for name, group in groups:\n",
    "    # sort the values in column B in descending order\n",
    "    group = group.sort_values(by='median_intensity', ascending=False)\n",
    "\n",
    "    # calculate the number of rows in the group\n",
    "    num_rows = len(group)\n",
    "\n",
    "    # calculate the number of rows in the top 10%\n",
    "    top_10_percent = int(num_rows * 0.1)\n",
    "\n",
    "    # get the top 10% of rows\n",
    "    top_rows = group.head(top_10_percent)\n",
    "\n",
    "    # add the rows to the result dataframe\n",
    "    result = result.append(top_rows)\n",
    "#This code groups the data by column A, sorts the values in column B in descending order for each group, keeps the top 10 percent of rows for each group, and then combines the rows into a single dataframe.\n",
    "\n",
    "\n",
    "\n",
    "\n"
   ]
  },
  {
   "cell_type": "code",
   "execution_count": 244,
   "id": "97a3afa8-52ee-4b2e-93ad-f4e54a5f91d5",
   "metadata": {},
   "outputs": [
    {
     "data": {
      "text/html": [
       "<div>\n",
       "<style scoped>\n",
       "    .dataframe tbody tr th:only-of-type {\n",
       "        vertical-align: middle;\n",
       "    }\n",
       "\n",
       "    .dataframe tbody tr th {\n",
       "        vertical-align: top;\n",
       "    }\n",
       "\n",
       "    .dataframe thead th {\n",
       "        text-align: right;\n",
       "    }\n",
       "</style>\n",
       "<table border=\"1\" class=\"dataframe\">\n",
       "  <thead>\n",
       "    <tr style=\"text-align: right;\">\n",
       "      <th></th>\n",
       "      <th>patch_size</th>\n",
       "      <th>median_intensity</th>\n",
       "      <th>Unnamed: 0</th>\n",
       "      <th>img</th>\n",
       "      <th>fld</th>\n",
       "      <th>TF_name</th>\n",
       "      <th>blur_lapl</th>\n",
       "      <th>blur_ski</th>\n",
       "      <th>mean_intensity</th>\n",
       "      <th>sum_intensity</th>\n",
       "      <th>...</th>\n",
       "      <th>gabro_14</th>\n",
       "      <th>gabro_15</th>\n",
       "      <th>lbp_0</th>\n",
       "      <th>lbp_1</th>\n",
       "      <th>lbp_2</th>\n",
       "      <th>lbp_3</th>\n",
       "      <th>lbp_4</th>\n",
       "      <th>lbp_5</th>\n",
       "      <th>lbp_6</th>\n",
       "      <th>lbp_7</th>\n",
       "    </tr>\n",
       "  </thead>\n",
       "  <tbody>\n",
       "    <tr>\n",
       "      <th>14</th>\n",
       "      <td>611</td>\n",
       "      <td>5471.0</td>\n",
       "      <td>patch_13</td>\n",
       "      <td>0.0</td>\n",
       "      <td>1.0</td>\n",
       "      <td>A - 1</td>\n",
       "      <td>False</td>\n",
       "      <td>False</td>\n",
       "      <td>5554.134206</td>\n",
       "      <td>3393576.0</td>\n",
       "      <td>...</td>\n",
       "      <td>0.042339</td>\n",
       "      <td>0.006048</td>\n",
       "      <td>0.086372</td>\n",
       "      <td>0.061420</td>\n",
       "      <td>0.103647</td>\n",
       "      <td>0.228407</td>\n",
       "      <td>0.214971</td>\n",
       "      <td>0.155470</td>\n",
       "      <td>0.094050</td>\n",
       "      <td>0.055662</td>\n",
       "    </tr>\n",
       "    <tr>\n",
       "      <th>5083</th>\n",
       "      <td>764</td>\n",
       "      <td>3662.0</td>\n",
       "      <td>patch_443</td>\n",
       "      <td>7.0</td>\n",
       "      <td>8.0</td>\n",
       "      <td>A - 1</td>\n",
       "      <td>False</td>\n",
       "      <td>False</td>\n",
       "      <td>3596.772251</td>\n",
       "      <td>2747934.0</td>\n",
       "      <td>...</td>\n",
       "      <td>0.006466</td>\n",
       "      <td>0.015086</td>\n",
       "      <td>0.061377</td>\n",
       "      <td>0.070359</td>\n",
       "      <td>0.136228</td>\n",
       "      <td>0.229042</td>\n",
       "      <td>0.196108</td>\n",
       "      <td>0.152695</td>\n",
       "      <td>0.095808</td>\n",
       "      <td>0.058383</td>\n",
       "    </tr>\n",
       "    <tr>\n",
       "      <th>371</th>\n",
       "      <td>805</td>\n",
       "      <td>5963.0</td>\n",
       "      <td>patch_370</td>\n",
       "      <td>0.0</td>\n",
       "      <td>1.0</td>\n",
       "      <td>A - 1</td>\n",
       "      <td>False</td>\n",
       "      <td>False</td>\n",
       "      <td>5566.299379</td>\n",
       "      <td>4480871.0</td>\n",
       "      <td>...</td>\n",
       "      <td>0.007212</td>\n",
       "      <td>0.007212</td>\n",
       "      <td>0.067143</td>\n",
       "      <td>0.080000</td>\n",
       "      <td>0.111429</td>\n",
       "      <td>0.204286</td>\n",
       "      <td>0.261429</td>\n",
       "      <td>0.144286</td>\n",
       "      <td>0.071429</td>\n",
       "      <td>0.060000</td>\n",
       "    </tr>\n",
       "    <tr>\n",
       "      <th>4379</th>\n",
       "      <td>850</td>\n",
       "      <td>5351.0</td>\n",
       "      <td>patch_185</td>\n",
       "      <td>6.0</td>\n",
       "      <td>7.0</td>\n",
       "      <td>A - 1</td>\n",
       "      <td>False</td>\n",
       "      <td>False</td>\n",
       "      <td>4961.371765</td>\n",
       "      <td>4217166.0</td>\n",
       "      <td>...</td>\n",
       "      <td>0.166667</td>\n",
       "      <td>0.072917</td>\n",
       "      <td>0.046875</td>\n",
       "      <td>0.075521</td>\n",
       "      <td>0.092448</td>\n",
       "      <td>0.207031</td>\n",
       "      <td>0.298177</td>\n",
       "      <td>0.164062</td>\n",
       "      <td>0.069010</td>\n",
       "      <td>0.046875</td>\n",
       "    </tr>\n",
       "    <tr>\n",
       "      <th>1880</th>\n",
       "      <td>861</td>\n",
       "      <td>2851.0</td>\n",
       "      <td>patch_33</td>\n",
       "      <td>2.0</td>\n",
       "      <td>3.0</td>\n",
       "      <td>A - 1</td>\n",
       "      <td>False</td>\n",
       "      <td>False</td>\n",
       "      <td>2767.406504</td>\n",
       "      <td>2382737.0</td>\n",
       "      <td>...</td>\n",
       "      <td>0.009375</td>\n",
       "      <td>0.031250</td>\n",
       "      <td>0.123476</td>\n",
       "      <td>0.125000</td>\n",
       "      <td>0.126524</td>\n",
       "      <td>0.184451</td>\n",
       "      <td>0.144817</td>\n",
       "      <td>0.117378</td>\n",
       "      <td>0.103659</td>\n",
       "      <td>0.074695</td>\n",
       "    </tr>\n",
       "    <tr>\n",
       "      <th>5182</th>\n",
       "      <td>951</td>\n",
       "      <td>4698.0</td>\n",
       "      <td>patch_542</td>\n",
       "      <td>7.0</td>\n",
       "      <td>8.0</td>\n",
       "      <td>A - 1</td>\n",
       "      <td>False</td>\n",
       "      <td>False</td>\n",
       "      <td>4590.465825</td>\n",
       "      <td>4365533.0</td>\n",
       "      <td>...</td>\n",
       "      <td>0.033537</td>\n",
       "      <td>0.004573</td>\n",
       "      <td>0.087871</td>\n",
       "      <td>0.085396</td>\n",
       "      <td>0.103960</td>\n",
       "      <td>0.207921</td>\n",
       "      <td>0.219059</td>\n",
       "      <td>0.125000</td>\n",
       "      <td>0.102723</td>\n",
       "      <td>0.068069</td>\n",
       "    </tr>\n",
       "    <tr>\n",
       "      <th>6448</th>\n",
       "      <td>995</td>\n",
       "      <td>4018.0</td>\n",
       "      <td>patch_339</td>\n",
       "      <td>11.0</td>\n",
       "      <td>12.0</td>\n",
       "      <td>A - 1</td>\n",
       "      <td>False</td>\n",
       "      <td>False</td>\n",
       "      <td>4000.495477</td>\n",
       "      <td>3980493.0</td>\n",
       "      <td>...</td>\n",
       "      <td>0.035937</td>\n",
       "      <td>0.051562</td>\n",
       "      <td>0.097052</td>\n",
       "      <td>0.090909</td>\n",
       "      <td>0.137592</td>\n",
       "      <td>0.180590</td>\n",
       "      <td>0.167076</td>\n",
       "      <td>0.165848</td>\n",
       "      <td>0.076167</td>\n",
       "      <td>0.084767</td>\n",
       "    </tr>\n",
       "    <tr>\n",
       "      <th>5214</th>\n",
       "      <td>1032</td>\n",
       "      <td>12748.0</td>\n",
       "      <td>patch_574</td>\n",
       "      <td>7.0</td>\n",
       "      <td>8.0</td>\n",
       "      <td>A - 1</td>\n",
       "      <td>False</td>\n",
       "      <td>True</td>\n",
       "      <td>12118.059109</td>\n",
       "      <td>12505837.0</td>\n",
       "      <td>...</td>\n",
       "      <td>0.019345</td>\n",
       "      <td>0.005952</td>\n",
       "      <td>0.045168</td>\n",
       "      <td>0.044118</td>\n",
       "      <td>0.076681</td>\n",
       "      <td>0.248950</td>\n",
       "      <td>0.345588</td>\n",
       "      <td>0.156513</td>\n",
       "      <td>0.044118</td>\n",
       "      <td>0.038866</td>\n",
       "    </tr>\n",
       "    <tr>\n",
       "      <th>4934</th>\n",
       "      <td>1055</td>\n",
       "      <td>3015.0</td>\n",
       "      <td>patch_294</td>\n",
       "      <td>7.0</td>\n",
       "      <td>8.0</td>\n",
       "      <td>A - 1</td>\n",
       "      <td>False</td>\n",
       "      <td>False</td>\n",
       "      <td>2948.868246</td>\n",
       "      <td>3111056.0</td>\n",
       "      <td>...</td>\n",
       "      <td>0.015306</td>\n",
       "      <td>0.008929</td>\n",
       "      <td>0.106007</td>\n",
       "      <td>0.114252</td>\n",
       "      <td>0.117786</td>\n",
       "      <td>0.166078</td>\n",
       "      <td>0.175501</td>\n",
       "      <td>0.155477</td>\n",
       "      <td>0.081272</td>\n",
       "      <td>0.083628</td>\n",
       "    </tr>\n",
       "    <tr>\n",
       "      <th>718</th>\n",
       "      <td>1102</td>\n",
       "      <td>5512.5</td>\n",
       "      <td>patch_717</td>\n",
       "      <td>0.0</td>\n",
       "      <td>1.0</td>\n",
       "      <td>A - 1</td>\n",
       "      <td>False</td>\n",
       "      <td>False</td>\n",
       "      <td>5447.701452</td>\n",
       "      <td>6003367.0</td>\n",
       "      <td>...</td>\n",
       "      <td>0.006048</td>\n",
       "      <td>0.185484</td>\n",
       "      <td>0.099220</td>\n",
       "      <td>0.091416</td>\n",
       "      <td>0.114827</td>\n",
       "      <td>0.191750</td>\n",
       "      <td>0.196210</td>\n",
       "      <td>0.138239</td>\n",
       "      <td>0.089186</td>\n",
       "      <td>0.079153</td>\n",
       "    </tr>\n",
       "    <tr>\n",
       "      <th>1089</th>\n",
       "      <td>1155</td>\n",
       "      <td>2365.0</td>\n",
       "      <td>patch_166</td>\n",
       "      <td>1.0</td>\n",
       "      <td>2.0</td>\n",
       "      <td>A - 1</td>\n",
       "      <td>False</td>\n",
       "      <td>False</td>\n",
       "      <td>2290.039827</td>\n",
       "      <td>2644996.0</td>\n",
       "      <td>...</td>\n",
       "      <td>0.021277</td>\n",
       "      <td>0.023936</td>\n",
       "      <td>0.116796</td>\n",
       "      <td>0.132369</td>\n",
       "      <td>0.125695</td>\n",
       "      <td>0.152392</td>\n",
       "      <td>0.161290</td>\n",
       "      <td>0.116796</td>\n",
       "      <td>0.078977</td>\n",
       "      <td>0.115684</td>\n",
       "    </tr>\n",
       "    <tr>\n",
       "      <th>4327</th>\n",
       "      <td>1203</td>\n",
       "      <td>7620.0</td>\n",
       "      <td>patch_133</td>\n",
       "      <td>6.0</td>\n",
       "      <td>7.0</td>\n",
       "      <td>A - 1</td>\n",
       "      <td>False</td>\n",
       "      <td>False</td>\n",
       "      <td>7465.374065</td>\n",
       "      <td>8980845.0</td>\n",
       "      <td>...</td>\n",
       "      <td>0.046512</td>\n",
       "      <td>0.037791</td>\n",
       "      <td>0.067555</td>\n",
       "      <td>0.060894</td>\n",
       "      <td>0.117983</td>\n",
       "      <td>0.210276</td>\n",
       "      <td>0.245480</td>\n",
       "      <td>0.149382</td>\n",
       "      <td>0.091342</td>\n",
       "      <td>0.057088</td>\n",
       "    </tr>\n",
       "    <tr>\n",
       "      <th>3331</th>\n",
       "      <td>1264</td>\n",
       "      <td>2894.0</td>\n",
       "      <td>patch_206</td>\n",
       "      <td>4.0</td>\n",
       "      <td>5.0</td>\n",
       "      <td>A - 1</td>\n",
       "      <td>False</td>\n",
       "      <td>False</td>\n",
       "      <td>2884.844146</td>\n",
       "      <td>3646443.0</td>\n",
       "      <td>...</td>\n",
       "      <td>0.036290</td>\n",
       "      <td>0.068548</td>\n",
       "      <td>0.115822</td>\n",
       "      <td>0.114788</td>\n",
       "      <td>0.123061</td>\n",
       "      <td>0.171665</td>\n",
       "      <td>0.177870</td>\n",
       "      <td>0.116856</td>\n",
       "      <td>0.087901</td>\n",
       "      <td>0.092037</td>\n",
       "    </tr>\n",
       "    <tr>\n",
       "      <th>5165</th>\n",
       "      <td>1297</td>\n",
       "      <td>5982.0</td>\n",
       "      <td>patch_525</td>\n",
       "      <td>7.0</td>\n",
       "      <td>8.0</td>\n",
       "      <td>A - 1</td>\n",
       "      <td>False</td>\n",
       "      <td>False</td>\n",
       "      <td>5909.932151</td>\n",
       "      <td>7665182.0</td>\n",
       "      <td>...</td>\n",
       "      <td>0.007440</td>\n",
       "      <td>0.050595</td>\n",
       "      <td>0.095238</td>\n",
       "      <td>0.100952</td>\n",
       "      <td>0.136190</td>\n",
       "      <td>0.182857</td>\n",
       "      <td>0.160000</td>\n",
       "      <td>0.140952</td>\n",
       "      <td>0.106667</td>\n",
       "      <td>0.077143</td>\n",
       "    </tr>\n",
       "  </tbody>\n",
       "</table>\n",
       "<p>14 rows × 46 columns</p>\n",
       "</div>"
      ],
      "text/plain": [
       "     patch_size  median_intensity Unnamed: 0   img   fld TF_name blur_lapl  \\\n",
       "14          611            5471.0   patch_13   0.0   1.0   A - 1     False   \n",
       "5083        764            3662.0  patch_443   7.0   8.0   A - 1     False   \n",
       "371         805            5963.0  patch_370   0.0   1.0   A - 1     False   \n",
       "4379        850            5351.0  patch_185   6.0   7.0   A - 1     False   \n",
       "1880        861            2851.0   patch_33   2.0   3.0   A - 1     False   \n",
       "5182        951            4698.0  patch_542   7.0   8.0   A - 1     False   \n",
       "6448        995            4018.0  patch_339  11.0  12.0   A - 1     False   \n",
       "5214       1032           12748.0  patch_574   7.0   8.0   A - 1     False   \n",
       "4934       1055            3015.0  patch_294   7.0   8.0   A - 1     False   \n",
       "718        1102            5512.5  patch_717   0.0   1.0   A - 1     False   \n",
       "1089       1155            2365.0  patch_166   1.0   2.0   A - 1     False   \n",
       "4327       1203            7620.0  patch_133   6.0   7.0   A - 1     False   \n",
       "3331       1264            2894.0  patch_206   4.0   5.0   A - 1     False   \n",
       "5165       1297            5982.0  patch_525   7.0   8.0   A - 1     False   \n",
       "\n",
       "     blur_ski  mean_intensity  sum_intensity  ...  gabro_14  gabro_15  \\\n",
       "14      False     5554.134206      3393576.0  ...  0.042339  0.006048   \n",
       "5083    False     3596.772251      2747934.0  ...  0.006466  0.015086   \n",
       "371     False     5566.299379      4480871.0  ...  0.007212  0.007212   \n",
       "4379    False     4961.371765      4217166.0  ...  0.166667  0.072917   \n",
       "1880    False     2767.406504      2382737.0  ...  0.009375  0.031250   \n",
       "5182    False     4590.465825      4365533.0  ...  0.033537  0.004573   \n",
       "6448    False     4000.495477      3980493.0  ...  0.035937  0.051562   \n",
       "5214     True    12118.059109     12505837.0  ...  0.019345  0.005952   \n",
       "4934    False     2948.868246      3111056.0  ...  0.015306  0.008929   \n",
       "718     False     5447.701452      6003367.0  ...  0.006048  0.185484   \n",
       "1089    False     2290.039827      2644996.0  ...  0.021277  0.023936   \n",
       "4327    False     7465.374065      8980845.0  ...  0.046512  0.037791   \n",
       "3331    False     2884.844146      3646443.0  ...  0.036290  0.068548   \n",
       "5165    False     5909.932151      7665182.0  ...  0.007440  0.050595   \n",
       "\n",
       "         lbp_0     lbp_1     lbp_2     lbp_3     lbp_4     lbp_5     lbp_6  \\\n",
       "14    0.086372  0.061420  0.103647  0.228407  0.214971  0.155470  0.094050   \n",
       "5083  0.061377  0.070359  0.136228  0.229042  0.196108  0.152695  0.095808   \n",
       "371   0.067143  0.080000  0.111429  0.204286  0.261429  0.144286  0.071429   \n",
       "4379  0.046875  0.075521  0.092448  0.207031  0.298177  0.164062  0.069010   \n",
       "1880  0.123476  0.125000  0.126524  0.184451  0.144817  0.117378  0.103659   \n",
       "5182  0.087871  0.085396  0.103960  0.207921  0.219059  0.125000  0.102723   \n",
       "6448  0.097052  0.090909  0.137592  0.180590  0.167076  0.165848  0.076167   \n",
       "5214  0.045168  0.044118  0.076681  0.248950  0.345588  0.156513  0.044118   \n",
       "4934  0.106007  0.114252  0.117786  0.166078  0.175501  0.155477  0.081272   \n",
       "718   0.099220  0.091416  0.114827  0.191750  0.196210  0.138239  0.089186   \n",
       "1089  0.116796  0.132369  0.125695  0.152392  0.161290  0.116796  0.078977   \n",
       "4327  0.067555  0.060894  0.117983  0.210276  0.245480  0.149382  0.091342   \n",
       "3331  0.115822  0.114788  0.123061  0.171665  0.177870  0.116856  0.087901   \n",
       "5165  0.095238  0.100952  0.136190  0.182857  0.160000  0.140952  0.106667   \n",
       "\n",
       "         lbp_7  \n",
       "14    0.055662  \n",
       "5083  0.058383  \n",
       "371   0.060000  \n",
       "4379  0.046875  \n",
       "1880  0.074695  \n",
       "5182  0.068069  \n",
       "6448  0.084767  \n",
       "5214  0.038866  \n",
       "4934  0.083628  \n",
       "718   0.079153  \n",
       "1089  0.115684  \n",
       "4327  0.057088  \n",
       "3331  0.092037  \n",
       "5165  0.077143  \n",
       "\n",
       "[14 rows x 46 columns]"
      ]
     },
     "execution_count": 244,
     "metadata": {},
     "output_type": "execute_result"
    }
   ],
   "source": [
    "result"
   ]
  },
  {
   "cell_type": "markdown",
   "id": "7e811a30-a060-4c38-9c49-8981ad081738",
   "metadata": {},
   "source": [
    "***\n",
    "# Preprocessing"
   ]
  },
  {
   "cell_type": "markdown",
   "id": "3ba66c31-7080-43e6-bab1-d7318e5a3861",
   "metadata": {},
   "source": [
    "### Outlier removal\n",
    "\n",
    "To adapt is the columns where we want to change the outliers"
   ]
  },
  {
   "cell_type": "code",
   "execution_count": 234,
   "id": "0f58461b-0c8a-4543-960a-31365bdd98b9",
   "metadata": {},
   "outputs": [],
   "source": [
    "columns_outliers = ['mean_intensity','patch_size']\n",
    "remove_outliers = ypet_intensity.copy()\n",
    "\n",
    "def outlier_removal(without_outliers, outlier_range = 4):\n",
    "    columns_outliers= ['mean_intensity', 'median_intensity','sum_intensity','feret_diameter_max']    \n",
    "    # Use a for loop to iterate over the columns of the dataframe\n",
    "    for col in columns_outliers:\n",
    "        # Look up the threshold value for the current column using the dictionary\n",
    "        \"\"\"\n",
    "        median = without_outliers[col].median()\n",
    "        q_75 = without_outliers[col].quantile(q = 0.75)\n",
    "        q_25 = without_outliers[col].quantile(q = 0.25)\n",
    "        interquantile = q_75 - q_25                              \n",
    "        upper_bound = median + (interquantile * outlier_range)\n",
    "        lower_bound = median - (interquantile * outlier_range)\n",
    "        \"\"\"\n",
    "        q_95 = without_outliers[col].quantile(q = 0.99)\n",
    "      # Create a boolean mask that is True for rows with a value less than or equal to the threshold\n",
    "        #mask = (without_outliers[col] <= upper_bound) & (without_outliers[col] >= lower_bound)\n",
    "        mask = without_outliers[col] <= q_95\n",
    "      # Use the mask to filter the dataframe and keep only the rows with a value less than or equal to the threshold\n",
    "        without_outliers = without_outliers[mask]\n",
    "        \n",
    "    return without_outliers\n"
   ]
  },
  {
   "cell_type": "code",
   "execution_count": 235,
   "id": "693cc466-5487-490c-9a5f-d9e2b5b8e88b",
   "metadata": {
    "tags": []
   },
   "outputs": [],
   "source": [
    "without_outliers = remove_outliers.groupby('TF_name',as_index=False).apply(outlier_removal).reset_index()\n",
    "without_outliers = without_outliers.drop(['level_0'],axis=1)\n",
    "without_outliers = without_outliers.set_index('level_1')\n",
    "without_outliers.index.name = None"
   ]
  },
  {
   "cell_type": "code",
   "execution_count": 236,
   "id": "485c9a3b-3eff-4174-9aef-227a38faf72c",
   "metadata": {},
   "outputs": [],
   "source": [
    "ypet_intensity_processed = without_outliers.copy()"
   ]
  },
  {
   "cell_type": "markdown",
   "id": "aaf42e31-7543-4217-9293-de18eb9b207a",
   "metadata": {},
   "source": [
    "### Normalize ypet_intensity for each TF after we've concenated all df"
   ]
  },
  {
   "cell_type": "code",
   "execution_count": 237,
   "id": "d1b4d9eb-d914-4289-8961-e3d15d1c37d0",
   "metadata": {},
   "outputs": [],
   "source": [
    "# Normalize \n",
    "rows_to_be_normalized = ['mean_intensity', 'median_intensity', 'sum_intensity', 'feret_diameter_max']\n",
    "TF_grouped = ypet_intensity_processed.groupby('TF_name')\n",
    "Normalized_rows = TF_grouped[rows_to_be_normalized].transform(lambda x: (x - x.mean()) / x.std())\n",
    "\n",
    "# Replace normalized\n",
    "ypet_intensity_processed[rows_to_be_normalized] = Normalized_rows"
   ]
  },
  {
   "cell_type": "code",
   "execution_count": 238,
   "id": "a9cfeaac-5b14-4e92-88ee-df8dae8db47c",
   "metadata": {},
   "outputs": [
    {
     "data": {
      "text/html": [
       "<div>\n",
       "<style scoped>\n",
       "    .dataframe tbody tr th:only-of-type {\n",
       "        vertical-align: middle;\n",
       "    }\n",
       "\n",
       "    .dataframe tbody tr th {\n",
       "        vertical-align: top;\n",
       "    }\n",
       "\n",
       "    .dataframe thead th {\n",
       "        text-align: right;\n",
       "    }\n",
       "</style>\n",
       "<table border=\"1\" class=\"dataframe\">\n",
       "  <thead>\n",
       "    <tr style=\"text-align: right;\">\n",
       "      <th></th>\n",
       "      <th>Unnamed: 0</th>\n",
       "      <th>img</th>\n",
       "      <th>fld</th>\n",
       "      <th>TF_name</th>\n",
       "      <th>blur_lapl</th>\n",
       "      <th>blur_ski</th>\n",
       "      <th>patch_size</th>\n",
       "      <th>mean_intensity</th>\n",
       "      <th>sum_intensity</th>\n",
       "      <th>median_intensity</th>\n",
       "      <th>...</th>\n",
       "      <th>gabro_15</th>\n",
       "      <th>lbp_0</th>\n",
       "      <th>lbp_1</th>\n",
       "      <th>lbp_2</th>\n",
       "      <th>lbp_3</th>\n",
       "      <th>lbp_4</th>\n",
       "      <th>lbp_5</th>\n",
       "      <th>lbp_6</th>\n",
       "      <th>lbp_7</th>\n",
       "      <th>Circularity</th>\n",
       "    </tr>\n",
       "  </thead>\n",
       "  <tbody>\n",
       "    <tr>\n",
       "      <th>1</th>\n",
       "      <td>patch_0</td>\n",
       "      <td>0</td>\n",
       "      <td>1</td>\n",
       "      <td>A - 1</td>\n",
       "      <td>False</td>\n",
       "      <td>False</td>\n",
       "      <td>1643</td>\n",
       "      <td>0.154802</td>\n",
       "      <td>0.942537</td>\n",
       "      <td>0.014782</td>\n",
       "      <td>...</td>\n",
       "      <td>0.006818</td>\n",
       "      <td>0.164676</td>\n",
       "      <td>0.158703</td>\n",
       "      <td>0.107509</td>\n",
       "      <td>0.124573</td>\n",
       "      <td>0.105802</td>\n",
       "      <td>0.108362</td>\n",
       "      <td>0.104949</td>\n",
       "      <td>0.125427</td>\n",
       "      <td>0.840718</td>\n",
       "    </tr>\n",
       "    <tr>\n",
       "      <th>2</th>\n",
       "      <td>patch_1</td>\n",
       "      <td>0</td>\n",
       "      <td>1</td>\n",
       "      <td>A - 1</td>\n",
       "      <td>False</td>\n",
       "      <td>False</td>\n",
       "      <td>1412</td>\n",
       "      <td>-0.196630</td>\n",
       "      <td>0.197311</td>\n",
       "      <td>-0.238766</td>\n",
       "      <td>...</td>\n",
       "      <td>0.008413</td>\n",
       "      <td>0.233108</td>\n",
       "      <td>0.193694</td>\n",
       "      <td>0.100225</td>\n",
       "      <td>0.102477</td>\n",
       "      <td>0.065315</td>\n",
       "      <td>0.070946</td>\n",
       "      <td>0.078829</td>\n",
       "      <td>0.155405</td>\n",
       "      <td>0.823240</td>\n",
       "    </tr>\n",
       "    <tr>\n",
       "      <th>3</th>\n",
       "      <td>patch_2</td>\n",
       "      <td>0</td>\n",
       "      <td>1</td>\n",
       "      <td>A - 1</td>\n",
       "      <td>False</td>\n",
       "      <td>False</td>\n",
       "      <td>396</td>\n",
       "      <td>0.569748</td>\n",
       "      <td>-0.842270</td>\n",
       "      <td>0.531536</td>\n",
       "      <td>...</td>\n",
       "      <td>0.031250</td>\n",
       "      <td>0.202847</td>\n",
       "      <td>0.192171</td>\n",
       "      <td>0.106762</td>\n",
       "      <td>0.124555</td>\n",
       "      <td>0.081851</td>\n",
       "      <td>0.064057</td>\n",
       "      <td>0.067616</td>\n",
       "      <td>0.160142</td>\n",
       "      <td>0.939736</td>\n",
       "    </tr>\n",
       "    <tr>\n",
       "      <th>4</th>\n",
       "      <td>patch_3</td>\n",
       "      <td>0</td>\n",
       "      <td>1</td>\n",
       "      <td>A - 1</td>\n",
       "      <td>False</td>\n",
       "      <td>False</td>\n",
       "      <td>222</td>\n",
       "      <td>-0.157867</td>\n",
       "      <td>-1.293362</td>\n",
       "      <td>-0.361918</td>\n",
       "      <td>...</td>\n",
       "      <td>0.011029</td>\n",
       "      <td>0.134078</td>\n",
       "      <td>0.150838</td>\n",
       "      <td>0.134078</td>\n",
       "      <td>0.128492</td>\n",
       "      <td>0.162011</td>\n",
       "      <td>0.089385</td>\n",
       "      <td>0.078212</td>\n",
       "      <td>0.122905</td>\n",
       "      <td>0.998029</td>\n",
       "    </tr>\n",
       "    <tr>\n",
       "      <th>5</th>\n",
       "      <td>patch_4</td>\n",
       "      <td>0</td>\n",
       "      <td>1</td>\n",
       "      <td>A - 1</td>\n",
       "      <td>False</td>\n",
       "      <td>False</td>\n",
       "      <td>512</td>\n",
       "      <td>-0.247850</td>\n",
       "      <td>-0.955857</td>\n",
       "      <td>-0.172119</td>\n",
       "      <td>...</td>\n",
       "      <td>0.027500</td>\n",
       "      <td>0.134663</td>\n",
       "      <td>0.137157</td>\n",
       "      <td>0.107232</td>\n",
       "      <td>0.147132</td>\n",
       "      <td>0.139651</td>\n",
       "      <td>0.129676</td>\n",
       "      <td>0.077307</td>\n",
       "      <td>0.127182</td>\n",
       "      <td>0.933676</td>\n",
       "    </tr>\n",
       "    <tr>\n",
       "      <th>...</th>\n",
       "      <td>...</td>\n",
       "      <td>...</td>\n",
       "      <td>...</td>\n",
       "      <td>...</td>\n",
       "      <td>...</td>\n",
       "      <td>...</td>\n",
       "      <td>...</td>\n",
       "      <td>...</td>\n",
       "      <td>...</td>\n",
       "      <td>...</td>\n",
       "      <td>...</td>\n",
       "      <td>...</td>\n",
       "      <td>...</td>\n",
       "      <td>...</td>\n",
       "      <td>...</td>\n",
       "      <td>...</td>\n",
       "      <td>...</td>\n",
       "      <td>...</td>\n",
       "      <td>...</td>\n",
       "      <td>...</td>\n",
       "      <td>...</td>\n",
       "    </tr>\n",
       "    <tr>\n",
       "      <th>6523</th>\n",
       "      <td>patch_414</td>\n",
       "      <td>11</td>\n",
       "      <td>12</td>\n",
       "      <td>A - 1</td>\n",
       "      <td>False</td>\n",
       "      <td>False</td>\n",
       "      <td>1890</td>\n",
       "      <td>-0.899526</td>\n",
       "      <td>-0.247001</td>\n",
       "      <td>-0.895093</td>\n",
       "      <td>...</td>\n",
       "      <td>0.029605</td>\n",
       "      <td>0.213703</td>\n",
       "      <td>0.199837</td>\n",
       "      <td>0.101142</td>\n",
       "      <td>0.087276</td>\n",
       "      <td>0.071778</td>\n",
       "      <td>0.073409</td>\n",
       "      <td>0.082382</td>\n",
       "      <td>0.170473</td>\n",
       "      <td>0.876513</td>\n",
       "    </tr>\n",
       "    <tr>\n",
       "      <th>6524</th>\n",
       "      <td>patch_415</td>\n",
       "      <td>11</td>\n",
       "      <td>12</td>\n",
       "      <td>A - 1</td>\n",
       "      <td>False</td>\n",
       "      <td>False</td>\n",
       "      <td>1132</td>\n",
       "      <td>-0.715780</td>\n",
       "      <td>-0.617663</td>\n",
       "      <td>-0.704811</td>\n",
       "      <td>...</td>\n",
       "      <td>0.020313</td>\n",
       "      <td>0.208443</td>\n",
       "      <td>0.155673</td>\n",
       "      <td>0.121372</td>\n",
       "      <td>0.121372</td>\n",
       "      <td>0.087071</td>\n",
       "      <td>0.076517</td>\n",
       "      <td>0.091029</td>\n",
       "      <td>0.138522</td>\n",
       "      <td>0.850909</td>\n",
       "    </tr>\n",
       "    <tr>\n",
       "      <th>6525</th>\n",
       "      <td>patch_416</td>\n",
       "      <td>11</td>\n",
       "      <td>12</td>\n",
       "      <td>A - 1</td>\n",
       "      <td>False</td>\n",
       "      <td>False</td>\n",
       "      <td>1045</td>\n",
       "      <td>-0.708099</td>\n",
       "      <td>-0.685266</td>\n",
       "      <td>-0.698050</td>\n",
       "      <td>...</td>\n",
       "      <td>0.150735</td>\n",
       "      <td>0.212976</td>\n",
       "      <td>0.190409</td>\n",
       "      <td>0.093089</td>\n",
       "      <td>0.108604</td>\n",
       "      <td>0.081805</td>\n",
       "      <td>0.086037</td>\n",
       "      <td>0.086037</td>\n",
       "      <td>0.141044</td>\n",
       "      <td>0.763415</td>\n",
       "    </tr>\n",
       "    <tr>\n",
       "      <th>6526</th>\n",
       "      <td>patch_417</td>\n",
       "      <td>11</td>\n",
       "      <td>12</td>\n",
       "      <td>A - 1</td>\n",
       "      <td>False</td>\n",
       "      <td>False</td>\n",
       "      <td>963</td>\n",
       "      <td>-0.661405</td>\n",
       "      <td>-0.720037</td>\n",
       "      <td>-0.649755</td>\n",
       "      <td>...</td>\n",
       "      <td>0.008013</td>\n",
       "      <td>0.169343</td>\n",
       "      <td>0.159124</td>\n",
       "      <td>0.102190</td>\n",
       "      <td>0.119708</td>\n",
       "      <td>0.094891</td>\n",
       "      <td>0.118248</td>\n",
       "      <td>0.108029</td>\n",
       "      <td>0.128467</td>\n",
       "      <td>0.784256</td>\n",
       "    </tr>\n",
       "    <tr>\n",
       "      <th>6527</th>\n",
       "      <td>patch_418</td>\n",
       "      <td>11</td>\n",
       "      <td>12</td>\n",
       "      <td>A - 1</td>\n",
       "      <td>False</td>\n",
       "      <td>False</td>\n",
       "      <td>1122</td>\n",
       "      <td>-0.799484</td>\n",
       "      <td>-0.700094</td>\n",
       "      <td>-0.793674</td>\n",
       "      <td>...</td>\n",
       "      <td>0.062500</td>\n",
       "      <td>0.203230</td>\n",
       "      <td>0.196501</td>\n",
       "      <td>0.100942</td>\n",
       "      <td>0.098250</td>\n",
       "      <td>0.067295</td>\n",
       "      <td>0.088829</td>\n",
       "      <td>0.076716</td>\n",
       "      <td>0.168237</td>\n",
       "      <td>0.913654</td>\n",
       "    </tr>\n",
       "  </tbody>\n",
       "</table>\n",
       "<p>6268 rows × 47 columns</p>\n",
       "</div>"
      ],
      "text/plain": [
       "     Unnamed: 0  img  fld TF_name  blur_lapl  blur_ski  patch_size  \\\n",
       "1       patch_0    0    1   A - 1      False     False        1643   \n",
       "2       patch_1    0    1   A - 1      False     False        1412   \n",
       "3       patch_2    0    1   A - 1      False     False         396   \n",
       "4       patch_3    0    1   A - 1      False     False         222   \n",
       "5       patch_4    0    1   A - 1      False     False         512   \n",
       "...         ...  ...  ...     ...        ...       ...         ...   \n",
       "6523  patch_414   11   12   A - 1      False     False        1890   \n",
       "6524  patch_415   11   12   A - 1      False     False        1132   \n",
       "6525  patch_416   11   12   A - 1      False     False        1045   \n",
       "6526  patch_417   11   12   A - 1      False     False         963   \n",
       "6527  patch_418   11   12   A - 1      False     False        1122   \n",
       "\n",
       "      mean_intensity  sum_intensity  median_intensity  ...  gabro_15  \\\n",
       "1           0.154802       0.942537          0.014782  ...  0.006818   \n",
       "2          -0.196630       0.197311         -0.238766  ...  0.008413   \n",
       "3           0.569748      -0.842270          0.531536  ...  0.031250   \n",
       "4          -0.157867      -1.293362         -0.361918  ...  0.011029   \n",
       "5          -0.247850      -0.955857         -0.172119  ...  0.027500   \n",
       "...              ...            ...               ...  ...       ...   \n",
       "6523       -0.899526      -0.247001         -0.895093  ...  0.029605   \n",
       "6524       -0.715780      -0.617663         -0.704811  ...  0.020313   \n",
       "6525       -0.708099      -0.685266         -0.698050  ...  0.150735   \n",
       "6526       -0.661405      -0.720037         -0.649755  ...  0.008013   \n",
       "6527       -0.799484      -0.700094         -0.793674  ...  0.062500   \n",
       "\n",
       "         lbp_0     lbp_1     lbp_2     lbp_3     lbp_4     lbp_5     lbp_6  \\\n",
       "1     0.164676  0.158703  0.107509  0.124573  0.105802  0.108362  0.104949   \n",
       "2     0.233108  0.193694  0.100225  0.102477  0.065315  0.070946  0.078829   \n",
       "3     0.202847  0.192171  0.106762  0.124555  0.081851  0.064057  0.067616   \n",
       "4     0.134078  0.150838  0.134078  0.128492  0.162011  0.089385  0.078212   \n",
       "5     0.134663  0.137157  0.107232  0.147132  0.139651  0.129676  0.077307   \n",
       "...        ...       ...       ...       ...       ...       ...       ...   \n",
       "6523  0.213703  0.199837  0.101142  0.087276  0.071778  0.073409  0.082382   \n",
       "6524  0.208443  0.155673  0.121372  0.121372  0.087071  0.076517  0.091029   \n",
       "6525  0.212976  0.190409  0.093089  0.108604  0.081805  0.086037  0.086037   \n",
       "6526  0.169343  0.159124  0.102190  0.119708  0.094891  0.118248  0.108029   \n",
       "6527  0.203230  0.196501  0.100942  0.098250  0.067295  0.088829  0.076716   \n",
       "\n",
       "         lbp_7  Circularity  \n",
       "1     0.125427     0.840718  \n",
       "2     0.155405     0.823240  \n",
       "3     0.160142     0.939736  \n",
       "4     0.122905     0.998029  \n",
       "5     0.127182     0.933676  \n",
       "...        ...          ...  \n",
       "6523  0.170473     0.876513  \n",
       "6524  0.138522     0.850909  \n",
       "6525  0.141044     0.763415  \n",
       "6526  0.128467     0.784256  \n",
       "6527  0.168237     0.913654  \n",
       "\n",
       "[6268 rows x 47 columns]"
      ]
     },
     "execution_count": 238,
     "metadata": {},
     "output_type": "execute_result"
    }
   ],
   "source": [
    "ypet_intensity_processed"
   ]
  },
  {
   "cell_type": "markdown",
   "id": "5a0f6092-1b03-4699-86b5-3bbdbdd0de59",
   "metadata": {},
   "source": [
    "***"
   ]
  },
  {
   "cell_type": "markdown",
   "id": "5766179b-b21f-4caa-9f79-281d6dbf5585",
   "metadata": {},
   "source": [
    "# Task 1"
   ]
  },
  {
   "cell_type": "code",
   "execution_count": 239,
   "id": "85217c8a-5f90-45bb-b8ec-e43b387f03d3",
   "metadata": {},
   "outputs": [
    {
     "data": {
      "text/plain": [
       "\"\\ndf_train_x = df_train[[testfeature[0]]]\\ndf_test_x = df_test[[testfeature[0]]]\\n\\ndf_train_y = df_train[['patch_size']]\\ndf_test_y = df_test[['patch_size']]\\n\""
      ]
     },
     "execution_count": 239,
     "metadata": {},
     "output_type": "execute_result"
    }
   ],
   "source": [
    "# Split train test\n",
    "df_train, df_test = train_test_split(ypet_intensity_processed, train_size = 0.8, test_size = 0.2, random_state = 10)\n",
    "\n",
    "testfeature = ['mean_intensity', 'sum_intensity', 'median_intensity','feret_diameter_max', 'Circularity']\n",
    "\n",
    "\n",
    "df_train_x = df_train[['patch_size']]\n",
    "df_test_x = df_test[['patch_size']]\n",
    "\n",
    "df_train_y = df_train[[testfeature[2]]]\n",
    "df_test_y = df_test[[testfeature[2]]]\n",
    "\n",
    "\"\"\"\n",
    "df_train_x = df_train[[testfeature[0]]]\n",
    "df_test_x = df_test[[testfeature[0]]]\n",
    "\n",
    "df_train_y = df_train[['patch_size']]\n",
    "df_test_y = df_test[['patch_size']]\n",
    "\"\"\""
   ]
  },
  {
   "cell_type": "code",
   "execution_count": 240,
   "id": "2bb9c9df-7259-4808-b1e3-79720eb6c159",
   "metadata": {},
   "outputs": [],
   "source": [
    "#model to select\n",
    "maxdegree = 5 #To define is the maximum degree of the polynomial\n",
    "cross_validation_ridge_error = np.zeros(maxdegree-1)\n",
    "cross_validation_lm_error = np.zeros(maxdegree-1)\n",
    "\n",
    "#see which degree fits data the best for linear regression\n",
    "for d in range(1, maxdegree):\n",
    "    #polynomial feature expansion of x_train\n",
    "    x_poly_train = PolynomialFeatures(degree=d).fit_transform(df_train_x)\n",
    "    #apply linear regression model and cross-validation for alpha-ridge regression\n",
    "    lr = LinearRegression()\n",
    "    rr = RidgeCV(alphas=[1e-3, 1e-2, 1e-1, 1])\n",
    "    #apply cross validation\n",
    "    cve = cross_validate(lr,x_poly_train,df_train_y,scoring='neg_mean_squared_error', cv=5, return_train_score=True)\n",
    "    crr = cross_validate(rr,x_poly_train,df_train_y,scoring='neg_mean_squared_error', cv=5, return_train_score=True)\n",
    "    #make array for cross validation with linear model and for ridge regression\n",
    "    cross_validation_lm_error[d-1] = np.mean(np.absolute(cve['test_score']))\n",
    "    cross_validation_ridge_error[d-1] = np.mean(np.absolute(crr['test_score']))"
   ]
  },
  {
   "cell_type": "code",
   "execution_count": 241,
   "id": "da3b7444-d516-41ce-a05d-3885e3c6fb40",
   "metadata": {},
   "outputs": [],
   "source": [
    "index_min_lm = np.argmin(cross_validation_lm_error)\n",
    "index_min_ridge = np.argmin(cross_validation_ridge_error)\n",
    "x_poly_test = PolynomialFeatures(degree=index_min_lm+1).fit_transform(df_test_x)\n",
    "x_poly_train = PolynomialFeatures(degree=index_min_lm+1).fit_transform(df_train_x)\n",
    "\n",
    "x_poly_train_df = pd.DataFrame(x_poly_train)\n",
    "x_poly_test_df = pd.DataFrame(x_poly_test)\n",
    "\n",
    "#make linear model\n",
    "model_lm = LinearRegression().fit(x_poly_train_df, df_train_y)\n",
    "model_ridge = RidgeCV(alphas=[1e-3, 1e-2, 1e-1, 1]).fit(x_poly_train_df, df_train_y)\n",
    "\n",
    "#train error\n",
    "y_train_pred_lm = model_lm.predict(x_poly_train)\n",
    "mse_train_lm = mean_squared_error(df_train_y,y_train_pred_lm)\n",
    "y_train_pred_ridge = model_ridge.predict(x_poly_train)\n",
    "mse_train_ridge = mean_squared_error(df_train_y,y_train_pred_ridge)\n",
    "\n",
    "#test error\n",
    "y_test_pred_lm = model_lm.predict(x_poly_test_df)\n",
    "mse_test_lm = mean_squared_error(df_test_y,y_test_pred_lm)\n",
    "y_test_pred_ridge = model_ridge.predict(x_poly_test_df)\n",
    "mse_test_ridge = mean_squared_error(df_test_y,y_test_pred_ridge)"
   ]
  },
  {
   "cell_type": "code",
   "execution_count": 245,
   "id": "43919569-b65d-482b-b8fe-bddc67e015f2",
   "metadata": {},
   "outputs": [
    {
     "data": {
      "text/plain": [
       "<AxesSubplot:xlabel='patch_size', ylabel='median_intensity'>"
      ]
     },
     "execution_count": 245,
     "metadata": {},
     "output_type": "execute_result"
    },
    {
     "data": {
      "image/png": "[encoded data removed]",
      "text/plain": [
       "<Figure size 432x288 with 1 Axes>"
      ]
     },
     "metadata": {
      "needs_background": "light"
     },
     "output_type": "display_data"
    }
   ],
   "source": [
    "sns.regplot(x=\"patch_size\", y=\"median_intensity\", data=result, fit_reg=False)"
   ]
  },
  {
   "cell_type": "code",
   "execution_count": 166,
   "id": "cdb11f6b-33b8-4509-90b1-f4e40bdd0312",
   "metadata": {},
   "outputs": [
    {
     "name": "stderr",
     "output_type": "stream",
     "text": [
      "C:\\Users\\Claudia\\AppData\\Local\\Temp/ipykernel_12728/1492883162.py:4: UserWarning: color is redundantly defined by the 'color' keyword argument and the fmt string \"ro\" (-> color='r'). The keyword argument will take precedence.\n",
      "  plt.plot(df_test_x,y_test_pred_lm, 'ro',color = 'black')\n"
     ]
    },
    {
     "data": {
      "image/png": "[encoded data removed]",
      "text/plain": [
       "<Figure size 432x288 with 1 Axes>"
      ]
     },
     "metadata": {
      "needs_background": "light"
     },
     "output_type": "display_data"
    }
   ],
   "source": [
    "#show predicted things\n",
    "\n",
    "plt.plot(df_train_x,df_train_y, 'ro')\n",
    "plt.plot(df_test_x,y_test_pred_lm, 'ro',color = 'black')\n",
    "\"\"\"\n",
    "plt.plot(df_train_y,df_train_x, 'ro')\n",
    "plt.plot(y_test_pred_lm,df_test_x, 'ro',color = 'black')\n",
    "\"\"\"\n",
    "#plt.yscale(\"log\")\n",
    "#plt.xscale(\"log\")\n",
    "plt.show()"
   ]
  },
  {
   "cell_type": "code",
   "execution_count": 167,
   "id": "c10ee48f-e627-4aaf-b1bc-fb64ccfb9087",
   "metadata": {},
   "outputs": [
    {
     "name": "stderr",
     "output_type": "stream",
     "text": [
      "C:\\Users\\Claudia\\AppData\\Local\\Temp/ipykernel_12728/3888939154.py:3: UserWarning: color is redundantly defined by the 'color' keyword argument and the fmt string \"ro\" (-> color='r'). The keyword argument will take precedence.\n",
      "  plt.plot(df_test_x,y_test_pred_ridge, 'ro',color = 'black')\n"
     ]
    },
    {
     "data": {
      "image/png": "[encoded data removed]",
      "text/plain": [
       "<Figure size 432x288 with 1 Axes>"
      ]
     },
     "metadata": {
      "needs_background": "light"
     },
     "output_type": "display_data"
    }
   ],
   "source": [
    "#show predicted things\n",
    "plt.plot(df_train_x,df_train_y, 'ro')\n",
    "plt.plot(df_test_x,y_test_pred_ridge, 'ro',color = 'black')\n",
    "\n",
    "\"\"\"\n",
    "plt.plot(df_train_y,df_train_x, 'ro')\n",
    "plt.plot(y_test_pred_ridge,df_test_x, 'ro',color = 'black')\n",
    "\"\"\"\n",
    "#plt.yscale(\"log\")\n",
    "#plt.xscale(\"log\")\n",
    "plt.show()"
   ]
  },
  {
   "cell_type": "code",
   "execution_count": 168,
   "id": "2097be32-614e-4d88-8be9-cd4bd1718a21",
   "metadata": {},
   "outputs": [
    {
     "name": "stdout",
     "output_type": "stream",
     "text": [
      "take linear regression\n",
      "coefficients:  [[ 0.0000000e+00  1.6898442e-04 -2.2446335e-07]]\n",
      "intercept:  [0.14208697]\n"
     ]
    }
   ],
   "source": [
    "if mse_test_ridge >= mse_test_lm:\n",
    "    print('take linear regression')\n",
    "    print('coefficients: ',model_lm.coef_)\n",
    "    print('intercept: ',model_lm.intercept_)\n",
    "    \n",
    "else:\n",
    "    print('take ridge regression')\n",
    "    print('coefficients: ',model_ridge.coef_)\n",
    "    print('intercept: ',model_ridge.intercept_)\n",
    "    print('alpha: ',model_ridge.alpha_)"
   ]
  },
  {
   "cell_type": "code",
   "execution_count": 145,
   "id": "38430d5b-186d-4eb9-9647-7522cda2d118",
   "metadata": {},
   "outputs": [
    {
     "data": {
      "text/plain": [
       "1.1303093159855457"
      ]
     },
     "execution_count": 145,
     "metadata": {},
     "output_type": "execute_result"
    }
   ],
   "source": [
    "ypet_intensity['Circularity'].max()"
   ]
  },
  {
   "cell_type": "markdown",
   "id": "54637200-f195-49ed-b046-7484394f43ec",
   "metadata": {},
   "source": [
    "***"
   ]
  },
  {
   "cell_type": "markdown",
   "id": "a0597516-f52b-45ef-a9f9-0d2b83fc6fa6",
   "metadata": {},
   "source": [
    "## Task 2: Unsupervised clustering"
   ]
  },
  {
   "cell_type": "markdown",
   "id": "95ba0574-c3e7-4fe8-8e07-ba24d01868a6",
   "metadata": {},
   "source": [
    "Use pca or standard df"
   ]
  },
  {
   "cell_type": "code",
   "execution_count": 125,
   "id": "de39e993-c3a0-47a5-889c-e9652fd538fa",
   "metadata": {},
   "outputs": [
    {
     "data": {
      "text/html": [
       "<div>\n",
       "<style scoped>\n",
       "    .dataframe tbody tr th:only-of-type {\n",
       "        vertical-align: middle;\n",
       "    }\n",
       "\n",
       "    .dataframe tbody tr th {\n",
       "        vertical-align: top;\n",
       "    }\n",
       "\n",
       "    .dataframe thead th {\n",
       "        text-align: right;\n",
       "    }\n",
       "</style>\n",
       "<table border=\"1\" class=\"dataframe\">\n",
       "  <thead>\n",
       "    <tr style=\"text-align: right;\">\n",
       "      <th></th>\n",
       "      <th>patch_size</th>\n",
       "      <th>sum_intensity</th>\n",
       "    </tr>\n",
       "  </thead>\n",
       "  <tbody>\n",
       "    <tr>\n",
       "      <th>patch_0</th>\n",
       "      <td>1100</td>\n",
       "      <td>29750097</td>\n",
       "    </tr>\n",
       "    <tr>\n",
       "      <th>patch_1</th>\n",
       "      <td>883</td>\n",
       "      <td>21733956</td>\n",
       "    </tr>\n",
       "    <tr>\n",
       "      <th>patch_2</th>\n",
       "      <td>1307</td>\n",
       "      <td>16564933</td>\n",
       "    </tr>\n",
       "    <tr>\n",
       "      <th>patch_3</th>\n",
       "      <td>2321</td>\n",
       "      <td>28482464</td>\n",
       "    </tr>\n",
       "    <tr>\n",
       "      <th>patch_4</th>\n",
       "      <td>900</td>\n",
       "      <td>45737457</td>\n",
       "    </tr>\n",
       "    <tr>\n",
       "      <th>patch_5</th>\n",
       "      <td>841</td>\n",
       "      <td>5246949</td>\n",
       "    </tr>\n",
       "  </tbody>\n",
       "</table>\n",
       "</div>"
      ],
      "text/plain": [
       "         patch_size  sum_intensity\n",
       "patch_0        1100       29750097\n",
       "patch_1         883       21733956\n",
       "patch_2        1307       16564933\n",
       "patch_3        2321       28482464\n",
       "patch_4         900       45737457\n",
       "patch_5         841        5246949"
      ]
     },
     "execution_count": 125,
     "metadata": {},
     "output_type": "execute_result"
    }
   ],
   "source": [
    "clustering_feature = ['patch_size', 'sum_intensity']\n",
    "ypet_intensity[clustering_feature]"
   ]
  },
  {
   "cell_type": "code",
   "execution_count": 22,
   "id": "f32fc6f1-2df9-40eb-a2d9-299ed96a238c",
   "metadata": {},
   "outputs": [
    {
     "data": {
      "text/html": [
       "<div>\n",
       "<style scoped>\n",
       "    .dataframe tbody tr th:only-of-type {\n",
       "        vertical-align: middle;\n",
       "    }\n",
       "\n",
       "    .dataframe tbody tr th {\n",
       "        vertical-align: top;\n",
       "    }\n",
       "\n",
       "    .dataframe thead th {\n",
       "        text-align: right;\n",
       "    }\n",
       "</style>\n",
       "<table border=\"1\" class=\"dataframe\">\n",
       "  <thead>\n",
       "    <tr style=\"text-align: right;\">\n",
       "      <th></th>\n",
       "      <th>img</th>\n",
       "      <th>TF_name</th>\n",
       "      <th>pca_component_0</th>\n",
       "      <th>pca_component_1</th>\n",
       "    </tr>\n",
       "  </thead>\n",
       "  <tbody>\n",
       "    <tr>\n",
       "      <th>patch_0</th>\n",
       "      <td>0</td>\n",
       "      <td>E - 7</td>\n",
       "      <td>4.975240e+07</td>\n",
       "      <td>-4.821806e+06</td>\n",
       "    </tr>\n",
       "    <tr>\n",
       "      <th>patch_1</th>\n",
       "      <td>0</td>\n",
       "      <td>E - 7</td>\n",
       "      <td>3.290267e+07</td>\n",
       "      <td>-9.583609e+06</td>\n",
       "    </tr>\n",
       "    <tr>\n",
       "      <th>patch_2</th>\n",
       "      <td>0</td>\n",
       "      <td>E - 7</td>\n",
       "      <td>-3.019646e+07</td>\n",
       "      <td>-2.059740e+06</td>\n",
       "    </tr>\n",
       "    <tr>\n",
       "      <th>patch_3</th>\n",
       "      <td>0</td>\n",
       "      <td>E - 7</td>\n",
       "      <td>-2.506924e+07</td>\n",
       "      <td>9.060520e+06</td>\n",
       "    </tr>\n",
       "    <tr>\n",
       "      <th>patch_4</th>\n",
       "      <td>0</td>\n",
       "      <td>E - 7</td>\n",
       "      <td>1.339753e+07</td>\n",
       "      <td>1.886480e+07</td>\n",
       "    </tr>\n",
       "    <tr>\n",
       "      <th>patch_5</th>\n",
       "      <td>0</td>\n",
       "      <td>E - 7</td>\n",
       "      <td>-4.078690e+07</td>\n",
       "      <td>-1.146016e+07</td>\n",
       "    </tr>\n",
       "  </tbody>\n",
       "</table>\n",
       "</div>"
      ],
      "text/plain": [
       "         img TF_name  pca_component_0  pca_component_1\n",
       "patch_0    0   E - 7     4.975240e+07    -4.821806e+06\n",
       "patch_1    0   E - 7     3.290267e+07    -9.583609e+06\n",
       "patch_2    0   E - 7    -3.019646e+07    -2.059740e+06\n",
       "patch_3    0   E - 7    -2.506924e+07     9.060520e+06\n",
       "patch_4    0   E - 7     1.339753e+07     1.886480e+07\n",
       "patch_5    0   E - 7    -4.078690e+07    -1.146016e+07"
      ]
     },
     "execution_count": 22,
     "metadata": {},
     "output_type": "execute_result"
    }
   ],
   "source": [
    "ypet_intensity_pca"
   ]
  },
  {
   "cell_type": "code",
   "execution_count": 23,
   "id": "64b5faea-ce8c-429a-9422-51d64da47e05",
   "metadata": {},
   "outputs": [
    {
     "data": {
      "text/html": [
       "<div>\n",
       "<style scoped>\n",
       "    .dataframe tbody tr th:only-of-type {\n",
       "        vertical-align: middle;\n",
       "    }\n",
       "\n",
       "    .dataframe tbody tr th {\n",
       "        vertical-align: top;\n",
       "    }\n",
       "\n",
       "    .dataframe thead th {\n",
       "        text-align: right;\n",
       "    }\n",
       "</style>\n",
       "<table border=\"1\" class=\"dataframe\">\n",
       "  <thead>\n",
       "    <tr style=\"text-align: right;\">\n",
       "      <th></th>\n",
       "      <th></th>\n",
       "      <th></th>\n",
       "      <th>pca_component_0</th>\n",
       "      <th>pca_component_1</th>\n",
       "    </tr>\n",
       "    <tr>\n",
       "      <th>index</th>\n",
       "      <th>img</th>\n",
       "      <th>TF_name</th>\n",
       "      <th></th>\n",
       "      <th></th>\n",
       "    </tr>\n",
       "  </thead>\n",
       "  <tbody>\n",
       "    <tr>\n",
       "      <th>patch_0</th>\n",
       "      <th>0</th>\n",
       "      <th>E - 7</th>\n",
       "      <td>4.975240e+07</td>\n",
       "      <td>-4.821806e+06</td>\n",
       "    </tr>\n",
       "    <tr>\n",
       "      <th>patch_1</th>\n",
       "      <th>0</th>\n",
       "      <th>E - 7</th>\n",
       "      <td>3.290267e+07</td>\n",
       "      <td>-9.583609e+06</td>\n",
       "    </tr>\n",
       "    <tr>\n",
       "      <th>patch_2</th>\n",
       "      <th>0</th>\n",
       "      <th>E - 7</th>\n",
       "      <td>-3.019646e+07</td>\n",
       "      <td>-2.059740e+06</td>\n",
       "    </tr>\n",
       "    <tr>\n",
       "      <th>patch_3</th>\n",
       "      <th>0</th>\n",
       "      <th>E - 7</th>\n",
       "      <td>-2.506924e+07</td>\n",
       "      <td>9.060520e+06</td>\n",
       "    </tr>\n",
       "    <tr>\n",
       "      <th>patch_4</th>\n",
       "      <th>0</th>\n",
       "      <th>E - 7</th>\n",
       "      <td>1.339753e+07</td>\n",
       "      <td>1.886480e+07</td>\n",
       "    </tr>\n",
       "    <tr>\n",
       "      <th>patch_5</th>\n",
       "      <th>0</th>\n",
       "      <th>E - 7</th>\n",
       "      <td>-4.078690e+07</td>\n",
       "      <td>-1.146016e+07</td>\n",
       "    </tr>\n",
       "  </tbody>\n",
       "</table>\n",
       "</div>"
      ],
      "text/plain": [
       "                     pca_component_0  pca_component_1\n",
       "index   img TF_name                                  \n",
       "patch_0 0   E - 7       4.975240e+07    -4.821806e+06\n",
       "patch_1 0   E - 7       3.290267e+07    -9.583609e+06\n",
       "patch_2 0   E - 7      -3.019646e+07    -2.059740e+06\n",
       "patch_3 0   E - 7      -2.506924e+07     9.060520e+06\n",
       "patch_4 0   E - 7       1.339753e+07     1.886480e+07\n",
       "patch_5 0   E - 7      -4.078690e+07    -1.146016e+07"
      ]
     },
     "execution_count": 23,
     "metadata": {},
     "output_type": "execute_result"
    }
   ],
   "source": [
    "ypet_cluster = ypet_intensity_pca.reset_index().set_index(['index','img', 'TF_name'])\n",
    "ypet_cluster"
   ]
  },
  {
   "cell_type": "code",
   "execution_count": 24,
   "id": "93875fb9-b18c-4938-84a8-2f37d261b1c0",
   "metadata": {},
   "outputs": [],
   "source": [
    "from sklearn.cluster import KMeans"
   ]
  },
  {
   "cell_type": "code",
   "execution_count": null,
   "id": "11608a5e-3ddb-42e5-8fd0-4e355786e3ce",
   "metadata": {},
   "outputs": [],
   "source": [
    "random_state = 42\n",
    "n_clusters = 5 #10 # Number of descriptions we want for TF\n",
    "kmean = KMeans(n_clusters=n_clusters, random_state=random_state).fit(ypet_cluster)\n",
    "\n",
    "ypet_clustered = ypet_cluster.copy()\n",
    "ypet_clustered['cluster'] = kmean.labels_"
   ]
  },
  {
   "cell_type": "code",
   "execution_count": 27,
   "id": "9f400e10-60c2-4729-9671-f86321914cea",
   "metadata": {},
   "outputs": [
    {
     "data": {
      "text/plain": [
       "<matplotlib.collections.PathCollection at 0x2b051195190>"
      ]
     },
     "execution_count": 27,
     "metadata": {},
     "output_type": "execute_result"
    },
    {
     "data": {
      "image/png": "[encoded data removed]",
      "text/plain": [
       "<Figure size 432x288 with 1 Axes>"
      ]
     },
     "metadata": {
      "needs_background": "light"
     },
     "output_type": "display_data"
    }
   ],
   "source": [
    "plt.scatter(ypet_cluster.iloc[:,0], ypet_cluster.iloc[:,1], c=kmean.labels_, alpha=0.6)"
   ]
  },
  {
   "cell_type": "code",
   "execution_count": null,
   "id": "c85c627c-c6a2-4c65-9a33-897c368e344b",
   "metadata": {},
   "outputs": [],
   "source": [
    "# Find more information\n",
    "min_n = ypet_clustered.groupby('cluster').count().min()[0] #min number of points i n a cluster\n",
    "max_n = ypet_clustered.groupby('cluster').count().max()[0] #min number of points i n a cluster\n",
    "min_n, max_n"
   ]
  },
  {
   "cell_type": "code",
   "execution_count": 112,
   "id": "33e17b99-2340-4491-8d08-923636cd27ac",
   "metadata": {},
   "outputs": [],
   "source": [
    "# Extract x percentage of data per cluster -> easier to analyze\n",
    "\n",
    "extracted_i = []\n",
    "x = 0.9\n",
    "\n",
    "for i in range(n_clusters):\n",
    "\n",
    "    # indices of all the points from X that belong to cluster i\n",
    "    C_i = np.where(kmean.labels_ == i)[0].tolist() \n",
    "    n_i = len(C_i) # number of points in cluster i\n",
    "\n",
    "    # indices of the points from X to be sampled from cluster i\n",
    "    sample_i = np.random.choice(C_i, math.ceil((x * n_i))).tolist()\n",
    "    extracted_i.extend(sample_i) \n",
    "    "
   ]
  },
  {
   "cell_type": "code",
   "execution_count": 122,
   "id": "f39eb6f0-eaf1-4819-be80-f725884692a2",
   "metadata": {},
   "outputs": [
    {
     "data": {
      "text/html": [
       "<div>\n",
       "<style scoped>\n",
       "    .dataframe tbody tr th:only-of-type {\n",
       "        vertical-align: middle;\n",
       "    }\n",
       "\n",
       "    .dataframe tbody tr th {\n",
       "        vertical-align: top;\n",
       "    }\n",
       "\n",
       "    .dataframe thead th {\n",
       "        text-align: right;\n",
       "    }\n",
       "</style>\n",
       "<table border=\"1\" class=\"dataframe\">\n",
       "  <thead>\n",
       "    <tr style=\"text-align: right;\">\n",
       "      <th></th>\n",
       "      <th></th>\n",
       "      <th></th>\n",
       "      <th>pca_component_0</th>\n",
       "      <th>pca_component_1</th>\n",
       "      <th>cluster</th>\n",
       "    </tr>\n",
       "    <tr>\n",
       "      <th>index</th>\n",
       "      <th>img</th>\n",
       "      <th>TF_name</th>\n",
       "      <th></th>\n",
       "      <th></th>\n",
       "      <th></th>\n",
       "    </tr>\n",
       "  </thead>\n",
       "  <tbody>\n",
       "    <tr>\n",
       "      <th>patch_0</th>\n",
       "      <th>0</th>\n",
       "      <th>E - 7</th>\n",
       "      <td>4.975240e+07</td>\n",
       "      <td>-4.821806e+06</td>\n",
       "      <td>4</td>\n",
       "    </tr>\n",
       "    <tr>\n",
       "      <th>patch_1</th>\n",
       "      <th>0</th>\n",
       "      <th>E - 7</th>\n",
       "      <td>3.290267e+07</td>\n",
       "      <td>-9.583609e+06</td>\n",
       "      <td>1</td>\n",
       "    </tr>\n",
       "    <tr>\n",
       "      <th>patch_2</th>\n",
       "      <th>0</th>\n",
       "      <th>E - 7</th>\n",
       "      <td>-3.019646e+07</td>\n",
       "      <td>-2.059740e+06</td>\n",
       "      <td>3</td>\n",
       "    </tr>\n",
       "    <tr>\n",
       "      <th>patch_3</th>\n",
       "      <th>0</th>\n",
       "      <th>E - 7</th>\n",
       "      <td>-2.506924e+07</td>\n",
       "      <td>9.060520e+06</td>\n",
       "      <td>3</td>\n",
       "    </tr>\n",
       "    <tr>\n",
       "      <th>patch_4</th>\n",
       "      <th>0</th>\n",
       "      <th>E - 7</th>\n",
       "      <td>1.339753e+07</td>\n",
       "      <td>1.886480e+07</td>\n",
       "      <td>2</td>\n",
       "    </tr>\n",
       "    <tr>\n",
       "      <th>patch_5</th>\n",
       "      <th>0</th>\n",
       "      <th>E - 7</th>\n",
       "      <td>-4.078690e+07</td>\n",
       "      <td>-1.146016e+07</td>\n",
       "      <td>0</td>\n",
       "    </tr>\n",
       "  </tbody>\n",
       "</table>\n",
       "</div>"
      ],
      "text/plain": [
       "                     pca_component_0  pca_component_1  cluster\n",
       "index   img TF_name                                           \n",
       "patch_0 0   E - 7       4.975240e+07    -4.821806e+06        4\n",
       "patch_1 0   E - 7       3.290267e+07    -9.583609e+06        1\n",
       "patch_2 0   E - 7      -3.019646e+07    -2.059740e+06        3\n",
       "patch_3 0   E - 7      -2.506924e+07     9.060520e+06        3\n",
       "patch_4 0   E - 7       1.339753e+07     1.886480e+07        2\n",
       "patch_5 0   E - 7      -4.078690e+07    -1.146016e+07        0"
      ]
     },
     "execution_count": 122,
     "metadata": {},
     "output_type": "execute_result"
    }
   ],
   "source": [
    "ypet_clustered.iloc[np.unique(extracted_i)]"
   ]
  },
  {
   "cell_type": "code",
   "execution_count": null,
   "id": "786e9135-9464-4c13-b60e-a3ec2728dc54",
   "metadata": {},
   "outputs": [],
   "source": []
  },
  {
   "cell_type": "markdown",
   "id": "4df8ed0d-fc48-4c73-b344-c1f99adde2fa",
   "metadata": {},
   "source": [
    "***\n",
    "# Visualizations (Exploration phase)"
   ]
  },
  {
   "cell_type": "markdown",
   "id": "f2543c40-4721-4578-8f4e-f3daf09c0d0b",
   "metadata": {},
   "source": [
    "#### Tune blur"
   ]
  },
  {
   "cell_type": "markdown",
   "id": "c987e2b1-3c0e-4bdb-ba68-bb1c84fe5d65",
   "metadata": {},
   "source": [
    "plt.imshow(cv2.Laplacian(variance_data_list[test], cv2.CV_64F), cmap='gray')\n"
   ]
  },
  {
   "cell_type": "markdown",
   "id": "414bb17d-59fb-48b6-888a-5f6b12e24684",
   "metadata": {},
   "source": [
    "for i in range(1,100), image E-7\n",
    "\n",
    "Not blurred:\n",
    "variance_data_list[-1] -> 1'763'695\n",
    "variance_data_list[-10] -> 3'056'590\n",
    "variance_data_list[-10] -> 3'056'590\n",
    "[-17] -> 1'056'899\n",
    "[-20] -> 567'588\n",
    "[-21] -> 2'138'449\n",
    "[-23] -> 5'134'705\n",
    "[-33] 30'821'019\n",
    "\n",
    "\n",
    "Right classified with other nucleus near:\n",
    "variance_data_list[-6] -> 25'095'309\n",
    "variance_data_list[-13] ->5'698'016\n",
    "[-16] -> 9'219'300\n",
    "[-19] -> 11'049'582\n",
    "[-25] -> 2'313'727\n",
    "[-26] -> 157'114'853\n",
    "[-27] -> 10'010'503\n",
    "[-28] -> 3'063'935\n",
    "[-31] -> 1'803'048\n",
    "9'826'707\n",
    "\n",
    "\n",
    "Wrongly classified:\n",
    "variance_data_list[-6] -> 25'095'309\n",
    "variance_data_list[-9] -> 57'898'307\n",
    "[-14] -> 21'739'451\n",
    "[-15] -> 6'769'331\n",
    "[-30] -> 12'627'256\n",
    "\n",
    "\n",
    "Overlay:\n",
    "variance_data_list[-4] -> 34'614'946\n",
    "[-22] -> 12'964'725\n",
    "[-29] -> 17'727'949\n",
    "\n",
    "Blurr/ overflow:\n",
    "[-18] -> 283'062'008\n",
    "[-24] -> 17'935'490"
   ]
  },
  {
   "cell_type": "code",
   "execution_count": 254,
   "id": "cb1d7ce0-aee3-4c0d-943a-9f85acb3ed65",
   "metadata": {},
   "outputs": [
    {
     "data": {
      "text/plain": [
       "77809334.92977796"
      ]
     },
     "execution_count": 254,
     "metadata": {},
     "output_type": "execute_result"
    }
   ],
   "source": [
    "cv2.Laplacian(variance_data_list[test], cv2.CV_64F).var()"
   ]
  },
  {
   "cell_type": "code",
   "execution_count": 293,
   "id": "dd3157fd-7a0e-4be7-9c36-a074dc568d2c",
   "metadata": {},
   "outputs": [
    {
     "data": {
      "text/plain": [
       "0.4792840663960735"
      ]
     },
     "execution_count": 293,
     "metadata": {},
     "output_type": "execute_result"
    }
   ],
   "source": [
    "measure.blur_effect(variance_data_list[test])"
   ]
  },
  {
   "cell_type": "markdown",
   "id": "0edb7dcb-9e8d-4ad4-99b4-7a7834b9dd53",
   "metadata": {},
   "source": [
    "#### Mask, nucleus"
   ]
  },
  {
   "cell_type": "code",
   "execution_count": 305,
   "id": "79c7d8ec-68c3-428e-9174-933d59db240c",
   "metadata": {},
   "outputs": [
    {
     "data": {
      "text/plain": [
       "<matplotlib.image.AxesImage at 0x17ba85cf4f0>"
      ]
     },
     "execution_count": 305,
     "metadata": {},
     "output_type": "execute_result"
    },
    {
     "data": {
      "image/png": "[encoded data removed]",
      "text/plain": [
       "<Figure size 432x288 with 1 Axes>"
      ]
     },
     "metadata": {
      "needs_background": "light"
     },
     "output_type": "display_data"
    }
   ],
   "source": [
    "plt.imshow(boolean, cmap='gray')"
   ]
  },
  {
   "cell_type": "code",
   "execution_count": 313,
   "id": "348021e6-ffc7-42f4-9005-17f499a0314c",
   "metadata": {},
   "outputs": [
    {
     "data": {
      "text/plain": [
       "<matplotlib.image.AxesImage at 0x17ba80085b0>"
      ]
     },
     "execution_count": 313,
     "metadata": {},
     "output_type": "execute_result"
    },
    {
     "data": {
      "image/png": "[encoded data removed]",
      "text/plain": [
       "<Figure size 432x288 with 1 Axes>"
      ]
     },
     "metadata": {
      "needs_background": "light"
     },
     "output_type": "display_data"
    }
   ],
   "source": [
    "plt.imshow(patch_data, cmap='gray')"
   ]
  },
  {
   "cell_type": "code",
   "execution_count": 292,
   "id": "40c4bd49-104c-4ebf-b4e3-50f88b813e56",
   "metadata": {},
   "outputs": [
    {
     "data": {
      "text/plain": [
       "<matplotlib.image.AxesImage at 0x2b011d5f640>"
      ]
     },
     "execution_count": 292,
     "metadata": {},
     "output_type": "execute_result"
    },
    {
     "data": {
      "image/png": "[encoded data removed]",
      "text/plain": [
       "<Figure size 432x288 with 1 Axes>"
      ]
     },
     "metadata": {
      "needs_background": "light"
     },
     "output_type": "display_data"
    }
   ],
   "source": [
    "test = 31\n",
    "plt.imshow(variance_data_list[test], cmap='gray')"
   ]
  },
  {
   "cell_type": "code",
   "execution_count": 225,
   "id": "38c4e51d-638c-4a13-9c3f-acf9ceee8b0d",
   "metadata": {},
   "outputs": [
    {
     "data": {
      "text/plain": [
       "<matplotlib.image.AxesImage at 0x2b007028280>"
      ]
     },
     "execution_count": 225,
     "metadata": {},
     "output_type": "execute_result"
    },
    {
     "data": {
      "image/png": "[encoded data removed]",
      "text/plain": [
       "<Figure size 432x288 with 1 Axes>"
      ]
     },
     "metadata": {
      "needs_background": "light"
     },
     "output_type": "display_data"
    }
   ],
   "source": [
    "plt.imshow(patch_data_list[test], cmap='gray')"
   ]
  },
  {
   "cell_type": "markdown",
   "id": "62c50429-3d9f-4f89-8f9c-21f1b5ac1f23",
   "metadata": {},
   "source": [
    "## Local binary patterns"
   ]
  },
  {
   "cell_type": "code",
   "execution_count": 142,
   "id": "43f314c0-8c3a-4846-b4ec-c957326fd326",
   "metadata": {},
   "outputs": [
    {
     "data": {
      "image/png": "[encoded data removed]",
      "text/plain": [
       "<Figure size 648x432 with 6 Axes>"
      ]
     },
     "metadata": {
      "needs_background": "light"
     },
     "output_type": "display_data"
    }
   ],
   "source": [
    "# Visualize lpb\n",
    "METHOD = 'uniform'   \n",
    "radius = 1\n",
    "n_points = 8 * radius\n",
    "image = patch_data\n",
    "\n",
    "lbp = local_binary_pattern(image, n_points, radius, METHOD)\n",
    "\n",
    "    \n",
    "def overlay_labels(image, lbp, labels):\n",
    "    mask = np.logical_or.reduce([lbp == each for each in labels])\n",
    "    return label2rgb(mask, image=image, bg_label=0, alpha=0.5)\n",
    "\n",
    "\n",
    "def highlight_bars(bars, indexes):\n",
    "    for i in indexes:\n",
    "        bars[i].set_facecolor('r')\n",
    "def hist(ax, lbp):\n",
    "    n_bins = int(lbp.max() + 1)\n",
    "    return ax.hist(lbp.ravel(), density=True, bins=n_bins, range=(0, n_bins),\n",
    "                   facecolor='0.5')\n",
    "\n",
    "\n",
    "# plot histograms of LBP of textures\n",
    "fig, (ax_img, ax_hist) = plt.subplots(nrows=2, ncols=3, figsize=(9, 6))\n",
    "plt.gray()\n",
    "\n",
    "titles = ('edge', 'flat', 'corner')\n",
    "w = width = radius - 1\n",
    "edge_labels = range(n_points // 2 - w, n_points // 2 + w + 1)\n",
    "flat_labels = list(range(0, w + 1)) + list(range(n_points - w, n_points + 2))\n",
    "i_14 = n_points // 4            # 1/4th of the histogram\n",
    "i_34 = 3 * (n_points // 4)      # 3/4th of the histogram\n",
    "corner_labels = (list(range(i_14 - w, i_14 + w + 1)) +\n",
    "                 list(range(i_34 - w, i_34 + w + 1)))\n",
    "\n",
    "label_sets = (edge_labels, flat_labels, corner_labels)\n",
    "\n",
    "for ax, labels in zip(ax_img, label_sets):\n",
    "    ax.imshow(overlay_labels(image, lbp, labels))\n",
    "\n",
    "for ax, labels, name in zip(ax_hist, label_sets, titles):\n",
    "    counts, _, bars = hist(ax, lbp)\n",
    "    highlight_bars(bars, labels)\n",
    "    ax.set_ylim(top=np.max(counts[:-1]))\n",
    "    ax.set_xlim(right=n_points + 2)\n",
    "    ax.set_title(name)\n",
    "\n",
    "ax_hist[0].set_ylabel('Percentage')\n",
    "for ax in ax_img:\n",
    "    ax.axis('off')\n",
    "\n"
   ]
  },
  {
   "cell_type": "code",
   "execution_count": 143,
   "id": "974dac6a-d215-4d1a-a8b9-945aaa552a4c",
   "metadata": {},
   "outputs": [
    {
     "data": {
      "text/plain": [
       "<BarContainer object of 8 artists>"
      ]
     },
     "execution_count": 143,
     "metadata": {},
     "output_type": "execute_result"
    },
    {
     "data": {
      "image/png": "[encoded data removed]",
      "text/plain": [
       "<Figure size 648x432 with 6 Axes>"
      ]
     },
     "metadata": {
      "needs_background": "light"
     },
     "output_type": "display_data"
    },
    {
     "data": {
      "image/png": "[encoded data removed]",
      "text/plain": [
       "<Figure size 864x576 with 1 Axes>"
      ]
     },
     "metadata": {
      "needs_background": "light"
     },
     "output_type": "display_data"
    }
   ],
   "source": [
    "# Remove background    \n",
    "\n",
    "# plot histograms of LBP of textures\n",
    "fig, (ax_img, ax_hist) = plt.subplots(nrows=2, ncols=3, figsize=(9, 6))\n",
    "plt.gray()\n",
    "\n",
    "titles = ('edge', 'flat', 'corner')\n",
    "w = width = radius - 1\n",
    "edge_labels = range(n_points // 2 - w, n_points // 2 + w + 1)\n",
    "flat_labels = list(range(0, w + 1)) # Remove background: list(range(n_points - w, n_points + 2))\n",
    "i_14 = n_points // 4            # 1/4th of the histogram\n",
    "i_34 = 3 * (n_points // 4)      # 3/4th of the histogram\n",
    "corner_labels = (list(range(i_14 - w, i_14 + w + 1)) +\n",
    "                 list(range(i_34 - w, i_34 + w + 1)))\n",
    "\n",
    "label_sets = (edge_labels, flat_labels, corner_labels)\n",
    "\n",
    "\n",
    "\n",
    "for ax, labels in zip(ax_img, label_sets):\n",
    "    ax.imshow(overlay_labels(image, lbp, labels))\n",
    "\n",
    "for ax, labels, name in zip(ax_hist, label_sets, titles):\n",
    "    counts, _, bars = hist(ax, lbp)   \n",
    "    highlight_bars(bars, labels)\n",
    "    ax.set_ylim(top=np.max(counts[:-1]))\n",
    "    ax.set_xlim(right=n_points + 2)\n",
    "    ax.set_title(name)\n",
    "\n",
    "ax_hist[0].set_ylabel('Percentage')\n",
    "for ax in ax_img:\n",
    "    ax.axis('off')\n",
    "\n",
    "# Drop background\n",
    "count = len(np.unique(lbp))\n",
    "H, bins = np.histogram(lbp, count)\n",
    "\n",
    "# Drop background values\n",
    "fig, ax = plt.subplots(figsize=(12, 8))\n",
    "index_background = n_points - w\n",
    "H = H[0: index_background]\n",
    "bins =  bins[0: index_background]\n",
    "\n",
    "plt.bar(bins,H,width=1)"
   ]
  }
 ],
 "metadata": {
  "colab": {
   "provenance": [
    {
     "file_id": "158pHXq8dG2em_g3xFihk0nOTNy6ecxOY",
     "timestamp": 1670264238282
    }
   ]
  },
  "gpuClass": "standard",
  "kernelspec": {
   "display_name": "Python 3 (ipykernel)",
   "language": "python",
   "name": "python3"
  },
  "language_info": {
   "codemirror_mode": {
    "name": "ipython",
    "version": 3
   },
   "file_extension": ".py",
   "mimetype": "text/x-python",
   "name": "python",
   "nbconvert_exporter": "python",
   "pygments_lexer": "ipython3",
   "version": "3.9.7"
  }
 },
 "nbformat": 4,
 "nbformat_minor": 5
}
