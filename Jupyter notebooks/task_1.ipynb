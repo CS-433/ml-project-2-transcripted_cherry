{
 "cells": [
  {
   "cell_type": "code",
   "execution_count": 1,
   "id": "ed133dfe-5772-4ad3-9a75-4686e8eea13d",
   "metadata": {},
   "outputs": [],
   "source": [
    "# Import modules\n",
    "import numpy as np\n",
    "import pandas as pd\n",
    "import seaborn as sns\n",
    "import matplotlib.pyplot as plt\n",
    "import sklearn\n",
    "from sklearn.metrics import r2_score, mean_absolute_error, mean_squared_error\n",
    "from sklearn.model_selection import cross_validate, train_test_split\n",
    "from sklearn.linear_model import RidgeCV, LinearRegression\n",
    "from sklearn.preprocessing import PolynomialFeatures"
   ]
  },
  {
   "cell_type": "markdown",
   "id": "7bfa7659-783e-4035-9e65-e5a4ea84b1da",
   "metadata": {
    "tags": []
   },
   "source": [
    "# Input\n",
    "\n",
    "Read.csv file of one TF or multiple TF. If the .csv file contains multiple TF a line in the data importation column has to be uncommented.\n",
    "\n",
    "# Output\n",
    "\n",
    "The file contains a data preprocessing step as well as a pipeline to apply linear/ridge regression. It can either give back the feature with the smallest mean absolute value as well as the corresponding coefficients, R^2-value and the degree of the polynomial feature expansion.\n",
    "If save = True it additionally saves the plots in a .pdf format."
   ]
  },
  {
   "cell_type": "markdown",
   "id": "7bf09a9e-e4aa-48b7-945a-1d3656166278",
   "metadata": {},
   "source": [
    "# 1. Data importation"
   ]
  },
  {
   "cell_type": "code",
   "execution_count": 2,
   "id": "2e5054a5-2a1d-416e-9036-e8c1c0c9efc1",
   "metadata": {},
   "outputs": [
    {
     "data": {
      "text/html": [
       "<div>\n",
       "<style scoped>\n",
       "    .dataframe tbody tr th:only-of-type {\n",
       "        vertical-align: middle;\n",
       "    }\n",
       "\n",
       "    .dataframe tbody tr th {\n",
       "        vertical-align: top;\n",
       "    }\n",
       "\n",
       "    .dataframe thead th {\n",
       "        text-align: right;\n",
       "    }\n",
       "</style>\n",
       "<table border=\"1\" class=\"dataframe\">\n",
       "  <thead>\n",
       "    <tr style=\"text-align: right;\">\n",
       "      <th></th>\n",
       "      <th>patch</th>\n",
       "      <th>img</th>\n",
       "      <th>TF_name</th>\n",
       "      <th>blur_lapl</th>\n",
       "      <th>blur_ski</th>\n",
       "      <th>patch_size</th>\n",
       "      <th>mean_intensity</th>\n",
       "      <th>sum_intensity</th>\n",
       "      <th>median_intensity</th>\n",
       "      <th>standard_deviation</th>\n",
       "      <th>...</th>\n",
       "      <th>gabro_15</th>\n",
       "      <th>lbp_0</th>\n",
       "      <th>lbp_1</th>\n",
       "      <th>lbp_2</th>\n",
       "      <th>lbp_3</th>\n",
       "      <th>lbp_4</th>\n",
       "      <th>lbp_5</th>\n",
       "      <th>lbp_6</th>\n",
       "      <th>lbp_7</th>\n",
       "      <th>Circularity</th>\n",
       "    </tr>\n",
       "  </thead>\n",
       "  <tbody>\n",
       "    <tr>\n",
       "      <th>0</th>\n",
       "      <td>patch_6</td>\n",
       "      <td>1</td>\n",
       "      <td>C - 7</td>\n",
       "      <td>False</td>\n",
       "      <td>False</td>\n",
       "      <td>557</td>\n",
       "      <td>790.666068</td>\n",
       "      <td>440401</td>\n",
       "      <td>790.0</td>\n",
       "      <td>56.209692</td>\n",
       "      <td>...</td>\n",
       "      <td>0.006944</td>\n",
       "      <td>0.259459</td>\n",
       "      <td>0.167568</td>\n",
       "      <td>0.094595</td>\n",
       "      <td>0.102703</td>\n",
       "      <td>0.064865</td>\n",
       "      <td>0.083784</td>\n",
       "      <td>0.089189</td>\n",
       "      <td>0.137838</td>\n",
       "      <td>0.726082</td>\n",
       "    </tr>\n",
       "    <tr>\n",
       "      <th>1</th>\n",
       "      <td>patch_7</td>\n",
       "      <td>1</td>\n",
       "      <td>C - 7</td>\n",
       "      <td>False</td>\n",
       "      <td>False</td>\n",
       "      <td>739</td>\n",
       "      <td>1042.802436</td>\n",
       "      <td>770631</td>\n",
       "      <td>926.0</td>\n",
       "      <td>274.833903</td>\n",
       "      <td>...</td>\n",
       "      <td>0.046875</td>\n",
       "      <td>0.208835</td>\n",
       "      <td>0.178715</td>\n",
       "      <td>0.102410</td>\n",
       "      <td>0.128514</td>\n",
       "      <td>0.076305</td>\n",
       "      <td>0.078313</td>\n",
       "      <td>0.076305</td>\n",
       "      <td>0.150602</td>\n",
       "      <td>0.794946</td>\n",
       "    </tr>\n",
       "    <tr>\n",
       "      <th>2</th>\n",
       "      <td>patch_8</td>\n",
       "      <td>1</td>\n",
       "      <td>C - 7</td>\n",
       "      <td>False</td>\n",
       "      <td>False</td>\n",
       "      <td>680</td>\n",
       "      <td>841.535294</td>\n",
       "      <td>572244</td>\n",
       "      <td>831.0</td>\n",
       "      <td>89.429541</td>\n",
       "      <td>...</td>\n",
       "      <td>0.064338</td>\n",
       "      <td>0.247140</td>\n",
       "      <td>0.178490</td>\n",
       "      <td>0.091533</td>\n",
       "      <td>0.112128</td>\n",
       "      <td>0.089245</td>\n",
       "      <td>0.082380</td>\n",
       "      <td>0.064073</td>\n",
       "      <td>0.135011</td>\n",
       "      <td>0.853092</td>\n",
       "    </tr>\n",
       "    <tr>\n",
       "      <th>3</th>\n",
       "      <td>patch_9</td>\n",
       "      <td>1</td>\n",
       "      <td>C - 7</td>\n",
       "      <td>False</td>\n",
       "      <td>False</td>\n",
       "      <td>1234</td>\n",
       "      <td>870.455429</td>\n",
       "      <td>1074142</td>\n",
       "      <td>845.0</td>\n",
       "      <td>117.994204</td>\n",
       "      <td>...</td>\n",
       "      <td>0.004808</td>\n",
       "      <td>0.200000</td>\n",
       "      <td>0.201220</td>\n",
       "      <td>0.097561</td>\n",
       "      <td>0.100000</td>\n",
       "      <td>0.091463</td>\n",
       "      <td>0.080488</td>\n",
       "      <td>0.069512</td>\n",
       "      <td>0.159756</td>\n",
       "      <td>0.812795</td>\n",
       "    </tr>\n",
       "    <tr>\n",
       "      <th>4</th>\n",
       "      <td>patch_11</td>\n",
       "      <td>1</td>\n",
       "      <td>C - 7</td>\n",
       "      <td>False</td>\n",
       "      <td>False</td>\n",
       "      <td>1106</td>\n",
       "      <td>828.970163</td>\n",
       "      <td>916841</td>\n",
       "      <td>829.0</td>\n",
       "      <td>56.703426</td>\n",
       "      <td>...</td>\n",
       "      <td>0.019817</td>\n",
       "      <td>0.234890</td>\n",
       "      <td>0.192308</td>\n",
       "      <td>0.093407</td>\n",
       "      <td>0.081044</td>\n",
       "      <td>0.057692</td>\n",
       "      <td>0.086538</td>\n",
       "      <td>0.076923</td>\n",
       "      <td>0.177198</td>\n",
       "      <td>0.880464</td>\n",
       "    </tr>\n",
       "  </tbody>\n",
       "</table>\n",
       "<p>5 rows × 49 columns</p>\n",
       "</div>"
      ],
      "text/plain": [
       "      patch  img TF_name  blur_lapl  blur_ski  patch_size  mean_intensity  \\\n",
       "0   patch_6    1   C - 7      False     False         557      790.666068   \n",
       "1   patch_7    1   C - 7      False     False         739     1042.802436   \n",
       "2   patch_8    1   C - 7      False     False         680      841.535294   \n",
       "3   patch_9    1   C - 7      False     False        1234      870.455429   \n",
       "4  patch_11    1   C - 7      False     False        1106      828.970163   \n",
       "\n",
       "   sum_intensity  median_intensity  standard_deviation  ...  gabro_15  \\\n",
       "0         440401             790.0           56.209692  ...  0.006944   \n",
       "1         770631             926.0          274.833903  ...  0.046875   \n",
       "2         572244             831.0           89.429541  ...  0.064338   \n",
       "3        1074142             845.0          117.994204  ...  0.004808   \n",
       "4         916841             829.0           56.703426  ...  0.019817   \n",
       "\n",
       "      lbp_0     lbp_1     lbp_2     lbp_3     lbp_4     lbp_5     lbp_6  \\\n",
       "0  0.259459  0.167568  0.094595  0.102703  0.064865  0.083784  0.089189   \n",
       "1  0.208835  0.178715  0.102410  0.128514  0.076305  0.078313  0.076305   \n",
       "2  0.247140  0.178490  0.091533  0.112128  0.089245  0.082380  0.064073   \n",
       "3  0.200000  0.201220  0.097561  0.100000  0.091463  0.080488  0.069512   \n",
       "4  0.234890  0.192308  0.093407  0.081044  0.057692  0.086538  0.076923   \n",
       "\n",
       "      lbp_7  Circularity  \n",
       "0  0.137838     0.726082  \n",
       "1  0.150602     0.794946  \n",
       "2  0.135011     0.853092  \n",
       "3  0.159756     0.812795  \n",
       "4  0.177198     0.880464  \n",
       "\n",
       "[5 rows x 49 columns]"
      ]
     },
     "execution_count": 2,
     "metadata": {},
     "output_type": "execute_result"
    }
   ],
   "source": [
    "TF = 'C7'\n",
    "#adapt filepath if it's different\n",
    "df = pd.read_csv ('../Features/TF1_'+TF+'.csv',index_col = 0)\n",
    "ypet_intensity = df.copy()\n",
    "#If file contains multiple TFs uncomment next line and add TF_name to analyze:\n",
    "#ypet_intensity[ypet_intensity['TF_name'] == 'TF name of TF we are interested in']\n",
    "\n",
    "Save = False #Will try to save it the conditions are suitable\n",
    "\n",
    "ypet_intensity.head()"
   ]
  },
  {
   "cell_type": "markdown",
   "id": "ee85bfb6-e70e-41dd-9f01-96e86b9c828c",
   "metadata": {},
   "source": [
    "# 2. Preprocessing"
   ]
  },
  {
   "cell_type": "markdown",
   "id": "19c25bf8-0eef-4e3c-ac41-fc8ce81af9a5",
   "metadata": {},
   "source": [
    "## Parameters to adapt for the data processing"
   ]
  },
  {
   "cell_type": "code",
   "execution_count": 3,
   "id": "23b9310f-92f8-4e98-b6fe-e80e84154a06",
   "metadata": {},
   "outputs": [],
   "source": [
    "#parameters to adapt for analyzation:\n",
    "#outlier removal\n",
    "outlier = False #If outliers in general should be removed True, if not False\n",
    "\n",
    "if outlier == False: \n",
    "    outlier_columns = ['patch_size','mean_intensity','median_intensity','sum_intensity'] #choose columns of which the outliers should be removed. to choose all the columns: list(ypet_intensity_processed)[6:]\n",
    "    quantile_keep = 1 # Quantile we want to keep. For removal: 0.85 we keep 85%\n",
    "    interquantile = True #if outliers should be removed by defining a range with the interquantile: True; to remove outliers just when they're exceeding a certain quantile: False   \n",
    "    outlier_range = 0.7 #if interquantile = True defined this value to define the range. Gets multiplicated with interquantile, else ignore\n",
    "\n",
    "\n",
    "#Z-Normalization\n",
    "normalization = False# True\n",
    "columns_to_be_normalized =  ['patch_size','mean_intensity','median_intensity','sum_intensity'] #list(ypet_intensity_processed)[6:]  #if all columns should be normalized\n",
    "\n",
    "#Log-Transformation\n",
    "take_log = False #want to take the log of certain columns\n",
    "columns_log = ['patch_size','mean_intensity','median_intensity','sum_intensity'] #needs pre-analyzation of columns if log is needed. With a histogram it can be seen if the distribution is skewed. \n",
    "\n",
    "# Blur removal\n",
    "remove_blur_lapl = False # Laplacian filter\n",
    "remove_blur_lapl_threshold = 10000 # Values above this threshold are removed\n",
    "\n",
    "remove_blur_ski = True # perceptual blur\n",
    "remove_blur_ski_threshold = 0.8 # Values above this threshold are removed\n",
    "\n",
    "# Removal based on similarity\n",
    "remove_similarity = False\n",
    "similarity_threshold = 0.5 # Values below this threshold are removed\n",
    "\n",
    "ypet_intensity_processed = ypet_intensity.copy()\n",
    "\n"
   ]
  },
  {
   "cell_type": "markdown",
   "id": "11b52f87-8957-4b35-a9c9-412be8ad552b",
   "metadata": {},
   "source": [
    "## Similarity removal"
   ]
  },
  {
   "cell_type": "code",
   "execution_count": 4,
   "id": "53806d79-41d3-4b53-9ac3-463571936df2",
   "metadata": {},
   "outputs": [],
   "source": [
    "if remove_similarity == True:\n",
    "        remove_boolean = ypet_intensity_processed.similarity > similarity_threshold\n",
    "        ypet_intensity_processed = ypet_intensity_processed[remove_boolean]"
   ]
  },
  {
   "cell_type": "markdown",
   "id": "f67469b9-8e79-4746-bd37-a207a7f7191d",
   "metadata": {},
   "source": [
    "## Blur removal"
   ]
  },
  {
   "cell_type": "code",
   "execution_count": 5,
   "id": "7a6323c7-f3d8-4a4f-8431-a9d98051a0b1",
   "metadata": {},
   "outputs": [],
   "source": [
    "if remove_blur_lapl == True:\n",
    "        remove_boolean = ypet_intensity_processed.blur_lapl < remove_blur_lapl_threshold\n",
    "        ypet_intensity_processed = ypet_intensity_processed[remove_boolean]\n",
    "        \n",
    "if remove_blur_ski == True:\n",
    "        remove_boolean = ypet_intensity_processed.blur_ski < remove_blur_ski_threshold\n",
    "        ypet_intensity_processed = ypet_intensity_processed[remove_boolean]"
   ]
  },
  {
   "cell_type": "markdown",
   "id": "3ba66c31-7080-43e6-bab1-d7318e5a3861",
   "metadata": {},
   "source": [
    "## Outlier removal of predefined columns of the dataframe"
   ]
  },
  {
   "cell_type": "code",
   "execution_count": 6,
   "id": "0f58461b-0c8a-4543-960a-31365bdd98b9",
   "metadata": {},
   "outputs": [],
   "source": [
    "def outlier_removal(without_outliers, **kwargs):\n",
    "    #define input parameters\n",
    "    outlier_columns = kwargs['outlier_columns'] \n",
    "    interquantile =   kwargs['interquantile']\n",
    "    quantile_keep =   kwargs['quantile_keep']\n",
    "\n",
    "    # first choose which method for outlier removal wants to be used. Use a for loop to iterate over the defined columns of the dataframe.\n",
    "    if interquantile == True:\n",
    "        outlier_range =   kwargs['outlier_range']\n",
    "        for col in outlier_columns:\n",
    "            # defined the interquantile range and then the upper and lower limit of the choosen column\n",
    "            median = without_outliers[col].median()\n",
    "            q_75 = without_outliers[col].quantile(q = 0.75)\n",
    "            q_25 = without_outliers[col].quantile(q = 0.25)\n",
    "            interquantile = q_75 - q_25                              \n",
    "            upper_bound = median + (interquantile * outlier_range)\n",
    "            lower_bound = median - (interquantile * outlier_range)\n",
    "\n",
    "            # Create a boolean mask that is True for rows with a value less than or equal to the upper limit and higher or equal to the lower limit\n",
    "            mask = (without_outliers[col] <= upper_bound) & (without_outliers[col] >= lower_bound)\n",
    "            # Use the mask to filter the dataframe\n",
    "            without_outliers = without_outliers[mask]\n",
    "    if interquantile == False: \n",
    "        \n",
    "        for col in outlier_columns:\n",
    "            #define the limit up to which the values are kept\n",
    "            quantile_limit = without_outliers[col].quantile(q = 1)\n",
    "            #define a boolean mask that is True for rows that are in the defined limit\n",
    "            mask = without_outliers[col] < quantile_limit\n",
    "            #use the mask to filter the dataframe\n",
    "            without_outliers = without_outliers[mask]\n",
    "    \n",
    "        \n",
    "    return without_outliers\n"
   ]
  },
  {
   "cell_type": "code",
   "execution_count": 7,
   "id": "693cc466-5487-490c-9a5f-d9e2b5b8e88b",
   "metadata": {
    "tags": []
   },
   "outputs": [],
   "source": [
    "#apply the function for outlier removal\n",
    "if outlier == True:\n",
    "    #group by the TF and just cut the outliers for one TF\n",
    "    without_outliers = ypet_intensity_processed.groupby('TF_name',as_index=False).apply(outlier_removal, outlier_range=outlier_range, outlier_columns=outlier_columns, interquantile = interquantile, quantile_keep=quantile_keep).reset_index()\n",
    "    #change index so dataframe is as before\n",
    "    without_outliers = without_outliers.drop(['level_0'],axis=1)\n",
    "    without_outliers = without_outliers.set_index('level_1')\n",
    "    without_outliers.index.name = None\n",
    "    #save it under a new dataframe\n",
    "    ypet_intensity_processed = without_outliers.copy()"
   ]
  },
  {
   "cell_type": "markdown",
   "id": "62be2620-d799-4f9c-bc39-5d697b17e8cb",
   "metadata": {},
   "source": [
    "## Log-Transformation"
   ]
  },
  {
   "cell_type": "code",
   "execution_count": 8,
   "id": "7bacdc39-0fc4-44b5-8353-683b1c4e4751",
   "metadata": {},
   "outputs": [],
   "source": [
    "#take logs of predefined columns that are skewed:\n",
    "if take_log == True:\n",
    "    TF_grouped = ypet_intensity_processed.groupby('TF_name')\n",
    "    log_rows = TF_grouped[columns_log].transform(lambda x: np.log(x))\n",
    "    ypet_intensity_processed[columns_log] = log_rows "
   ]
  },
  {
   "cell_type": "markdown",
   "id": "aaf42e31-7543-4217-9293-de18eb9b207a",
   "metadata": {},
   "source": [
    "## Normalization of columns of the dataframe"
   ]
  },
  {
   "cell_type": "code",
   "execution_count": 9,
   "id": "d1b4d9eb-d914-4289-8961-e3d15d1c37d0",
   "metadata": {},
   "outputs": [],
   "source": [
    "# Normalization of columns of the dataframe\n",
    "if normalization == True:\n",
    "    TF_grouped = ypet_intensity_processed.groupby('TF_name')\n",
    "    Normalized_columns = TF_grouped[columns_to_be_normalized].transform(lambda x: (x - x.mean()) / x.std()) #removed rows_to_be to have all col normalized\n",
    "\n",
    "    # Replace normalized\n",
    "    ypet_intensity_processed[columns_to_be_normalized] = Normalized_columns                         \n"
   ]
  },
  {
   "cell_type": "markdown",
   "id": "dfd15508",
   "metadata": {},
   "source": [
    "# Task_1"
   ]
  },
  {
   "cell_type": "markdown",
   "id": "0abe1c76",
   "metadata": {},
   "source": [
    "## 2. Data exploration\n",
    "\n",
    "### Scatterplots between patch_size and similarity, mean_intensity, median_intensity, sum_intensity\n",
    "\n",
    "Scatterplots:\n",
    "- for regression line set degree to 1\n",
    "- If other features should be shown: change features for the plots"
   ]
  },
  {
   "cell_type": "code",
   "execution_count": 10,
   "id": "5a5a5bf7-72fe-4e40-80da-73c965629bc2",
   "metadata": {},
   "outputs": [],
   "source": [
    "Save = False"
   ]
  },
  {
   "cell_type": "code",
   "execution_count": 11,
   "id": "fc551424",
   "metadata": {},
   "outputs": [
    {
     "data": {
      "image/png": "[encoded data removed]",
      "text/plain": [
       "<Figure size 432x288 with 4 Axes>"
      ]
     },
     "metadata": {
      "needs_background": "light"
     },
     "output_type": "display_data"
    }
   ],
   "source": [
    "mk_size = 0.01 #Choose a small mk_size if a lot of datapoints, so densities are easier to read\n",
    "points_col = 'black'\n",
    "line_col   = 'blue'\n",
    "\n",
    "plt.figure()\n",
    "plt.subplot(221)\n",
    "sns.regplot(y=\"patch_size\", x=\"mean_intensity\", data=ypet_intensity_processed,marker = '.',scatter_kws={'s':mk_size}, color = points_col, fit_reg=False)\n",
    "plt.xlabel(\"Mean intensity\"); plt.ylabel(\"Patch size\")\n",
    "plt.xlim(ypet_intensity_processed.mean_intensity.min(),ypet_intensity_processed.mean_intensity.max())\n",
    "plt.ylim(0,ypet_intensity_processed.patch_size.max())\n",
    "plt.subplot(222)\n",
    "sns.regplot(y=\"patch_size\", x=\"median_intensity\", data=ypet_intensity_processed,marker = '.',scatter_kws={'s':mk_size}, color = points_col, fit_reg=False)\n",
    "plt.xlabel(\"Median intensity\"); plt.ylabel(\"Patch size\")\n",
    "plt.xlim(ypet_intensity_processed.median_intensity.min(),ypet_intensity_processed.median_intensity.max())\n",
    "plt.ylim(0,ypet_intensity_processed.patch_size.max())\n",
    "plt.subplot(223)\n",
    "sns.regplot(y=\"patch_size\", x=\"sum_intensity\", data=ypet_intensity_processed,marker = '.',scatter_kws={'s':mk_size}, color = points_col, fit_reg=False)\n",
    "plt.xlabel(\"Sum intensity\"); plt.ylabel(\"Patch size\")\n",
    "plt.xlim(ypet_intensity_processed.sum_intensity.min(),ypet_intensity_processed.sum_intensity.max())\n",
    "plt.ylim(0,ypet_intensity_processed.patch_size.max())\n",
    "plt.subplot(224)\n",
    "sns.regplot(y=\"patch_size\", x=\"similarity\", data=ypet_intensity_processed,marker = '.',scatter_kws={'s':mk_size}, color = points_col, fit_reg=False)\n",
    "plt.xlabel(\"Similarity\"); plt.ylabel(\"Patch size\")\n",
    "plt.axvline(np.mean(ypet_intensity_processed['similarity']),color = line_col,linewidth = 0.5,label = \"Mean\")\n",
    "plt.ylim(0,ypet_intensity_processed.patch_size.max())\n",
    "plt.legend()\n",
    "plt.suptitle(\"Densities measure for TF \"+TF)#+\", outlier range = 1.5 w.r.t. sum intensity\")\n",
    "plt.tight_layout()\n",
    "if Save:\n",
    "    plt.savefig(\"../Images/task1/densities_\"+TF+\".pdf\")\n",
    "plt.savefig('outlier_cut_interquartile', dpi = 300)\n",
    "plt.show()"
   ]
  },
  {
   "cell_type": "markdown",
   "id": "c827bc71-a7bc-4993-b96c-0ef44e06179f",
   "metadata": {},
   "source": [
    "## 3. 2D-Regression: Choose the feature that has the smallest absolute value\n",
    "\n",
    "This part chooses the best feature with the smallest absolute value by applying a cross validation both for the least squares and for the ridge regression.\n",
    "\n",
    "### Parameters to adapt:"
   ]
  },
  {
   "cell_type": "code",
   "execution_count": 12,
   "id": "9641390e-421d-4a2b-b686-9e8a96395bbd",
   "metadata": {},
   "outputs": [],
   "source": [
    "maxdegree = 10                          #To define is the maximum degree of the polynomial that should be tried (maxdegree of 5 takes degree up to 4 into account)\n",
    "alphas = [1e-4,1e-3, 1e-2, 1e-1, 1]     #Alpha grid for ridge regression\n",
    "K = 10                                  #Number of fold for the cross validation\n",
    "x_features = ['mean_intensity','median_intensity'] #add features for x for which the best model have to be find\n",
    "decide_y_feature = 'patch_size' #decide y-feature\n",
    "mode_error = mean_absolute_error #mean_absolute_error # mean_squared_error # mean_absolute_error\n"
   ]
  },
  {
   "cell_type": "code",
   "execution_count": 13,
   "id": "5dbe22c1-6b79-4f75-9140-a09d1dfd68bc",
   "metadata": {},
   "outputs": [],
   "source": [
    "#define a test and a training set\n",
    "df_train, df_test = train_test_split(ypet_intensity_processed, train_size = 0.8, test_size = 0.2, random_state = 10)"
   ]
  },
  {
   "cell_type": "code",
   "execution_count": 14,
   "id": "0ccd4eda-535e-4ede-b419-17d948601e16",
   "metadata": {},
   "outputs": [],
   "source": [
    "mae_test_lm_list = []\n",
    "mae_test_ridge_list = []\n",
    "R2_lm_list = []\n",
    "R2_ridge_list = []\n",
    "degree_min_lm = []\n",
    "degree_min_ridge = [] \n",
    "\n",
    "if mode_error == mean_squared_error:\n",
    "    error_cv = 'neg_mean_squared_error'\n",
    "    print('yes')\n",
    "else:\n",
    "    error_cv = 'neg_mean_absolute_error'\n",
    "\n",
    "for feature in x_features: \n",
    "\n",
    "    # Prepare test and train sets and X and y------------------------\n",
    "    #Define features used with the right format, following x_features and decide_x_features\n",
    "    features_used = [feature]\n",
    "\n",
    "    #define the x and the y for the test and train sets\n",
    "    df_train_x = df_train[features_used]\n",
    "    df_test_x = df_test[features_used]\n",
    "\n",
    "    df_train_y = df_train[[decide_y_feature]]\n",
    "    df_test_y = df_test[[decide_y_feature]]\n",
    "\n",
    "    # Apply cross validation ----------------------------------------------\n",
    "    #model to select\n",
    "    cross_validation_ridge_error = np.zeros(maxdegree)\n",
    "    cross_validation_lm_error = np.zeros(maxdegree)\n",
    "\n",
    "    #see which degree fits data the best for linear regression\n",
    "    for d in range(1, maxdegree+1):    #it will create 1,2...maxdregree range vector like this\n",
    "        #polynomial feature expansion of x_train\n",
    "        x_poly_train = PolynomialFeatures(degree=d).fit_transform(df_train_x)\n",
    "        #apply linear regression model and cross-validation for alpha-ridge regression\n",
    "        lr = LinearRegression()\n",
    "        rr = RidgeCV(alphas=alphas)\n",
    "        #apply cross validation\n",
    "        cve = cross_validate(lr,x_poly_train,df_train_y,scoring= error_cv, cv=K, return_train_score=True)\n",
    "        crr = cross_validate(rr,x_poly_train,df_train_y,scoring= error_cv, cv=K, return_train_score=True)\n",
    "        #make array for cross validation with linear model and for ridge regression\n",
    "        cross_validation_lm_error[d-1] = np.mean(np.absolute(cve['test_score']))\n",
    "        cross_validation_ridge_error[d-1] = np.mean(np.absolute(crr['test_score']))\n",
    "\n",
    "    # Compute MAE for both model ----------------------\n",
    "    index_min_lm = np.argmin(cross_validation_lm_error)\n",
    "    index_min_ridge = np.argmin(cross_validation_ridge_error)\n",
    "\n",
    "    poly_lm_test = PolynomialFeatures(degree=index_min_lm+1)\n",
    "    x_poly_test_lm = poly_lm_test.fit_transform(df_test_x)\n",
    "    poly_lm_train = PolynomialFeatures(degree=index_min_lm+1)\n",
    "    x_poly_train_lm = poly_lm_train.fit_transform(df_train_x)\n",
    "\n",
    "    x_poly_train_df_lm = pd.DataFrame(x_poly_train_lm)\n",
    "    x_poly_test_df_lm = pd.DataFrame(x_poly_test_lm)\n",
    "\n",
    "    poly_ridge_test = PolynomialFeatures(degree=index_min_ridge+1)\n",
    "    x_poly_test_ridge = poly_ridge_test.fit_transform(df_test_x)\n",
    "    poly_ridge_train = PolynomialFeatures(degree=index_min_ridge+1)\n",
    "    x_poly_train_ridge = poly_ridge_train.fit_transform(df_train_x)\n",
    "\n",
    "    x_poly_train_df_ridge = pd.DataFrame(x_poly_train_ridge)\n",
    "    x_poly_test_df_ridge = pd.DataFrame(x_poly_test_ridge)\n",
    "\n",
    "    #make linear model/ridge regression\n",
    "    model_lm = LinearRegression().fit(x_poly_train_df_lm, df_train_y)\n",
    "    model_ridge = RidgeCV(alphas=[1e-4,1e-3, 1e-2, 1e-1, 1]).fit(x_poly_train_df_ridge, df_train_y)\n",
    "\n",
    "    #train error\n",
    "    y_train_pred_lm = model_lm.predict(x_poly_train_lm)\n",
    "    mse_train_lm = mode_error(df_train_y,y_train_pred_lm)\n",
    "    y_train_pred_ridge = model_ridge.predict(x_poly_train_ridge)\n",
    "    mse_train_ridge = mode_error(df_train_y,y_train_pred_ridge)\n",
    "    \n",
    "    #test error\n",
    "    y_test_pred_lm = model_lm.predict(x_poly_test_df_lm)\n",
    "    mae_test_lm = mode_error(df_test_y,y_test_pred_lm)\n",
    "    y_test_pred_ridge = model_ridge.predict(x_poly_test_df_ridge)\n",
    "    mae_test_ridge = mode_error(df_test_y,y_test_pred_ridge)\n",
    "\n",
    "    # R2 score\n",
    "    r2_score_ridge = r2_score(df_test_y,y_test_pred_ridge)\n",
    "    r2_score_lm = r2_score(df_test_y,y_test_pred_lm)\n",
    "    \n",
    "    # append\n",
    "    mae_test_lm_list.append(mae_test_lm)\n",
    "    mae_test_ridge_list.append(mae_test_ridge)\n",
    "    R2_lm_list.append(r2_score_lm)\n",
    "    R2_ridge_list.append(r2_score_ridge)\n",
    "    degree_min_lm.append(index_min_lm + 1)\n",
    "    degree_min_ridge.append(index_min_ridge + 1)"
   ]
  },
  {
   "cell_type": "code",
   "execution_count": 15,
   "id": "99028d10-2b8e-4640-acf8-3e175cb68e3f",
   "metadata": {},
   "outputs": [
    {
     "name": "stdout",
     "output_type": "stream",
     "text": [
      "Best model: Least squares 431.494 R2 -0.0013412815708517822\n",
      "Polynomial degree: 3\n",
      "Best feature: mean_intensity\n"
     ]
    }
   ],
   "source": [
    "if min(mae_test_ridge_list) < min(mae_test_lm_list):\n",
    "    min_index = mae_test_ridge_list.index(min(mae_test_ridge_list))\n",
    "    print('Best model: Ridge Regression',round(mae_test_lm_list[min_index],3),'R2', R2_ridge_list[min_index] )\n",
    "    print('Polynomial degree', degree_min_ridge[min_index])\n",
    "else: \n",
    "    min_index = mae_test_lm_list.index(min(mae_test_lm_list))\n",
    "    print('Best model: Least squares', round(mae_test_lm_list[min_index],3),'R2', R2_lm_list[min_index] )\n",
    "    print('Polynomial degree:', degree_min_lm[min_index])\n",
    "print('Best feature:', x_features[min_index])"
   ]
  },
  {
   "cell_type": "markdown",
   "id": "d70de9b1-26c1-44b5-aa4f-34257b8fe69e",
   "metadata": {},
   "source": [
    "# 4. Regression (2D or ND) of predefined features\n",
    "\n",
    "This part computes a least squares or ridge regression for predefined feature. It uses cross-validation to determine the degree for the polynomial feature expansion that minimizes the mean absolute value.\n",
    "\n",
    "### Parameters to adapt:"
   ]
  },
  {
   "cell_type": "code",
   "execution_count": 16,
   "id": "6cef7aae-cc98-42fd-9ce4-5fc9a70f68ad",
   "metadata": {},
   "outputs": [],
   "source": [
    "x_features = ['mean_intensity','sum_intensity','similarity','median_intensity'] #define a list with all the columns that could be interesting for task 1\n",
    "decide_x_features = np.array([1])      #set the list of indexes for the X values used for regression from list defined in x_features\n",
    "decide_y_feature = 'patch_size'        #also other features could be taken into account\n",
    "mode_error = mean_absolute_error #mean_absolute_error # mean_squared_error # mean_absolute_error\n"
   ]
  },
  {
   "cell_type": "code",
   "execution_count": 17,
   "id": "03b793bc-c9b5-4f5f-875e-19269dc272e6",
   "metadata": {},
   "outputs": [],
   "source": [
    "#Define features used with the right format, following x_features and decide_x_features\n",
    "features_used = [x_features[i] for i in decide_x_features]\n",
    "# Split in train and test set -- CAREFUL: defines other train/test set than above, can lead to slightly different results\n",
    "df_train, df_test = train_test_split(ypet_intensity_processed, train_size = 0.8, test_size = 0.2, random_state = 10)\n",
    "\n",
    "#define the x and the y for the test and train sets\n",
    "df_train_x = df_train[features_used]\n",
    "df_test_x = df_test[features_used]\n",
    "df_train_y = df_train[[decide_y_feature]]\n",
    "df_test_y = df_test[[decide_y_feature]]"
   ]
  },
  {
   "cell_type": "code",
   "execution_count": 18,
   "id": "2bb9c9df-7259-4808-b1e3-79720eb6c159",
   "metadata": {},
   "outputs": [],
   "source": [
    "#model to select\n",
    "cross_validation_ridge_error = np.zeros(maxdegree)\n",
    "cross_validation_lm_error = np.zeros(maxdegree)\n",
    "\n",
    "#see which degree fits data the best for linear regression\n",
    "for d in range(1, maxdegree+1):    #it will create 1,2...maxdregree range vector like this\n",
    "    #polynomial feature expansion of x_train\n",
    "    x_poly_train = PolynomialFeatures(degree=d).fit_transform(df_train_x)\n",
    "    #apply linear regression model and cross-validation for alpha-ridge regression\n",
    "    lr = LinearRegression()\n",
    "    rr = RidgeCV(alphas=alphas)\n",
    "    #apply cross validation\n",
    "    cve = cross_validate(lr,x_poly_train,df_train_y,scoring= error_cv, cv=K, return_train_score=True)\n",
    "    crr = cross_validate(rr,x_poly_train,df_train_y,scoring=error_cv, cv=K, return_train_score=True)\n",
    "    #make array for cross validation with linear model and for ridge regression\n",
    "    cross_validation_lm_error[d-1] = np.mean(np.absolute(cve['test_score']))\n",
    "    cross_validation_ridge_error[d-1] = np.mean(np.absolute(crr['test_score']))"
   ]
  },
  {
   "cell_type": "code",
   "execution_count": 19,
   "id": "df63dace-2cd8-4fb9-941b-8d5bb1f8f6f3",
   "metadata": {},
   "outputs": [],
   "source": [
    "index_min_lm = np.argmin(cross_validation_lm_error)\n",
    "index_min_ridge = np.argmin(cross_validation_ridge_error)\n",
    "\n",
    "poly_lm_test = PolynomialFeatures(degree=index_min_lm+1)\n",
    "x_poly_test_lm = poly_lm_test.fit_transform(df_test_x)\n",
    "poly_lm_train = PolynomialFeatures(degree=index_min_lm+1)\n",
    "x_poly_train_lm = poly_lm_train.fit_transform(df_train_x)\n",
    "\n",
    "x_poly_train_df_lm = pd.DataFrame(x_poly_train_lm)\n",
    "x_poly_test_df_lm = pd.DataFrame(x_poly_test_lm)\n",
    "\n",
    "poly_ridge_test = PolynomialFeatures(degree=index_min_ridge+1)\n",
    "x_poly_test_ridge = poly_ridge_test.fit_transform(df_test_x)\n",
    "poly_ridge_train = PolynomialFeatures(degree=index_min_ridge+1)\n",
    "x_poly_train_ridge = poly_ridge_train.fit_transform(df_train_x)\n",
    "\n",
    "x_poly_train_df_ridge = pd.DataFrame(x_poly_train_ridge)\n",
    "x_poly_test_df_ridge = pd.DataFrame(x_poly_test_ridge)\n",
    "\n",
    "#make linear model\n",
    "model_lm = LinearRegression().fit(x_poly_train_df_lm, df_train_y)\n",
    "model_ridge = RidgeCV(alphas=[1e-4,1e-3, 1e-2, 1e-1, 1]).fit(x_poly_train_df_ridge, df_train_y)\n",
    "\n",
    "#train error\n",
    "y_train_pred_lm = model_lm.predict(x_poly_train_lm)\n",
    "mse_train_lm = mode_error(df_train_y,y_train_pred_lm)\n",
    "y_train_pred_ridge = model_ridge.predict(x_poly_train_ridge)\n",
    "mse_train_ridge = mode_error(df_train_y,y_train_pred_ridge) \n",
    "\n",
    "#test error\n",
    "y_test_pred_lm = model_lm.predict(x_poly_test_df_lm)\n",
    "mae_test_lm = mode_error(df_test_y,y_test_pred_lm)\n",
    "y_test_pred_ridge = model_ridge.predict(x_poly_test_df_ridge)\n",
    "mae_test_ridge = mode_error(df_test_y,y_test_pred_ridge)"
   ]
  },
  {
   "cell_type": "markdown",
   "id": "aa463616-f6a8-4356-9851-3b49f5fb5ffc",
   "metadata": {},
   "source": [
    "### Parameters for the best model "
   ]
  },
  {
   "cell_type": "code",
   "execution_count": 20,
   "id": "2097be32-614e-4d88-8be9-cd4bd1718a21",
   "metadata": {
    "tags": []
   },
   "outputs": [
    {
     "name": "stdout",
     "output_type": "stream",
     "text": [
      "take linear regression\n",
      "features:  ['1' 'sum_intensity' 'sum_intensity^2' 'sum_intensity^3']\n",
      "coefficients:  [[ 0.00000000e+00  1.07978078e-03 -1.66722695e-10  6.72205347e-18]]\n",
      "intercept:  [189.06072834]\n",
      "R^2-score:  0.5670236889862685\n",
      "Mean absolute test error: 258.866\n"
     ]
    }
   ],
   "source": [
    "if mae_test_ridge >= mae_test_lm:\n",
    "    feature_names = poly_lm_test.get_feature_names_out(input_features=features_used)\n",
    "    print('take linear regression')\n",
    "    print('features: ',feature_names)\n",
    "    print('coefficients: ',model_lm.coef_) \n",
    "    print('intercept: ',model_lm.intercept_)\n",
    "    print('R^2-score: ', r2_score(df_test_y,y_test_pred_lm))\n",
    "    print('Mean absolute test error:', round(mae_test_lm,3))\n",
    "\n",
    "else:\n",
    "    feature_names = poly_ridge_test.get_feature_names_out(input_features=features_used)\n",
    "    print('take ridge regression')\n",
    "    print('features: ',feature_names)\n",
    "    print('coefficients: ',model_ridge.coef_)\n",
    "    print('intercept: ',model_ridge.intercept_)\n",
    "    print('alpha: ',model_ridge.alpha_)\n",
    "    print('R^2-score: ', r2_score(df_test_y,y_test_pred_ridge))\n",
    "    print('Mean absolute test error:', round(mae_test_ridge,3))"
   ]
  },
  {
   "cell_type": "markdown",
   "id": "1e7749f6-b886-4835-847d-08680c25f43b",
   "metadata": {},
   "source": [
    "### Visualize the best model\n",
    "\n",
    "The visualization part is just possible, when X contains just one feature."
   ]
  },
  {
   "cell_type": "code",
   "execution_count": 21,
   "id": "3c082fc8-418e-4234-9ce9-2e82786f10c4",
   "metadata": {},
   "outputs": [],
   "source": [
    "Save = True"
   ]
  },
  {
   "cell_type": "code",
   "execution_count": 22,
   "id": "8a6ea401-1d6d-4ba2-af25-b6798943a556",
   "metadata": {},
   "outputs": [
    {
     "data": {
      "image/png": "[encoded data removed]",
      "text/plain": [
       "<Figure size 432x288 with 1 Axes>"
      ]
     },
     "metadata": {
      "needs_background": "light"
     },
     "output_type": "display_data"
    }
   ],
   "source": [
    "#show predicted points with linear model\n",
    "df_plot_sort = pd.DataFrame(df_test_x)\n",
    "df_plot_sort['reg'] =  y_test_pred_lm[:,0]\n",
    "df_plot_sort.sort_values(features_used[0],inplace = True)\n",
    "\n",
    "#show predicted points with linear model\n",
    "\n",
    "if (len(features_used)!=1):\n",
    "    warnings.warn(\"WARNING features_used should be of len 1 for this plot\")\n",
    "else:\n",
    "    plt.figure()\n",
    "    plt.plot(df_train_x,df_train_y, 'r.',markersize = 1,label = \"Train set\")\n",
    "    plt.plot(df_plot_sort[features_used[0]],df_plot_sort['reg'],color = 'black',label = \"Regression on test set\")\n",
    "    plt.ylabel(\"Nucleus size\")\n",
    "    plt.xlabel(features_used[0])    #WARNING features_used should be of len 1 for this plot\n",
    "    plt.title(\"Linear model\")\n",
    "    plt.legend()\n",
    "    #plt.yscale(\"log\")\n",
    "    #plt.xscale(\"log\")\n",
    "    if Save:\n",
    "        plt.savefig(\"../Images/task1/linear_model_\"+features_used[0]+\"_\"+TF+\".pdf\") \n",
    "    plt.show()"
   ]
  },
  {
   "cell_type": "code",
   "execution_count": 23,
   "id": "ffe06c14-d711-4b26-afc1-337c2aee9995",
   "metadata": {},
   "outputs": [
    {
     "data": {
      "image/png": "[encoded data removed]",
      "text/plain": [
       "<Figure size 432x288 with 1 Axes>"
      ]
     },
     "metadata": {
      "needs_background": "light"
     },
     "output_type": "display_data"
    }
   ],
   "source": [
    "#show predicted points with ridge model\n",
    "df_plot_sort_ridge = pd.DataFrame(df_test_x)\n",
    "df_plot_sort_ridge['reg'] =  y_test_pred_ridge[:,0]\n",
    "df_plot_sort_ridge.sort_values(features_used[0],inplace = True)\n",
    "\n",
    "if (len(features_used)!=1):\n",
    "    warnings.warn(\"WARNING features_used should be of len 1 for this plot\")\n",
    "else:\n",
    "    plt.figure()\n",
    "    plt.plot(df_train_x,df_train_y, 'r.',markersize = 1,label = \"Train set\")\n",
    "    plt.plot(df_plot_sort_ridge[features_used[0]],df_plot_sort_ridge['reg'],color = 'black',label = \"Regression on test set\")\n",
    "    plt.ylabel(\"Nucleus size\")\n",
    "    plt.ylim(0,df_train_y.patch_size.max())\n",
    "    plt.xlabel(features_used[0])    #WARNING features_used should be of len 1 for this plot\n",
    "    plt.title(\"Ridge regression model\")\n",
    "    plt.legend()\n",
    "    #plt.yscale(\"log\")\n",
    "    #plt.xscale(\"log\")\n",
    "    if Save:\n",
    "        plt.savefig(\"../Images/task1/ridge_model_\"+features_used[0]+\"_\"+TF+\".pdf\")\n",
    "    plt.show()\n",
    "#plt.savefig('ridge_original', dpi = 300)"
   ]
  }
 ],
 "metadata": {
  "colab": {
   "provenance": [
    {
     "file_id": "158pHXq8dG2em_g3xFihk0nOTNy6ecxOY",
     "timestamp": 1670264238282
    }
   ]
  },
  "gpuClass": "standard",
  "kernelspec": {
   "display_name": "Python 3 (ipykernel)",
   "language": "python",
   "name": "python3"
  },
  "language_info": {
   "codemirror_mode": {
    "name": "ipython",
    "version": 3
   },
   "file_extension": ".py",
   "mimetype": "text/x-python",
   "name": "python",
   "nbconvert_exporter": "python",
   "pygments_lexer": "ipython3",
   "version": "3.10.7"
  }
 },
 "nbformat": 4,
 "nbformat_minor": 5
}
