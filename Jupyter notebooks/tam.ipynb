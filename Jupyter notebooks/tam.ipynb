{
 "cells": [
  {
   "cell_type": "markdown",
   "id": "01148799-b3bb-4ded-856e-5dedb7af0eba",
   "metadata": {
    "colab": {
     "base_uri": "https://localhost:8080/"
    },
    "executionInfo": {
     "elapsed": 1172,
     "status": "ok",
     "timestamp": 1670264490534,
     "user": {
      "displayName": "Alexis Janin",
      "userId": "06183722824926644012"
     },
     "user_tz": -60
    },
    "id": "fIH5zV82ikCD",
    "outputId": "17045f43-dc86-4a45-fc64-9b6c09593125"
   },
   "source": [
    "gpu_info = !nvidia-smi\n",
    "gpu_info = '\\n'.join(gpu_info)\n",
    "if gpu_info.find('failed') >= 0:\n",
    "  print('Not connected to a GPU')\n",
    "else:\n",
    "  print(gpu_info)"
   ]
  },
  {
   "cell_type": "markdown",
   "id": "938b092c-d3e8-407b-8f69-72bdf0ab24d6",
   "metadata": {
    "colab": {
     "base_uri": "https://localhost:8080/"
    },
    "executionInfo": {
     "elapsed": 237,
     "status": "ok",
     "timestamp": 1670264494610,
     "user": {
      "displayName": "Alexis Janin",
      "userId": "06183722824926644012"
     },
     "user_tz": -60
    },
    "id": "PMX6b1fuik0W",
    "outputId": "53efa645-7fcc-4217-9f85-0d84e08cd5c4"
   },
   "source": [
    "from psutil import virtual_memory\n",
    "ram_gb = virtual_memory().total / 1e9\n",
    "print('Your runtime has {:.1f} gigabytes of available RAM\\n'.format(ram_gb))\n",
    "\n",
    "if ram_gb < 20:\n",
    "  print('Not using a high-RAM runtime')\n",
    "else:\n",
    "  print('You are using a high-RAM runtime!')"
   ]
  },
  {
   "cell_type": "markdown",
   "id": "c5ad331a-ceec-4bb8-9432-129b0f7d3ae3",
   "metadata": {
    "colab": {
     "base_uri": "https://localhost:8080/"
    },
    "executionInfo": {
     "elapsed": 5079,
     "status": "ok",
     "timestamp": 1670265864034,
     "user": {
      "displayName": "Alexis Janin",
      "userId": "06183722824926644012"
     },
     "user_tz": -60
    },
    "id": "vTvz9Ho5SDFV",
    "outputId": "38a6f9e2-8c74-4518-beff-c509c89c4041"
   },
   "source": [
    "!pip install cellpose"
   ]
  },
  {
   "cell_type": "markdown",
   "id": "842a6448-9985-4690-8370-a9f26b245f9c",
   "metadata": {
    "colab": {
     "base_uri": "https://localhost:8080/"
    },
    "executionInfo": {
     "elapsed": 10142,
     "status": "ok",
     "timestamp": 1670266045675,
     "user": {
      "displayName": "Alexis Janin",
      "userId": "06183722824926644012"
     },
     "user_tz": -60
    },
    "id": "kJPw7TghSUVR",
    "outputId": "9dcaab09-36a2-45f0-a3a4-609ec55af920"
   },
   "source": [
    "from google.colab import drive\n",
    "drive.mount('/content/gdrive',force_remount=True)"
   ]
  },
  {
   "cell_type": "code",
   "execution_count": 1,
   "id": "7880d81b-28e4-4e28-9d81-bb5833bd69c3",
   "metadata": {},
   "outputs": [],
   "source": [
    "# Import modules\n",
    "import numpy as np\n",
    "import time, os, sys, random\n",
    "from urllib.parse import urlparse\n",
    "import skimage.io\n",
    "import matplotlib.pyplot as plt\n",
    "import matplotlib as mpl\n",
    "from cellpose import models\n",
    "from cellpose.io import imread\n",
    "from cellpose import plot\n",
    "from skimage.util import img_as_ubyte\n",
    "import pandas as pd"
   ]
  },
  {
   "cell_type": "code",
   "execution_count": 2,
   "id": "3dd976f8-c328-411d-860b-995d6c65feb1",
   "metadata": {},
   "outputs": [],
   "source": [
    "import scipy\n",
    "from scipy import ndimage as ndi\n",
    "import cv2\n",
    "from skimage.morphology import square, dilation\n",
    "from sklearn.cluster import KMeans, DBSCAN\n",
    "# https://stackoverflow.com/questions/19970764/making-feature-vector-from-gabor-filters-for-classification\n",
    "# https://stackoverflow.com/questions/20608458/gabor-feature-extraction"
   ]
  },
  {
   "cell_type": "code",
   "execution_count": 3,
   "id": "75770f1e",
   "metadata": {
    "colab": {
     "base_uri": "https://localhost:8080/"
    },
    "executionInfo": {
     "elapsed": 27389,
     "status": "ok",
     "timestamp": 1670266220515,
     "user": {
      "displayName": "Alexis Janin",
      "userId": "06183722824926644012"
     },
     "user_tz": -60
    },
    "id": "75770f1e",
    "outputId": "87f32cc7-ce8d-462e-ec04-f0e03f941c3d"
   },
   "outputs": [
    {
     "name": "stdout",
     "output_type": "stream",
     "text": [
      "C:/Users/Claudia/Desktop/Master EPFL/machine learning/project_2/test\n"
     ]
    }
   ],
   "source": [
    "#------------------------------------------------------\n",
    "# Number of images we want to read. Only in test phase. If we want to read all images we will use len(Cherry_file) in for loop below\n",
    "nb_images = 1\n",
    "\n",
    "# Get path to folders containing images\n",
    "Image_Directory = \"C:/Users/Claudia/Desktop/Master EPFL/machine learning/project_2\" + \"/test\"\n",
    "#Image_Directory = r\"C:\\Users\\alexi\\EPFL\\MA3\\Machine_learning\\20151218_E14_BM_mTF8additionals_4\"  #Easier for me (Alexis) than finding of to get my path file nicely\n",
    "#Image_Directory = \"/content/gdrive/MyDrive/ML_2_transcripted_cherry/TF1\"\n",
    "# other folders: \n",
    "# \\\\20151218_E14_BM_mTF8additionals_4\n",
    "\n",
    "print(Image_Directory)\n",
    "\n",
    "# Calculate number of document-> array containing \n",
    "\n",
    "# Create Lists containing datapath to all images of Cherry/ Ypet files\n",
    "image_format = \"tif\"\n",
    "cherry_condition = \"TexasRed\"\n",
    "ypet_condition = \"YFP\"\n",
    "Cherry_file = []\n",
    "Ypet_file = []\n",
    "test = []\n",
    "\n",
    "# Walk through directory (call all files) and assign them to proper list\n",
    "for root, dirs, files in os.walk(Image_Directory, topdown=False): # root = given in Input, dirs = folders, files= files\n",
    "    for f in files:\n",
    "        if f.endswith(image_format) and cherry_condition in f: \n",
    "            test.append(f)\n",
    "            Cherry_file.append(os.path.join(root, f))\n",
    "        elif f.endswith(image_format) and ypet_condition in f: \n",
    "            Ypet_file.append(os.path.join(root, f))\n",
    "\n",
    "#assert len(Cherry_file) != len(Ypet_file), f\"There are {len(Cherry_file)} Cherry files and {len(Ypet_file)} Ypet files. The number has to be equal, check manually what's missing\"\n",
    "\n",
    "\n",
    "# Initialize lists containing cherry, ypet images. Length = nb_images or len(Cherry_file) if we want to read all images\n",
    "cherry_imgs = np.ndarray(nb_images,dtype = np.ndarray)\n",
    "ypet_imgs = np.ndarray(nb_images,dtype = np.ndarray)\n",
    "\n",
    "\n",
    "# Read image (We donnot add it in for loop above to enable reading subset of image)\n",
    "for i in range(nb_images): #len(Cherry_file):\n",
    "    cherry_imgs[i] = imread(Cherry_file[i])\n",
    "    ypet_imgs[i] = imread(Ypet_file[i])\n",
    "    \n",
    "cherry_imgs = cherry_imgs.tolist()\n",
    "ypet_imgs = ypet_imgs.tolist()"
   ]
  },
  {
   "cell_type": "code",
   "execution_count": 4,
   "id": "b09d67a3-1eb4-47a0-9d01-7c4f3d680639",
   "metadata": {},
   "outputs": [
    {
     "data": {
      "text/plain": [
       "<matplotlib.image.AxesImage at 0x248d4fc2370>"
      ]
     },
     "execution_count": 4,
     "metadata": {},
     "output_type": "execute_result"
    },
    {
     "data": {
      "image/png": "[encoded data removed]",
      "text/plain": [
       "<Figure size 432x288 with 1 Axes>"
      ]
     },
     "metadata": {
      "needs_background": "light"
     },
     "output_type": "display_data"
    }
   ],
   "source": [
    "plt.imshow(imread(Ypet_file[0]))"
   ]
  },
  {
   "cell_type": "code",
   "execution_count": null,
   "id": "1a71c78e",
   "metadata": {
    "colab": {
     "base_uri": "https://localhost:8080/"
    },
    "executionInfo": {
     "elapsed": 2080427,
     "status": "ok",
     "timestamp": 1670268481424,
     "user": {
      "displayName": "Alexis Janin",
      "userId": "06183722824926644012"
     },
     "user_tz": -60
    },
    "id": "1a71c78e",
    "outputId": "2712c8bf-2566-4b9f-a390-3843e97a681d"
   },
   "outputs": [],
   "source": [
    "# Definine parameters for cellpose module using nuclei modus\n",
    "# https://cellpose.readthedocs.io/en/latest/settings.html\n",
    "channels = [0,0] # Corresponds to greyscale image\n",
    "diameter = None # Model was trained on diameters of 17 pixels. None-> automated estimation of the diameter. Can be changed by hand later\n",
    "flow_threshold = 0.4 # maximum allowed error of the flows for each mask, default = 0.4\n",
    "gpu = False\n",
    "model_type='nuclei'\n",
    "\n",
    "# Set model\n",
    "model = models.Cellpose(gpu, model_type)\n",
    "\n",
    "# Nuclei segmentation of all images within cherry_imgs list\n",
    "masks, flows, styles, diams = model.eval(cherry_imgs, diameter=diameter, channels=channels, flow_threshold=flow_threshold, do_3D=False)\n"
   ]
  },
  {
   "cell_type": "code",
   "execution_count": null,
   "id": "K5e-n0lEosJH",
   "metadata": {
    "executionInfo": {
     "elapsed": 15884,
     "status": "ok",
     "timestamp": 1670269123554,
     "user": {
      "displayName": "Alexis Janin",
      "userId": "06183722824926644012"
     },
     "user_tz": -60
    },
    "id": "K5e-n0lEosJH"
   },
   "outputs": [],
   "source": [
    "'''\n",
    "from cellpose import io\n",
    "import os\n",
    "#os.mkdir(\"/content/gdrive/MyDrive/ML_2_transcripted_cherry/masks_TF1/A_1\")\n",
    "files_names = [\"/content/gdrive/MyDrive/ML_2_transcripted_cherry/masks_TF1/A_1/img_\"+str(i+1) for i in range(nb_images)]\n",
    "io.masks_flows_to_seg(cherry_imgs, masks, flows, diams, files_names, channels)'''"
   ]
  },
  {
   "cell_type": "code",
   "execution_count": null,
   "id": "39267371",
   "metadata": {
    "colab": {
     "base_uri": "https://localhost:8080/",
     "height": 345
    },
    "executionInfo": {
     "elapsed": 15912,
     "status": "ok",
     "timestamp": 1670263505470,
     "user": {
      "displayName": "Alexis Janin",
      "userId": "06183722824926644012"
     },
     "user_tz": -60
    },
    "id": "39267371",
    "outputId": "d8b75fe6-2db0-4264-ddbd-ca12fa06d001"
   },
   "outputs": [],
   "source": [
    "# Display results\n",
    "image_i = 0 # Number of image we want to display. Max value= nb_images or len(Cherry_file)\n",
    "fig = plt.figure(figsize=(24,8))\n",
    "plot.show_segmentation(fig, cherry_imgs[image_i], masks[image_i], flows[image_i][0], channels)\n",
    "plt.tight_layout()\n",
    "plt.show()"
   ]
  },
  {
   "cell_type": "code",
   "execution_count": null,
   "id": "70ef635b-afd7-414a-a943-abe29692bc2c",
   "metadata": {},
   "outputs": [],
   "source": [
    "# Try with first image: masks[0]\n",
    "masks_df =  pd.DataFrame(masks[0])   #Putting 1 here (when test_round = 2 completely changes the results)\n",
    "ypet_df = pd.DataFrame(ypet_imgs[0])\n",
    "range_s = np.arange(1,masks_df.to_numpy().max())  #IMAGE SPECIFIC: cases where cell are big enough (sell last cell of the notebook)\n",
    "columnname = [\"\" for i in range_s]\n",
    "patch_size = [0 for i in range_s]\n",
    "mean_intensity = [0 for i in range_s]\n",
    "sum_intensity = [0 for i in range_s]\n",
    "median_intensity = [0 for i in range_s]\n",
    "variance_intensity = [0 for i in range_s]\n",
    "\n",
    "#cut outliers - per image\n",
    "assert masks_df.shape == ypet_df.shape, f\"Shape of mask is {masks_df.shape} and the shape of ypet image is { ypet_df.shape}. The size has to be the same. Check if normalization is needed\"\n",
    "\n",
    "# Calculate patch size and corresponding ypet signal (mean) and store it into ypet_intensity\n",
    "for i in range_s : # masks_df.nunique().size \n",
    "    columnname[i-1] = \"patch_\" + str(i)                     #We should not forgot that there is a -1 here.\n",
    "    patch_size[i-1] = (masks_df == i).values.sum()\n",
    "    mean_intensity[i-1] = np.nanmean(ypet_df[masks_df==i])\n",
    "    #sum_intensity[i-1] = np.sum(ypet_df[masks_df==i])\n",
    "    #median_intensity[i-1] = np.nanmedian(ypet_df[masks_df==i])\n",
    "    #variance_intensity[i-1] = np.var(ypet_df[masks_df==i])"
   ]
  },
  {
   "cell_type": "code",
   "execution_count": null,
   "id": "45dffb1f-8d85-41a4-ab15-6a484a408fdb",
   "metadata": {},
   "outputs": [],
   "source": [
    "#cross validation with polynomial expansion\n",
    "import matplotlib.pyplot as plt \n",
    "from sklearn.linear_model import LinearRegression\n",
    "from sklearn.preprocessing import PolynomialFeatures\n",
    "from sklearn.metrics import r2_score\n",
    "from sklearn.metrics import mean_squared_error\n",
    "from sklearn.model_selection import cross_validate\n",
    "from sklearn.model_selection import train_test_split\n",
    "from sklearn.linear_model import RidgeCV\n",
    "import statsmodels.formula.api as smf\n",
    "import seaborn as sns\n",
    "import re\n",
    "import sklearn\n",
    "from sklearn.model_selection import train_test_split\n",
    "from sklearn.preprocessing import MinMaxScaler\n",
    "from sklearn.preprocessing import PolynomialFeatures\n",
    "from sklearn.preprocessing import scale\n",
    "from sklearn.feature_selection import RFE\n",
    "from sklearn.linear_model import LinearRegression\n",
    "from sklearn.model_selection import cross_val_score\n",
    "from sklearn.model_selection import KFold\n",
    "from sklearn.model_selection import GridSearchCV\n",
    "from sklearn.pipeline import make_pipeline\n",
    "import statsmodels.api as sm"
   ]
  },
  {
   "cell_type": "code",
   "execution_count": null,
   "id": "bc63c28b-c463-4b89-9e50-6a3de4ad53d7",
   "metadata": {
    "tags": []
   },
   "outputs": [],
   "source": [
    "df_train, df_test = train_test_split(ypet_intensity, train_size = 0.8, test_size = 0.2, random_state = 10)"
   ]
  },
  {
   "cell_type": "code",
   "execution_count": null,
   "id": "423a90f8-a027-4c51-9168-1afccfef3c1b",
   "metadata": {},
   "outputs": [],
   "source": [
    "df_train_x = df_train.drop('patch_size',axis=1)\n",
    "df_train_y = df_train[['patch_size']]\n",
    "df_test_x = df_test.drop('patch_size',axis=1)\n",
    "df_test_y = df_test[['patch_size']]"
   ]
  },
  {
   "cell_type": "markdown",
   "id": "7dff7411-9a4e-4536-8555-d1a02e58918b",
   "metadata": {},
   "source": [
    "Visualization of patch_size and mean intensity"
   ]
  },
  {
   "cell_type": "code",
   "execution_count": null,
   "id": "e6f6f819-0fe5-4832-92a5-3c73dea7d200",
   "metadata": {},
   "outputs": [],
   "source": [
    "sns.regplot(x=\"patch_size\", y=\"mean_intensity\", data=ypet_intensity, fit_reg=False)"
   ]
  },
  {
   "cell_type": "code",
   "execution_count": null,
   "id": "72b7f2a8-a888-492f-ba7c-2b2979d46f71",
   "metadata": {},
   "outputs": [],
   "source": [
    "#model to select\n",
    "maxdegree = 5 #To define is the maximum degree of the polynomial\n",
    "cross_validation_ridge_error = np.zeros(maxdegree-1)\n",
    "cross_validation_lm_error = np.zeros(maxdegree-1)\n",
    "\n",
    "#see which degree fits data the best for linear regression\n",
    "for d in range(1, maxdegree):\n",
    "    #polynomial feature expansion of x_train\n",
    "    x_poly_train = PolynomialFeatures(degree=d).fit_transform(df_train_x)\n",
    "    #apply linear regression model and cross-validation for alpha-ridge regression\n",
    "    lr = LinearRegression()\n",
    "    rr = RidgeCV(alphas=[1e-3, 1e-2, 1e-1, 1])\n",
    "    #apply cross validation\n",
    "    cve = cross_validate(lr,x_poly_train,df_train_y,scoring='neg_mean_squared_error', cv=5, return_train_score=True)\n",
    "    crr = cross_validate(rr,x_poly_train,df_train_y,scoring='neg_mean_squared_error', cv=5, return_train_score=True)\n",
    "    #make array for cross validation with linear model and for ridge regression\n",
    "    cross_validation_lm_error[d-1] = np.mean(np.absolute(cve['test_score']))\n",
    "    cross_validation_ridge_error[d-1] = np.mean(np.absolute(crr['test_score']))"
   ]
  },
  {
   "cell_type": "code",
   "execution_count": null,
   "id": "b513f7db-c7c8-4712-a1aa-ac854cad38e3",
   "metadata": {},
   "outputs": [],
   "source": [
    "index_min_lm = np.argmin(cross_validation_lm_error)\n",
    "index_min_ridge = np.argmin(cross_validation_ridge_error)\n",
    "x_poly_test = PolynomialFeatures(degree=index_min_lm+1).fit_transform(df_test_x)\n",
    "x_poly_train = PolynomialFeatures(degree=index_min_lm+1).fit_transform(df_train_x)\n",
    "\n",
    "x_poly_train_df = pd.DataFrame(x_poly_train)\n",
    "x_poly_test_df = pd.DataFrame(x_poly_test)\n",
    "\n",
    "#make linear model\n",
    "model_lm = LinearRegression().fit(x_poly_train_df, df_train_y)\n",
    "model_ridge = RidgeCV(alphas=[1e-3, 1e-2, 1e-1, 1]).fit(x_poly_train_df, df_train_y)\n",
    "\n",
    "#train error\n",
    "y_train_pred_lm = model_lm.predict(x_poly_train)\n",
    "mse_train_lm = mean_squared_error(df_train_y,y_train_pred_lm)\n",
    "y_train_pred_ridge = model_ridge.predict(x_poly_train)\n",
    "mse_train_ridge = mean_squared_error(df_train_y,y_train_pred_ridge)\n",
    "\n",
    "#test error\n",
    "y_test_pred_lm = model_lm.predict(x_poly_test_df)\n",
    "mse_test_lm = mean_squared_error(df_test_y,y_test_pred_lm)\n",
    "y_test_pred_ridge = model_ridge.predict(x_poly_test_df)\n",
    "mse_test_ridge = mean_squared_error(df_test_y,y_test_pred_ridge)"
   ]
  },
  {
   "cell_type": "code",
   "execution_count": null,
   "id": "001e6a73-6c59-4c8f-bc14-4a2d2d32fde1",
   "metadata": {},
   "outputs": [],
   "source": [
    "#show predicted things\n",
    "plt.plot(df_train_y,df_train_x, 'ro')\n",
    "plt.plot(y_test_pred_lm,df_test_x, 'ro',color = 'black')\n",
    "#plt.yscale(\"log\")\n",
    "#plt.xscale(\"log\")\n",
    "plt.show()"
   ]
  },
  {
   "cell_type": "code",
   "execution_count": null,
   "id": "00dae5bc-a037-4eed-862c-8c0804f65621",
   "metadata": {},
   "outputs": [],
   "source": [
    "#show predicted things\n",
    "plt.plot(df_train_y,df_train_x, 'ro')\n",
    "plt.plot(y_test_pred_ridge,df_test_x, 'ro',color = 'black')\n",
    "#plt.yscale(\"log\")\n",
    "plt.xscale(\"log\")\n",
    "plt.show()"
   ]
  },
  {
   "cell_type": "code",
   "execution_count": null,
   "id": "e4c9ae5a-c72f-4544-9937-6ad0f2c5d4df",
   "metadata": {},
   "outputs": [],
   "source": [
    "if mse_test_ridge >= mse_test_lm:\n",
    "    print('take linear regression')\n",
    "    print('coefficients: ',model_lm.coef_)\n",
    "    print('intercept: ',model_lm.intercept_)\n",
    "    \n",
    "else:\n",
    "    print('take ridge regression')\n",
    "    print('coefficients: ',model_ridge.coef_)\n",
    "    print('intercept: ',model_ridge.intercept_)\n",
    "    print('alpha: ',model_ridge.alpha_)"
   ]
  },
  {
   "cell_type": "code",
   "execution_count": null,
   "id": "d74b4188-c9a7-4b0c-9d86-cb2c536e9301",
   "metadata": {},
   "outputs": [],
   "source": []
  }
 ],
 "metadata": {
  "colab": {
   "provenance": [
    {
     "file_id": "158pHXq8dG2em_g3xFihk0nOTNy6ecxOY",
     "timestamp": 1670264238282
    }
   ]
  },
  "gpuClass": "standard",
  "kernelspec": {
   "display_name": "Python 3 (ipykernel)",
   "language": "python",
   "name": "python3"
  },
  "language_info": {
   "codemirror_mode": {
    "name": "ipython",
    "version": 3
   },
   "file_extension": ".py",
   "mimetype": "text/x-python",
   "name": "python",
   "nbconvert_exporter": "python",
   "pygments_lexer": "ipython3",
   "version": "3.9.7"
  }
 },
 "nbformat": 4,
 "nbformat_minor": 5
}
